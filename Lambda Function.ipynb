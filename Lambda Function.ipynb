{
 "cells": [
  {
   "cell_type": "markdown",
   "id": "b9fcce69-01ae-4e03-bbad-b0149e2c1489",
   "metadata": {},
   "source": [
    "### Python Functions"
   ]
  },
  {
   "cell_type": "markdown",
   "id": "49c212ff-aa37-4dab-93ec-668aa7a9602b",
   "metadata": {},
   "source": [
    "- Function means executing the logic many times but writing the logic only one time:\n",
    "\n",
    "- syntax for python function:\n",
    "- \n",
    "        - refers with keyword def\n",
    "        - inside write the logic\n",
    "        - call from anywhere"
   ]
  },
  {
   "cell_type": "code",
   "execution_count": 4,
   "id": "d6f7527d-73b5-473e-916e-0c44aeb0d2d2",
   "metadata": {},
   "outputs": [
    {
     "name": "stdout",
     "output_type": "stream",
     "text": [
      "30\n"
     ]
    }
   ],
   "source": [
    "# find addition of 2 numbers without function:\n",
    "a = 10\n",
    "b = 20\n",
    "\n",
    "print(a+b)"
   ]
  },
  {
   "cell_type": "code",
   "execution_count": 5,
   "id": "76d6763e-ad95-4778-b441-b119741b5dd3",
   "metadata": {},
   "outputs": [
    {
     "name": "stdout",
     "output_type": "stream",
     "text": [
      "90\n"
     ]
    }
   ],
   "source": [
    "a = 40\n",
    "b = 50\n",
    "\n",
    "print(a+b)"
   ]
  },
  {
   "cell_type": "code",
   "execution_count": 6,
   "id": "ecf2d365-d2ad-45a1-bb1e-1d76af11256f",
   "metadata": {},
   "outputs": [
    {
     "name": "stdout",
     "output_type": "stream",
     "text": [
      "300\n"
     ]
    }
   ],
   "source": [
    "a = 100\n",
    "b = 200\n",
    "\n",
    "print(a+b)"
   ]
  },
  {
   "cell_type": "code",
   "execution_count": 7,
   "id": "829e7c16-a4dc-436a-8bdf-9e9fc35f4c84",
   "metadata": {},
   "outputs": [],
   "source": [
    "# to make it easy and code reusability:\n",
    "# reusability = means use the code many times but write the code only one time"
   ]
  },
  {
   "cell_type": "code",
   "execution_count": 8,
   "id": "8e474801-7548-4863-a3c7-6cd40a55957c",
   "metadata": {},
   "outputs": [],
   "source": [
    "# create a function and write the logic only one time but i can use it many times"
   ]
  },
  {
   "cell_type": "code",
   "execution_count": 9,
   "id": "86127669-4b82-47c4-b547-bc45a31f5368",
   "metadata": {},
   "outputs": [],
   "source": [
    "# addition of 2 numbers using function:"
   ]
  },
  {
   "cell_type": "code",
   "execution_count": 10,
   "id": "f7e3ee6c-b82d-4390-8b50-bb0782f8412f",
   "metadata": {},
   "outputs": [],
   "source": [
    "def rahul():\n",
    "    print('I am staying in delhi')"
   ]
  },
  {
   "cell_type": "code",
   "execution_count": 11,
   "id": "f6ab1c03-01e7-42da-92d5-50c548ea070b",
   "metadata": {},
   "outputs": [
    {
     "name": "stdout",
     "output_type": "stream",
     "text": [
      "I am staying in delhi\n"
     ]
    }
   ],
   "source": [
    "rahul() # i am calling a function nae rahul"
   ]
  },
  {
   "cell_type": "code",
   "execution_count": 1,
   "id": "b847dc81-c4c6-46fd-8107-2f63e6828519",
   "metadata": {},
   "outputs": [],
   "source": [
    "def rahul():\n",
    "    print(c+d)"
   ]
  },
  {
   "cell_type": "code",
   "execution_count": 2,
   "id": "966bde77-7488-41df-99f3-637fca253f74",
   "metadata": {},
   "outputs": [
    {
     "name": "stdout",
     "output_type": "stream",
     "text": [
      "500\n"
     ]
    }
   ],
   "source": [
    "c = 200\n",
    "d = 300\n",
    "rahul()"
   ]
  },
  {
   "cell_type": "code",
   "execution_count": 3,
   "id": "c2b61916-8875-47fa-8cc7-7d89c394a30c",
   "metadata": {},
   "outputs": [],
   "source": [
    "# Now lets write the code:"
   ]
  },
  {
   "cell_type": "code",
   "execution_count": 8,
   "id": "4aab15ad-9bec-4281-ba43-84deb83bacf4",
   "metadata": {},
   "outputs": [],
   "source": [
    "def kiran(a1 , b1): # now a1 is 10 and b1 is 20\n",
    "    print(a1 + b1)"
   ]
  },
  {
   "cell_type": "code",
   "execution_count": 9,
   "id": "fd1809f1-2976-406d-aa9f-dfa34481da0c",
   "metadata": {},
   "outputs": [
    {
     "name": "stdout",
     "output_type": "stream",
     "text": [
      "30\n"
     ]
    }
   ],
   "source": [
    "kiran(10,20)"
   ]
  },
  {
   "cell_type": "code",
   "execution_count": 10,
   "id": "ee49c156-dc3d-4206-989e-e5ffa075ba7b",
   "metadata": {},
   "outputs": [
    {
     "name": "stdout",
     "output_type": "stream",
     "text": [
      "300\n"
     ]
    }
   ],
   "source": [
    "# again i will call \n",
    "kiran(100 , 200)"
   ]
  },
  {
   "cell_type": "code",
   "execution_count": 11,
   "id": "ce97c638-b836-49e2-a061-29a3ff7c84ab",
   "metadata": {},
   "outputs": [
    {
     "name": "stdout",
     "output_type": "stream",
     "text": [
      "3000\n"
     ]
    }
   ],
   "source": [
    "kiran(1000,2000)"
   ]
  },
  {
   "cell_type": "code",
   "execution_count": 15,
   "id": "b2b83c32-d03a-4a1d-bf96-b79ed1647938",
   "metadata": {},
   "outputs": [
    {
     "name": "stdout",
     "output_type": "stream",
     "text": [
      "130\n"
     ]
    }
   ],
   "source": [
    "# let's explore more examples\n",
    "\n",
    "c = 30\n",
    "d = 100\n",
    "kiran(c,d) # (30,100)"
   ]
  },
  {
   "cell_type": "code",
   "execution_count": 19,
   "id": "3b7421b1-1132-47b5-b4bc-49ef870de554",
   "metadata": {},
   "outputs": [
    {
     "name": "stdout",
     "output_type": "stream",
     "text": [
      "python data science\n"
     ]
    }
   ],
   "source": [
    "a = 'python '\n",
    "b  = 'data science'\n",
    "print(a + b)"
   ]
  },
  {
   "cell_type": "code",
   "execution_count": 21,
   "id": "a19fa1a0-6b96-4f4f-b27f-7096eb696940",
   "metadata": {},
   "outputs": [
    {
     "name": "stdout",
     "output_type": "stream",
     "text": [
      "python data science\n"
     ]
    }
   ],
   "source": [
    "kiran(a,b) # calling functions"
   ]
  },
  {
   "cell_type": "code",
   "execution_count": 22,
   "id": "5ad161f6-a363-4571-a5cd-4fd81e18c391",
   "metadata": {},
   "outputs": [],
   "source": [
    "# find the evn numbers and odd numbers from 1 to 20 using functions:\n"
   ]
  },
  {
   "cell_type": "code",
   "execution_count": 29,
   "id": "61a645ad-beab-458c-a5be-99ac21a4f697",
   "metadata": {},
   "outputs": [],
   "source": [
    "def even_and_odd(starting , ending):\n",
    "    for i in range(starting, ending):\n",
    "        if i % 2 == 0:\n",
    "            print(i, 'even')\n",
    "        else:\n",
    "            print(i, 'odd')"
   ]
  },
  {
   "cell_type": "code",
   "execution_count": 30,
   "id": "9c46ec54-1ee7-4afc-b9f4-7379e22e4e05",
   "metadata": {},
   "outputs": [
    {
     "name": "stdout",
     "output_type": "stream",
     "text": [
      "1 odd\n",
      "2 even\n",
      "3 odd\n",
      "4 even\n",
      "5 odd\n",
      "6 even\n",
      "7 odd\n",
      "8 even\n",
      "9 odd\n",
      "10 even\n",
      "11 odd\n",
      "12 even\n",
      "13 odd\n",
      "14 even\n",
      "15 odd\n",
      "16 even\n",
      "17 odd\n",
      "18 even\n",
      "19 odd\n",
      "20 even\n"
     ]
    }
   ],
   "source": [
    "even_and_odd(1,21)"
   ]
  },
  {
   "cell_type": "code",
   "execution_count": 31,
   "id": "2a74224e-0b60-48f1-a568-dc413e01b51c",
   "metadata": {},
   "outputs": [],
   "source": [
    "# pls check the function while passing parameters"
   ]
  },
  {
   "cell_type": "code",
   "execution_count": 32,
   "id": "c983fede-efef-43bd-9e5d-e097ee003300",
   "metadata": {},
   "outputs": [],
   "source": [
    "def palindrome(number):\n",
    "    temp = number\n",
    "    count = 0\n",
    "    while number > 0:\n",
    "        res = number % 10\n",
    "        count = (count * 10) + res\n",
    "        number = number // 10\n",
    "        if temp == count:\n",
    "            print(count , 'It is a Palindrome number')\n",
    "        else:\n",
    "            print(count , 'Not a Palindrome number')"
   ]
  },
  {
   "cell_type": "code",
   "execution_count": 33,
   "id": "5c4db5d3-be7c-4b9e-af89-7f96f4015cce",
   "metadata": {},
   "outputs": [
    {
     "name": "stdout",
     "output_type": "stream",
     "text": [
      "1 Not a Palindrome number\n",
      "12 Not a Palindrome number\n",
      "121 It is a Palindrome number\n"
     ]
    }
   ],
   "source": [
    "palindrome(121)"
   ]
  },
  {
   "cell_type": "code",
   "execution_count": 34,
   "id": "3babceeb-4c74-42b0-b675-0bd1d79f750c",
   "metadata": {},
   "outputs": [
    {
     "name": "stdout",
     "output_type": "stream",
     "text": [
      "1 Not a Palindrome number\n",
      "14 Not a Palindrome number\n",
      "145 Not a Palindrome number\n"
     ]
    }
   ],
   "source": [
    "palindrome(541)"
   ]
  },
  {
   "cell_type": "code",
   "execution_count": 35,
   "id": "c00a4a21-0446-41e5-8d00-08e6433fda65",
   "metadata": {},
   "outputs": [],
   "source": [
    "def add (value = 200):\n",
    "    print(value)"
   ]
  },
  {
   "cell_type": "code",
   "execution_count": 36,
   "id": "4c5dd941-7d2f-4efd-8607-026e11cf634e",
   "metadata": {},
   "outputs": [
    {
     "name": "stdout",
     "output_type": "stream",
     "text": [
      "100\n"
     ]
    }
   ],
   "source": [
    "value = 100\n",
    "add(value)"
   ]
  },
  {
   "cell_type": "code",
   "execution_count": 37,
   "id": "fdcc6755-54da-49ba-b9c0-263258c11bee",
   "metadata": {},
   "outputs": [],
   "source": [
    "# few more examples:\n",
    "\n",
    "def examination(physics=1000,social=2000,maths=3000):\n",
    "    print(physics,maths,social)\n"
   ]
  },
  {
   "cell_type": "code",
   "execution_count": 40,
   "id": "50645116-e796-43a5-8f90-7ccc5bfc80d9",
   "metadata": {},
   "outputs": [
    {
     "name": "stdout",
     "output_type": "stream",
     "text": [
      "40 60 70\n"
     ]
    }
   ],
   "source": [
    "physics=40\n",
    "maths=60\n",
    "social=70\n",
    "examination(physics, maths , social)"
   ]
  },
  {
   "cell_type": "code",
   "execution_count": 39,
   "id": "826639da-0ddd-4a89-a56a-0d873caf3362",
   "metadata": {},
   "outputs": [],
   "source": [
    "# def <function_name>(parameters or attributes)"
   ]
  },
  {
   "cell_type": "code",
   "execution_count": 41,
   "id": "4daad661-0d10-4c41-a005-d091e2e848d4",
   "metadata": {},
   "outputs": [],
   "source": [
    "# return keyword: To let a function return a value, use the return statement:"
   ]
  },
  {
   "cell_type": "code",
   "execution_count": 42,
   "id": "8e4d54df-849f-4892-8c53-e02d8fadc600",
   "metadata": {},
   "outputs": [],
   "source": [
    "def square(number):\n",
    "    print(number*number)"
   ]
  },
  {
   "cell_type": "code",
   "execution_count": 43,
   "id": "31a5b01e-02c8-46cc-9883-5dcbb95185ef",
   "metadata": {},
   "outputs": [
    {
     "name": "stdout",
     "output_type": "stream",
     "text": [
      "25\n"
     ]
    }
   ],
   "source": [
    "square(5)"
   ]
  },
  {
   "cell_type": "code",
   "execution_count": 46,
   "id": "2559e78f-1c64-4701-85db-3fcbbbdc0fd9",
   "metadata": {},
   "outputs": [],
   "source": [
    "# return\n",
    "def square(number):\n",
    "    return number*number"
   ]
  },
  {
   "cell_type": "code",
   "execution_count": 47,
   "id": "9bf24fa0-4c37-4bec-84f8-ed4c07a5f23b",
   "metadata": {},
   "outputs": [
    {
     "data": {
      "text/plain": [
       "25"
      ]
     },
     "execution_count": 47,
     "metadata": {},
     "output_type": "execute_result"
    }
   ],
   "source": [
    "square(5)"
   ]
  },
  {
   "cell_type": "code",
   "execution_count": 48,
   "id": "078cf329-1092-46de-9151-dde094fc7eca",
   "metadata": {},
   "outputs": [],
   "source": [
    "# the difference is if you use print you can use the value generated by function further:\n",
    "# but with return i can use the value"
   ]
  },
  {
   "cell_type": "code",
   "execution_count": 49,
   "id": "0345e37f-1804-4d3c-a550-46ef9f13e907",
   "metadata": {},
   "outputs": [],
   "source": [
    "def square(number):\n",
    "    print(number*number)"
   ]
  },
  {
   "cell_type": "code",
   "execution_count": 50,
   "id": "5299d036-55ef-4f23-8931-151617bff145",
   "metadata": {},
   "outputs": [
    {
     "name": "stdout",
     "output_type": "stream",
     "text": [
      "25\n"
     ]
    }
   ],
   "source": [
    "square(5)"
   ]
  },
  {
   "cell_type": "code",
   "execution_count": 52,
   "id": "085d69e8-ee25-45dc-be13-f73133722ab2",
   "metadata": {},
   "outputs": [],
   "source": [
    "# using return : can use the result:\n",
    "def square(number):\n",
    "    return number*number"
   ]
  },
  {
   "cell_type": "code",
   "execution_count": 56,
   "id": "1b37072d-5a24-4626-9472-b32f6f222d3a",
   "metadata": {},
   "outputs": [
    {
     "name": "stdout",
     "output_type": "stream",
     "text": [
      "25\n"
     ]
    }
   ],
   "source": [
    "sol = square(5)\n",
    "print(sol)"
   ]
  },
  {
   "cell_type": "code",
   "execution_count": 57,
   "id": "dfb0a2aa-6c14-496d-a8de-f51c34358d0e",
   "metadata": {},
   "outputs": [
    {
     "name": "stdout",
     "output_type": "stream",
     "text": [
      "odd\n"
     ]
    }
   ],
   "source": [
    "if sol % 2 == 0:\n",
    "    print('even')\n",
    "else:\n",
    "    print('odd')\n"
   ]
  },
  {
   "cell_type": "code",
   "execution_count": 67,
   "id": "3b870605-d961-4f1f-abc9-3d36f14b2dcd",
   "metadata": {},
   "outputs": [],
   "source": [
    "# return with multiple parameters\n",
    "# square and add\n",
    "def square(a,b):\n",
    "    value1 = a*a\n",
    "    value2 = b*b\n",
    "    return value1,value2"
   ]
  },
  {
   "cell_type": "code",
   "execution_count": 68,
   "id": "bade1a24-8996-42f3-9d4f-ff23ac2a0b56",
   "metadata": {},
   "outputs": [],
   "source": [
    "first , second = square(10 ,20)"
   ]
  },
  {
   "cell_type": "code",
   "execution_count": 69,
   "id": "ed90424e-d405-40fe-9861-7fcd5060eca0",
   "metadata": {},
   "outputs": [
    {
     "name": "stdout",
     "output_type": "stream",
     "text": [
      "100\n"
     ]
    }
   ],
   "source": [
    "print(first)"
   ]
  },
  {
   "cell_type": "code",
   "execution_count": 70,
   "id": "63e1dead-2ef9-4f40-b40c-eb6f2f34eb19",
   "metadata": {},
   "outputs": [
    {
     "name": "stdout",
     "output_type": "stream",
     "text": [
      "400\n"
     ]
    }
   ],
   "source": [
    "print(second)"
   ]
  },
  {
   "cell_type": "code",
   "execution_count": 71,
   "id": "5ebd874e-1be1-4bf6-986d-c2ef8bbbe3cb",
   "metadata": {},
   "outputs": [
    {
     "name": "stdout",
     "output_type": "stream",
     "text": [
      "500\n"
     ]
    }
   ],
   "source": [
    "print(first+second)"
   ]
  },
  {
   "cell_type": "code",
   "execution_count": 78,
   "id": "20a9ab32-ca8c-426e-b8a9-9f52ad1a139e",
   "metadata": {},
   "outputs": [],
   "source": [
    "div = second // first # 400/100 =100)400(4\n",
    "                               #    400\n",
    "                                #  ------\n",
    "                               #     0"
   ]
  },
  {
   "cell_type": "code",
   "execution_count": 79,
   "id": "060c35dc-13d8-418c-8289-8ecfb4b6824a",
   "metadata": {},
   "outputs": [
    {
     "name": "stdout",
     "output_type": "stream",
     "text": [
      "4\n"
     ]
    }
   ],
   "source": [
    "print(div)"
   ]
  },
  {
   "cell_type": "code",
   "execution_count": 1,
   "id": "543183dd-80d6-4a43-a752-11e5c03e74b9",
   "metadata": {},
   "outputs": [],
   "source": [
    "# will take a list of values and will find out values divisible by 2 and 3 and later add them"
   ]
  },
  {
   "cell_type": "code",
   "execution_count": 12,
   "id": "91ced20f-2d56-40fc-94d4-a5c1be54a3f7",
   "metadata": {},
   "outputs": [],
   "source": [
    "def use_case(a):\n",
    "    count_2 = 0\n",
    "    count_3 = 0\n",
    "    for i in a:\n",
    "        if i % 2 == 0:\n",
    "            count_2 = count_2 + i \n",
    "\n",
    "    for j in a:\n",
    "        if j % 3 == 0:\n",
    "            count_3 = count_3 + j\n",
    "\n",
    "    return count_2 , count_3\n"
   ]
  },
  {
   "cell_type": "code",
   "execution_count": 13,
   "id": "173b643d-c799-4758-a0d2-8a76b35632d4",
   "metadata": {},
   "outputs": [
    {
     "name": "stdout",
     "output_type": "stream",
     "text": [
      "382\n"
     ]
    }
   ],
   "source": [
    "a = [1,2,3,4,5,6,7,100,87,55,54,23,22,44]\n",
    "sol_1 , sol_2 = use_case(a)\n",
    "print(sol_1+sol_2)"
   ]
  },
  {
   "cell_type": "code",
   "execution_count": 14,
   "id": "c95ba303-cca3-4ac3-afea-127b8ed1ec8e",
   "metadata": {},
   "outputs": [
    {
     "name": "stdout",
     "output_type": "stream",
     "text": [
      "450\n"
     ]
    }
   ],
   "source": [
    "a = [10,20,30,40,50,40,40,60,70]\n",
    "sol_1 , sol_2 = use_case(a)\n",
    "print(sol_1+sol_2)"
   ]
  },
  {
   "cell_type": "code",
   "execution_count": 15,
   "id": "8450d4fc-872b-466d-9f26-5a3a5dd7e461",
   "metadata": {},
   "outputs": [],
   "source": [
    "# find the count of each of character in ur name using functions and output should be in dictionary"
   ]
  },
  {
   "cell_type": "code",
   "execution_count": 3,
   "id": "1787518e-bf59-4412-a186-277b251d54c6",
   "metadata": {},
   "outputs": [],
   "source": [
    "def exercise(a):\n",
    "    empty_dict = {}\n",
    "    for i in a:\n",
    "        if i in empty_dict.keys():\n",
    "            empty_dict[i] = empty_dict[i] + 1\n",
    "        else:\n",
    "           \n",
    "            empty_dict[i] = 1 \n",
    "        \n",
    "    return empty_dict"
   ]
  },
  {
   "cell_type": "code",
   "execution_count": 4,
   "id": "95bd4b2f-d81e-4886-b0f3-3615be708868",
   "metadata": {},
   "outputs": [
    {
     "name": "stdout",
     "output_type": "stream",
     "text": [
      "{'m': 1, 'o': 1, 'h': 1, 'a': 3, 'n': 1, ' ': 1, 'p': 1, 'r': 1, 'i': 1, 'y': 1}\n"
     ]
    }
   ],
   "source": [
    "a = 'mohana priya'\n",
    "result = exercise(a)\n",
    "print(result)\n",
    "    "
   ]
  },
  {
   "cell_type": "code",
   "execution_count": 6,
   "id": "860c0875-20bd-49a5-ab85-b2b76ca20e35",
   "metadata": {},
   "outputs": [],
   "source": [
    "# not and or in: keywords"
   ]
  },
  {
   "cell_type": "code",
   "execution_count": 8,
   "id": "647b96fc-75dd-4875-97cb-7d7acecbb808",
   "metadata": {},
   "outputs": [
    {
     "name": "stdout",
     "output_type": "stream",
     "text": [
      "False\n"
     ]
    }
   ],
   "source": [
    "a = 'kamal'\n",
    "print('m' not in a)"
   ]
  },
  {
   "cell_type": "code",
   "execution_count": 9,
   "id": "6979c49f-1969-42ce-be7c-93057d4e2ddf",
   "metadata": {},
   "outputs": [],
   "source": [
    "# and means both conditions should be true\n",
    "# or means one satisfies means ok"
   ]
  },
  {
   "cell_type": "code",
   "execution_count": 10,
   "id": "6c6ebfa8-4a77-4b9e-a056-517140594a2d",
   "metadata": {},
   "outputs": [],
   "source": [
    "# find the numbers which are divisible by 2 and 3 from 1 to 10"
   ]
  },
  {
   "cell_type": "code",
   "execution_count": 14,
   "id": "03e3eebd-88db-4a6a-8489-d827ba695c47",
   "metadata": {},
   "outputs": [
    {
     "name": "stdout",
     "output_type": "stream",
     "text": [
      "2\n",
      "3\n",
      "4\n",
      "6\n",
      "8\n",
      "9\n",
      "10\n"
     ]
    }
   ],
   "source": [
    "for i in range(1,11):\n",
    "    if i % 2 == 0 or i % 3 == 0:\n",
    "        print(i)\n"
   ]
  },
  {
   "cell_type": "code",
   "execution_count": 15,
   "id": "f7ab35e7-9e48-4055-9f3b-d01c7d8f7d2c",
   "metadata": {},
   "outputs": [
    {
     "name": "stdout",
     "output_type": "stream",
     "text": [
      "6\n"
     ]
    }
   ],
   "source": [
    "for i in range(1,11):\n",
    "    if i % 2 == 0 and i % 3 == 0:\n",
    "        print(i)\n"
   ]
  },
  {
   "cell_type": "code",
   "execution_count": 16,
   "id": "6df0516e-5b7f-4069-8c84-452b7921ef42",
   "metadata": {},
   "outputs": [],
   "source": [
    "# from 12 to 51 find the numbers which are divisible by 3 and 5\n",
    "# output = 15 , 30 , 45"
   ]
  },
  {
   "cell_type": "code",
   "execution_count": 17,
   "id": "342a1fd3-5093-4ceb-acd6-d1ae6365d4a9",
   "metadata": {},
   "outputs": [
    {
     "name": "stdout",
     "output_type": "stream",
     "text": [
      "15\n",
      "30\n",
      "45\n"
     ]
    }
   ],
   "source": [
    "for i in range(12 ,51):\n",
    "    if i % 3 == 0 and i % 5 == 0:\n",
    "        print(i)"
   ]
  },
  {
   "cell_type": "markdown",
   "id": "822535cf-e738-4ca5-9bca-982f98d36e07",
   "metadata": {},
   "source": [
    "### LAMBDA FUNCTIONS"
   ]
  },
  {
   "cell_type": "code",
   "execution_count": 18,
   "id": "189f8f14-3137-4085-b0cd-563711f0d1ff",
   "metadata": {},
   "outputs": [],
   "source": [
    "# for normal function we will use function name\n",
    "# but lambda function has no function name\n",
    "#lambda function is an anonymous function [anonymous function: means there will be no function name]\n",
    "# lambda function syntax will be [lambda arguments : exprtessions]\n",
    "# both function and lambda function is same but lambda function has no function name and we need to write code in single line which is very difficult\n",
    "# official documentation: python lambda documentation"
   ]
  },
  {
   "cell_type": "code",
   "execution_count": 20,
   "id": "da3ced7e-b8dc-4d54-9808-75f4242140c6",
   "metadata": {},
   "outputs": [
    {
     "data": {
      "text/plain": [
       "30"
      ]
     },
     "execution_count": 20,
     "metadata": {},
     "output_type": "execute_result"
    }
   ],
   "source": [
    "sol = lambda x , y : x + y\n",
    "\n",
    "a = 10 \n",
    "b = 20\n",
    "sol(a,b)"
   ]
  },
  {
   "cell_type": "code",
   "execution_count": 21,
   "id": "93df835b-07c6-4f4c-a804-802dcaaf9366",
   "metadata": {},
   "outputs": [],
   "source": [
    "# find the cube of number"
   ]
  },
  {
   "cell_type": "code",
   "execution_count": 22,
   "id": "76baf3c4-54bc-411f-b0d0-13842dcae8eb",
   "metadata": {},
   "outputs": [
    {
     "data": {
      "text/plain": [
       "125"
      ]
     },
     "execution_count": 22,
     "metadata": {},
     "output_type": "execute_result"
    }
   ],
   "source": [
    "sol = lambda x : x * x * x\n",
    "number = 5\n",
    "sol(number)\n"
   ]
  },
  {
   "cell_type": "code",
   "execution_count": 1,
   "id": "86e97fd0-2457-4efa-a7b3-6eb211df0f19",
   "metadata": {},
   "outputs": [
    {
     "name": "stdout",
     "output_type": "stream",
     "text": [
      "35\n"
     ]
    }
   ],
   "source": [
    "Minimum = lambda x , y : x if (x < y) else y\n",
    "\n",
    "print(Minimum(35 , 74))"
   ]
  },
  {
   "cell_type": "code",
   "execution_count": 2,
   "id": "f6381b8a-5fdb-4c1f-a6a8-0fc3903aec99",
   "metadata": {},
   "outputs": [],
   "source": [
    "# write 2 table using functions and lambda functions:"
   ]
  },
  {
   "cell_type": "code",
   "execution_count": 12,
   "id": "45f685ed-4fe5-4f00-8b2e-cd5e83273bd0",
   "metadata": {},
   "outputs": [],
   "source": [
    "# functions:\n",
    "\n",
    "def table(number):\n",
    "    for i in range(1,11):\n",
    "        print(number,'*', i , '=', number * i)"
   ]
  },
  {
   "cell_type": "code",
   "execution_count": 13,
   "id": "9593b51e-e006-4aab-ae63-400924755496",
   "metadata": {},
   "outputs": [
    {
     "name": "stdout",
     "output_type": "stream",
     "text": [
      "2 * 1 = 2\n",
      "2 * 2 = 4\n",
      "2 * 3 = 6\n",
      "2 * 4 = 8\n",
      "2 * 5 = 10\n",
      "2 * 6 = 12\n",
      "2 * 7 = 14\n",
      "2 * 8 = 16\n",
      "2 * 9 = 18\n",
      "2 * 10 = 20\n"
     ]
    }
   ],
   "source": [
    "table(number = 2)"
   ]
  },
  {
   "cell_type": "code",
   "execution_count": 14,
   "id": "9e918a40-fb1c-4efb-b195-3cb111026bb8",
   "metadata": {},
   "outputs": [
    {
     "name": "stdout",
     "output_type": "stream",
     "text": [
      "2 * 1 = 2\n",
      "2 * 2 = 4\n",
      "2 * 3 = 6\n",
      "2 * 4 = 8\n",
      "2 * 5 = 10\n",
      "2 * 6 = 12\n",
      "2 * 7 = 14\n",
      "2 * 8 = 16\n",
      "2 * 9 = 18\n",
      "2 * 10 = 20\n"
     ]
    }
   ],
   "source": [
    "# same but use lambda function:\n",
    "sol = lambda x,y : x*y\n",
    "\n",
    "number = 2\n",
    "for i in range(1,11):\n",
    "    print(number, '*',i,'=',sol(number,i))"
   ]
  },
  {
   "cell_type": "code",
   "execution_count": null,
   "id": "72ea4a2e-d470-4e47-b956-ddf1d3b71a12",
   "metadata": {},
   "outputs": [],
   "source": []
  }
 ],
 "metadata": {
  "kernelspec": {
   "display_name": "Python 3 (ipykernel)",
   "language": "python",
   "name": "python3"
  },
  "language_info": {
   "codemirror_mode": {
    "name": "ipython",
    "version": 3
   },
   "file_extension": ".py",
   "mimetype": "text/x-python",
   "name": "python",
   "nbconvert_exporter": "python",
   "pygments_lexer": "ipython3",
   "version": "3.11.7"
  }
 },
 "nbformat": 4,
 "nbformat_minor": 5
}
