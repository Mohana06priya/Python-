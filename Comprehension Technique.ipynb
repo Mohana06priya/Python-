{
 "cells": [
  {
   "cell_type": "markdown",
   "id": "83293e74-0aeb-4f2d-a749-e5ad05c8df23",
   "metadata": {},
   "source": [
    "## MAP , FILTER AND REDUCE"
   ]
  },
  {
   "cell_type": "code",
   "execution_count": 20,
   "id": "574f13ce-19b0-4bdb-9313-0acc3c65a265",
   "metadata": {},
   "outputs": [],
   "source": [
    "# use to reduce the time for the user:"
   ]
  },
  {
   "cell_type": "code",
   "execution_count": 23,
   "id": "821f97c0-0e1e-4b61-a951-1ac1e069a3dd",
   "metadata": {},
   "outputs": [
    {
     "name": "stdout",
     "output_type": "stream",
     "text": [
      "2 4 6 8 10 "
     ]
    }
   ],
   "source": [
    "# find the even numbers between 1 to 10:\n",
    "\n",
    "for i in range(1,11):\n",
    "    if i % 2 == 0:\n",
    "        print(i , end = ' ')"
   ]
  },
  {
   "cell_type": "code",
   "execution_count": 28,
   "id": "e027c4eb-28d4-4ba1-b287-b6b6e94e73d7",
   "metadata": {},
   "outputs": [
    {
     "name": "stdout",
     "output_type": "stream",
     "text": [
      "2 4 6 8 10 "
     ]
    }
   ],
   "source": [
    "# find the even numbers between 1 to 10 using functions:\n",
    "def even_and_odd(): \n",
    "    for i in range(1,11):\n",
    "        if i % 2 == 0:\n",
    "            print(i , end = ' ')\n",
    "even_and_odd() # calling the function"
   ]
  },
  {
   "cell_type": "code",
   "execution_count": 29,
   "id": "6a3a2245-00f6-427d-a232-89e0a6d1f6d0",
   "metadata": {},
   "outputs": [],
   "source": [
    "# map = reduces work means there is no need of loops [everything taken care by map]\n",
    "# map = syntax (function , arguments)"
   ]
  },
  {
   "cell_type": "code",
   "execution_count": 31,
   "id": "72d5afb2-088a-488a-82cb-cdf962937e8b",
   "metadata": {},
   "outputs": [
    {
     "name": "stdout",
     "output_type": "stream",
     "text": [
      "['False', 'None', 'True', 'and', 'as', 'assert', 'async', 'await', 'break', 'class', 'continue', 'def', 'del', 'elif', 'else', 'except', 'finally', 'for', 'from', 'global', 'if', 'import', 'in', 'is', 'lambda', 'nonlocal', 'not', 'or', 'pass', 'raise', 'return', 'try', 'while', 'with', 'yield']\n"
     ]
    }
   ],
   "source": [
    "# finding the keywords in python:\n",
    "import keyword\n",
    "print(keyword.kwlist)"
   ]
  },
  {
   "cell_type": "code",
   "execution_count": 6,
   "id": "ad18aedd-6c97-4fbe-8208-22a4a2ef2d28",
   "metadata": {},
   "outputs": [],
   "source": [
    "# since map and filter are two things working for loops the solution is saved in memory"
   ]
  },
  {
   "cell_type": "code",
   "execution_count": 12,
   "id": "25c8c04e-e94c-46f4-adb9-07bf2592ba88",
   "metadata": {},
   "outputs": [],
   "source": [
    "# if condition not satisfies map function will returns none"
   ]
  },
  {
   "cell_type": "code",
   "execution_count": 10,
   "id": "0d2dfc69-e4a9-4e09-aa3e-d8e8277ffa74",
   "metadata": {},
   "outputs": [],
   "source": [
    "def map_fun(number):\n",
    "    if number % 2 == 0:\n",
    "        return number"
   ]
  },
  {
   "cell_type": "code",
   "execution_count": 11,
   "id": "b831d525-bd21-4b77-88f7-9b3213209c00",
   "metadata": {},
   "outputs": [
    {
     "name": "stdout",
     "output_type": "stream",
     "text": [
      "[10, 22, None, None, 98, None, None, None, 2, 8]\n"
     ]
    }
   ],
   "source": [
    "# map(function_name , values)\n",
    "a = [10,22,33,67,98,11,3,5,2,8] # some values\n",
    "sol = map(map_fun , [10,22,33,67,98,11,3,5,2,8])\n",
    "print(list(sol)) "
   ]
  },
  {
   "cell_type": "code",
   "execution_count": 38,
   "id": "7fe0febd-606b-455e-9a40-953dd5f8a944",
   "metadata": {},
   "outputs": [],
   "source": [
    "# <map object at 0x00000233F60700A0> this means memory location"
   ]
  },
  {
   "cell_type": "code",
   "execution_count": 13,
   "id": "99fefeef-7342-43b1-9f7c-053c2d1495c0",
   "metadata": {},
   "outputs": [
    {
     "name": "stdout",
     "output_type": "stream",
     "text": [
      "[1, 2, 3, 4, 5, 6, 7, 8, 9, 10, 11, 12, 13, 14, 15, 16, 17, 18, 19, 20]\n"
     ]
    }
   ],
   "source": [
    "# find even and odd:\n",
    "\n",
    "values = []\n",
    "for i in range(1,21):\n",
    "    values.append(i)\n",
    "print(values)"
   ]
  },
  {
   "cell_type": "code",
   "execution_count": 14,
   "id": "daadfed8-b6ee-4268-b130-1723f9beb4da",
   "metadata": {},
   "outputs": [],
   "source": [
    "def map_fun(number):\n",
    "    if number % 2 == 0:\n",
    "        return 'even' , number\n",
    "    else:\n",
    "        return 'odd' , number"
   ]
  },
  {
   "cell_type": "code",
   "execution_count": 15,
   "id": "3b413831-2469-4a40-9520-2629a98af415",
   "metadata": {},
   "outputs": [
    {
     "name": "stdout",
     "output_type": "stream",
     "text": [
      "[('odd', 1), ('even', 2), ('odd', 3), ('even', 4), ('odd', 5), ('even', 6), ('odd', 7), ('even', 8), ('odd', 9), ('even', 10), ('odd', 11), ('even', 12), ('odd', 13), ('even', 14), ('odd', 15), ('even', 16), ('odd', 17), ('even', 18), ('odd', 19), ('even', 20)]\n"
     ]
    }
   ],
   "source": [
    "sol = map(map_fun , values)\n",
    "print(list(sol))"
   ]
  },
  {
   "cell_type": "code",
   "execution_count": 16,
   "id": "259da6c0-bcf6-4535-af9c-c39bc2d4fb5a",
   "metadata": {},
   "outputs": [
    {
     "name": "stdout",
     "output_type": "stream",
     "text": [
      "[20, 30, 40, 50]\n"
     ]
    }
   ],
   "source": [
    "# lambda with map\n",
    "a = [10,20,30,40]\n",
    "sol = list(map(lambda x : x + 10 , a))\n",
    "print(sol)"
   ]
  },
  {
   "cell_type": "code",
   "execution_count": 17,
   "id": "3903f131-8f42-4801-a3d5-d41f4dbb97c2",
   "metadata": {},
   "outputs": [
    {
     "name": "stdout",
     "output_type": "stream",
     "text": [
      "[False, True, True, True]\n"
     ]
    }
   ],
   "source": [
    "a = [10,20,30,40]\n",
    "sol = list(map(lambda x : x > 10 , a))\n",
    "print(sol)"
   ]
  },
  {
   "cell_type": "code",
   "execution_count": 18,
   "id": "f3d654fc-beea-4bbe-9e15-53c9e3f0c4df",
   "metadata": {},
   "outputs": [],
   "source": [
    "# filter function:\n",
    "# for map and filter small difference is map gives none if satisfies but filter will not take into consideration"
   ]
  },
  {
   "cell_type": "code",
   "execution_count": 2,
   "id": "0866a2bb-47a6-414a-844c-39474cf9a5c4",
   "metadata": {},
   "outputs": [],
   "source": [
    "def map_fun(number):\n",
    "    if number % 2 == 0:\n",
    "        return number"
   ]
  },
  {
   "cell_type": "code",
   "execution_count": 3,
   "id": "61f6aca5-ad25-4f83-94aa-890ccbe6465f",
   "metadata": {},
   "outputs": [
    {
     "name": "stdout",
     "output_type": "stream",
     "text": [
      "[10, 22, 98, 2, 8]\n"
     ]
    }
   ],
   "source": [
    "# filter(function_name , values)\n",
    "\n",
    "a = [10,22,33,67,98,11,3,5,2,8] # some values\n",
    "sol = filter(map_fun , [10,22,33,67,98,11,3,5,2,8])\n",
    "print(list(sol)) # list keywords"
   ]
  },
  {
   "cell_type": "code",
   "execution_count": 6,
   "id": "442eea58-0d75-4177-8124-65fd2f57e630",
   "metadata": {},
   "outputs": [
    {
     "name": "stdout",
     "output_type": "stream",
     "text": [
      "[20, 30, 40]\n"
     ]
    }
   ],
   "source": [
    "# lambda with filter: filter takes only conditions and not math operations\n",
    "a = [10,20,30,40]\n",
    "sol = list(filter(lambda x : x - 10 , a))\n",
    "print(sol)"
   ]
  },
  {
   "cell_type": "code",
   "execution_count": 5,
   "id": "ea8e4c90-45f9-44f6-ae60-a52b712a939a",
   "metadata": {},
   "outputs": [
    {
     "name": "stdout",
     "output_type": "stream",
     "text": [
      "[20, 30, 40]\n"
     ]
    }
   ],
   "source": [
    "a = [10,20,30,40]\n",
    "sol = list(filter(lambda x : x > 10 , a))\n",
    "print(sol)"
   ]
  },
  {
   "cell_type": "code",
   "execution_count": 7,
   "id": "ab4ef2de-b4a5-4966-833a-f2bdc542b291",
   "metadata": {},
   "outputs": [],
   "source": [
    "# in real time these functions are really time consuming process:"
   ]
  },
  {
   "cell_type": "code",
   "execution_count": 1,
   "id": "acd16d54-c30a-4263-a63f-faa34a321829",
   "metadata": {},
   "outputs": [],
   "source": [
    "# Reduce function:\n",
    "\n",
    "from functools import reduce"
   ]
  },
  {
   "cell_type": "code",
   "execution_count": 3,
   "id": "2b82027c-a9a5-4ee3-b7f3-b360b23c7612",
   "metadata": {},
   "outputs": [
    {
     "name": "stdout",
     "output_type": "stream",
     "text": [
      "150\n"
     ]
    }
   ],
   "source": [
    "sol = reduce(lambda x , y : x + y , [10,20,30,40,50])\n",
    "print(sol)"
   ]
  },
  {
   "cell_type": "code",
   "execution_count": 5,
   "id": "a4200b44-eca1-4195-8986-eb85d0604d04",
   "metadata": {},
   "outputs": [
    {
     "name": "stdout",
     "output_type": "stream",
     "text": [
      "[65, 76, 87, 98, 100]\n"
     ]
    }
   ],
   "source": [
    "# filter with map:\n",
    "\n",
    "a = [11,22,33,44,55,66,77,88,90]\n",
    "sol = map(lambda x : x + 10 , filter(lambda x : x > 50 , a))\n",
    "print(list(sol))"
   ]
  },
  {
   "cell_type": "code",
   "execution_count": 7,
   "id": "a856ec2c-9cdd-481b-bc2c-b292fcecf62f",
   "metadata": {},
   "outputs": [
    {
     "name": "stdout",
     "output_type": "stream",
     "text": [
      "[32, 54, 76, 98, 100]\n"
     ]
    }
   ],
   "source": [
    "# map with filter\n",
    "a = [11,22,33,44,55,66,77,88,90]\n",
    "sol = filter(lambda x : x % 2 == 0 , map(lambda x : x + 10 , a))\n",
    "print(list(sol))"
   ]
  },
  {
   "cell_type": "code",
   "execution_count": 8,
   "id": "6e94a783-e0aa-432e-b62b-aa8a31a15dc0",
   "metadata": {},
   "outputs": [
    {
     "name": "stdout",
     "output_type": "stream",
     "text": [
      "[20, 22]\n"
     ]
    }
   ],
   "source": [
    "a = [10,11,12,13]\n",
    "sol = filter(lambda x : x % 2 == 0 , map(lambda x : x + 10 , a))\n",
    "print(list(sol))"
   ]
  },
  {
   "cell_type": "code",
   "execution_count": 15,
   "id": "c7bfa769-2c6b-4383-a9ad-66ca3fb6977a",
   "metadata": {},
   "outputs": [
    {
     "name": "stdout",
     "output_type": "stream",
     "text": [
      "66\n"
     ]
    }
   ],
   "source": [
    "# reduce with map and filter:\n",
    "\n",
    "a = [10,11,12,13]\n",
    "\n",
    "sol = reduce(lambda x , y : x + y , filter(lambda x : x > 20 , map(lambda x : x+ 10 , a)))\n",
    "print(sol)"
   ]
  },
  {
   "cell_type": "markdown",
   "id": "a63df577-ec0c-4a7d-93df-51bd6f1f524b",
   "metadata": {},
   "source": [
    "## Comprehension techniques  ***"
   ]
  },
  {
   "cell_type": "markdown",
   "id": "e3a92b7b-7214-441b-a9ab-ec199f7aedc9",
   "metadata": {},
   "source": [
    "- List comprehension\n",
    "- Dictionary comprehension"
   ]
  },
  {
   "cell_type": "code",
   "execution_count": 1,
   "id": "63e7d3df-f678-4ad1-9324-a3176db35330",
   "metadata": {},
   "outputs": [],
   "source": [
    "# comprehension techniques is used for reduce the lines of code\n",
    "# we can work with only list and dictionaries"
   ]
  },
  {
   "cell_type": "code",
   "execution_count": 10,
   "id": "14442b25-b2f8-4f22-b779-c12483f2cc82",
   "metadata": {},
   "outputs": [
    {
     "name": "stdout",
     "output_type": "stream",
     "text": [
      "good morninggood morninggood morninggood morninggood morninggood morninggood morninggood morninggood morninggood morninggood morninggood morninggood morninggood morninggood morninggood morninggood morninggood morninggood morninggood morning"
     ]
    }
   ],
   "source": [
    "# print(20 times good morning)\n",
    "\n",
    "for i in range(1,21): \n",
    "    print('good morning' , end = '')\n"
   ]
  },
  {
   "cell_type": "code",
   "execution_count": 11,
   "id": "cfbc34ef-d3c8-4e9b-8254-e8f259b1e68a",
   "metadata": {},
   "outputs": [
    {
     "name": "stdout",
     "output_type": "stream",
     "text": [
      "good morninggood morninggood morninggood morninggood morninggood morninggood morninggood morninggood morninggood morninggood morninggood morninggood morninggood morninggood morninggood morninggood morninggood morninggood morninggood morning\n"
     ]
    }
   ],
   "source": [
    "print('good morning'* 20)"
   ]
  },
  {
   "cell_type": "markdown",
   "id": "8ae2c58f-8da5-4bf4-8cce-23450c599da4",
   "metadata": {},
   "source": [
    "## list comprehension"
   ]
  },
  {
   "cell_type": "code",
   "execution_count": 13,
   "id": "78bcc207-0234-464e-9a25-5d7c8e2b103c",
   "metadata": {},
   "outputs": [
    {
     "name": "stdout",
     "output_type": "stream",
     "text": [
      "[1, 2, 3, 4, 5, 6, 7, 8, 9, 10, 11, 12, 13, 14, 15, 16, 17, 18, 19, 20]\n"
     ]
    }
   ],
   "source": [
    "sol = [i for i in range(1,21)]    # [result logic place]\n",
    "print(sol)"
   ]
  },
  {
   "cell_type": "code",
   "execution_count": 14,
   "id": "90a3a4dd-fa89-441c-9e8c-3f0fd71e2cf7",
   "metadata": {},
   "outputs": [
    {
     "name": "stdout",
     "output_type": "stream",
     "text": [
      "['good morning', 'good morning', 'good morning', 'good morning', 'good morning', 'good morning', 'good morning', 'good morning', 'good morning', 'good morning', 'good morning', 'good morning', 'good morning', 'good morning', 'good morning', 'good morning', 'good morning', 'good morning', 'good morning', 'good morning']\n"
     ]
    }
   ],
   "source": [
    "print(['good morning' for i in range(1,21)])"
   ]
  },
  {
   "cell_type": "code",
   "execution_count": 16,
   "id": "06f46cd7-94b3-4836-8a3c-8a643cb8b2ff",
   "metadata": {},
   "outputs": [
    {
     "name": "stdout",
     "output_type": "stream",
     "text": [
      "52 54 56 58 60 "
     ]
    }
   ],
   "source": [
    "# find the even numbers from 51 - 61\n",
    "# pure python code\n",
    "for i in range (51,61):\n",
    "    if i % 2 == 0:\n",
    "        print(i, end = ' ')"
   ]
  },
  {
   "cell_type": "code",
   "execution_count": 17,
   "id": "b01e0324-0c51-44de-adf9-263d581dd40a",
   "metadata": {},
   "outputs": [
    {
     "name": "stdout",
     "output_type": "stream",
     "text": [
      "[52, 54, 56, 58, 60]\n"
     ]
    }
   ],
   "source": [
    "# using comprehension\n",
    "# using only for loop means syntax will be [resultfor loop]\n",
    "# but when you are using for loop and if condition the syntax will be [result, for loop, if condition]\n",
    "# 1\n",
    "sol = [i for i in range(51,61) if i % 2 == 0 ]\n",
    "print(sol)"
   ]
  },
  {
   "cell_type": "code",
   "execution_count": 20,
   "id": "79cba0d4-96de-4265-b437-b959d732eba8",
   "metadata": {},
   "outputs": [
    {
     "name": "stdout",
     "output_type": "stream",
     "text": [
      "[52, 54, 56, 58, 60]\n"
     ]
    }
   ],
   "source": [
    "# 2\n",
    "print([i for i in range(51,61) if i % 2 == 0])"
   ]
  },
  {
   "cell_type": "code",
   "execution_count": 22,
   "id": "4fbd1fcf-5dee-48ad-a6ec-7c4bde7ed27c",
   "metadata": {},
   "outputs": [
    {
     "name": "stdout",
     "output_type": "stream",
     "text": [
      "odd 51 even 52 odd 53 even 54 odd 55 even 56 odd 57 even 58 odd 59 even 60 "
     ]
    }
   ],
   "source": [
    "# find even and odd using normal python code:\n",
    "\n",
    "for i in range (51,61):\n",
    "    if i % 2 == 0:\n",
    "        print('even',i, end = ' ')\n",
    "    else:\n",
    "        print ('odd', i , end =' ')"
   ]
  },
  {
   "cell_type": "code",
   "execution_count": 23,
   "id": "09b6a57c-3ff6-4577-9840-4815a4da93e9",
   "metadata": {},
   "outputs": [],
   "source": [
    "# will make in single line:\n",
    "# syntax: if we are using for loop if and else\n",
    "# [result , if condition , else condition and for loop]"
   ]
  },
  {
   "cell_type": "code",
   "execution_count": 26,
   "id": "afd46488-da0a-4739-b52c-0dd903e82e62",
   "metadata": {},
   "outputs": [
    {
     "name": "stdout",
     "output_type": "stream",
     "text": [
      "['odd', 'even', 'odd', 'even', 'odd', 'even', 'odd', 'even', 'odd', 'even']\n"
     ]
    }
   ],
   "source": [
    "sol = ['even'if i % 2 == 0 else 'odd' for i in range(51,61)]\n",
    "print(sol)"
   ]
  },
  {
   "cell_type": "code",
   "execution_count": 28,
   "id": "ef1d0583-dd7a-44fc-b2a7-b9e17bf1872f",
   "metadata": {},
   "outputs": [
    {
     "name": "stdout",
     "output_type": "stream",
     "text": [
      "['odd 51', 'even 52', 'odd 53', 'even 54', 'odd 55', 'even 56', 'odd 57', 'even 58', 'odd 59', 'even 60']\n"
     ]
    }
   ],
   "source": [
    "sol = ['even ' + str(i)if i % 2 == 0 else 'odd '+ str(i) for i in range(51,61)]\n",
    "print(sol)"
   ]
  },
  {
   "cell_type": "markdown",
   "id": "9a1483e6-19a4-49eb-92e9-9b4a2feb86b5",
   "metadata": {},
   "source": [
    "### then what about dictionary comprehension"
   ]
  },
  {
   "cell_type": "code",
   "execution_count": 30,
   "id": "916d8dc0-c669-4430-aeda-404a94c87f67",
   "metadata": {},
   "outputs": [
    {
     "name": "stdout",
     "output_type": "stream",
     "text": [
      "20\n"
     ]
    }
   ],
   "source": [
    "def fun(a):\n",
    "    if a > 10:\n",
    "        print(a)\n",
    "fun(20)"
   ]
  },
  {
   "cell_type": "code",
   "execution_count": 31,
   "id": "28dcae03-256c-4d7f-af73-99f53822d13e",
   "metadata": {},
   "outputs": [
    {
     "name": "stdout",
     "output_type": "stream",
     "text": [
      "30\n"
     ]
    }
   ],
   "source": [
    "fun(30)"
   ]
  },
  {
   "cell_type": "code",
   "execution_count": 32,
   "id": "4fe8fcb1-20fc-4780-b81c-88c6b9179e56",
   "metadata": {},
   "outputs": [],
   "source": [
    "# cannot have reusability in comprehension , map, filter"
   ]
  },
  {
   "cell_type": "code",
   "execution_count": 34,
   "id": "e9d697d7-ce48-49da-87cb-c736c1f7248e",
   "metadata": {},
   "outputs": [
    {
     "name": "stdout",
     "output_type": "stream",
     "text": [
      "{'apple': 120, 'banana': 65}\n"
     ]
    }
   ],
   "source": [
    "# same syntax as list comprehension:\n",
    "# using normal pyhton add value 20 to each key\n",
    "fruits = {'apple' : 100 , 'banana' : 45}\n",
    "\n",
    "for i in fruits:\n",
    "    fruits[i] = fruits[i]+20\n",
    "print(fruits)"
   ]
  },
  {
   "cell_type": "code",
   "execution_count": 36,
   "id": "45b8cc3e-a907-44f0-890b-73c32153927d",
   "metadata": {},
   "outputs": [
    {
     "data": {
      "text/plain": [
       "120"
      ]
     },
     "execution_count": 36,
     "metadata": {},
     "output_type": "execute_result"
    }
   ],
   "source": [
    "fruits['apple']"
   ]
  },
  {
   "cell_type": "code",
   "execution_count": 41,
   "id": "54e66349-8351-4090-b75f-8fa7e27bceb4",
   "metadata": {},
   "outputs": [
    {
     "name": "stdout",
     "output_type": "stream",
     "text": [
      "{'apple': 120, 'banana': 65}\n"
     ]
    }
   ],
   "source": [
    "# do it with comprehension:\n",
    "# syntax if only for loop\n",
    "# {result , for loop}\n",
    "\n",
    "fruits = {'apple' : 100 , 'banana' : 45}\n",
    "sol = {i:j+20 for i , j in fruits.items()}\n",
    "print(sol)"
   ]
  },
  {
   "cell_type": "code",
   "execution_count": 45,
   "id": "be15f139-ca22-4a29-ae85-7cf4deb98991",
   "metadata": {},
   "outputs": [
    {
     "name": "stdout",
     "output_type": "stream",
     "text": [
      "{'apple': 'pass', 'banana': 'fail'}\n"
     ]
    }
   ],
   "source": [
    "# for loop with if and else:\n",
    "\n",
    "fruits: {'apple': 100 , 'banana':45}\n",
    "\n",
    "sol = {i : ('pass' if j> 60 else 'fail')for i,j in fruits.items()}\n",
    "print(sol)"
   ]
  },
  {
   "cell_type": "code",
   "execution_count": 54,
   "id": "3a281056-ab24-4d45-9cb1-6b1e38df4684",
   "metadata": {},
   "outputs": [],
   "source": [
    "def math_operation(values):\n",
    "    c = []\n",
    "    for i in values:\n",
    "        if i > 15:\n",
    "            c.append(i)\n",
    "    return c"
   ]
  },
  {
   "cell_type": "code",
   "execution_count": 55,
   "id": "e3dbc128-c26c-44cb-aee0-eb136c324b48",
   "metadata": {},
   "outputs": [
    {
     "data": {
      "text/plain": [
       "[20, 30, 40]"
      ]
     },
     "execution_count": 55,
     "metadata": {},
     "output_type": "execute_result"
    }
   ],
   "source": [
    "math_operation([10,20,30,40])"
   ]
  },
  {
   "cell_type": "code",
   "execution_count": 56,
   "id": "0ba0af62-2594-4b27-850b-5170f749fc55",
   "metadata": {},
   "outputs": [
    {
     "data": {
      "text/plain": [
       "[16, 17]"
      ]
     },
     "execution_count": 56,
     "metadata": {},
     "output_type": "execute_result"
    }
   ],
   "source": [
    "math_operation([12,13,14,15,16,17])"
   ]
  },
  {
   "cell_type": "code",
   "execution_count": 57,
   "id": "a8b42a4e-66c0-49ba-99e7-79400293a5c7",
   "metadata": {},
   "outputs": [],
   "source": [
    "# modularisation - will write functions in one particular file and import while doing operations\n",
    "# should be added in same folder(same path)"
   ]
  },
  {
   "cell_type": "code",
   "execution_count": 59,
   "id": "2971ad7d-eb67-489b-926b-e38f06871640",
   "metadata": {},
   "outputs": [
    {
     "name": "stdout",
     "output_type": "stream",
     "text": [
      "200\n"
     ]
    }
   ],
   "source": [
    "# 1.Take two integer numbers and return their product. \n",
    "# if the product is greater than 1000, then return their sum , \n",
    "# if the product is  lesser then 1000 return the product only\n",
    "\n",
    "a = 10\n",
    "b = 20\n",
    "product = a * b\n",
    "if product > 1000:\n",
    "    print(a + b)\n",
    "else:\n",
    "    print(product)\n",
    "\n"
   ]
  },
  {
   "cell_type": "code",
   "execution_count": 61,
   "id": "6d6cebdf-4a53-4abc-b6c3-e997f52a039f",
   "metadata": {},
   "outputs": [
    {
     "name": "stdout",
     "output_type": "stream",
     "text": [
      "3000\n"
     ]
    }
   ],
   "source": [
    "a = 1000\n",
    "b = 2000\n",
    "product = a * b\n",
    "if product > 1000:\n",
    "    print(a + b)\n",
    "else:\n",
    "    print(product)\n"
   ]
  },
  {
   "cell_type": "code",
   "execution_count": 62,
   "id": "83ea0d64-9d51-461c-b604-4d0494fadc27",
   "metadata": {},
   "outputs": [],
   "source": [
    "# 2. Given a range of the first 10 numbers, \n",
    "# Iterate from the start number to the end number , \n",
    "# and In each iteration print the sum of the current number and previous number"
   ]
  },
  {
   "cell_type": "code",
   "execution_count": 70,
   "id": "f8fcdfaa-3459-41e3-94a0-ec9c928cf624",
   "metadata": {},
   "outputs": [
    {
     "name": "stdout",
     "output_type": "stream",
     "text": [
      "current number 0 previous number 0 sum : 0\n",
      "current number 1 previous number 0 sum : 1\n",
      "current number 2 previous number 1 sum : 3\n",
      "current number 3 previous number 2 sum : 5\n",
      "current number 4 previous number 3 sum : 7\n",
      "current number 5 previous number 4 sum : 9\n",
      "current number 6 previous number 5 sum : 11\n",
      "current number 7 previous number 6 sum : 13\n",
      "current number 8 previous number 7 sum : 15\n",
      "current number 9 previous number 8 sum : 17\n"
     ]
    }
   ],
   "source": [
    "previous_number = 0\n",
    "for i in range (10):\n",
    "    print('current number', i , 'previous number', previous_number , 'sum :', (i+previous_number))\n",
    "    previous_number=i"
   ]
  },
  {
   "cell_type": "code",
   "execution_count": 71,
   "id": "ebabfd9f-c431-43d9-a747-9f3ca9c25c1e",
   "metadata": {},
   "outputs": [],
   "source": [
    "# 3. Given a string and an integer number n , \n",
    "# remove characters from a string starting from zero up to the n \n",
    "# and return a new string"
   ]
  },
  {
   "cell_type": "code",
   "execution_count": 72,
   "id": "43f12188-1fb1-40df-a5b6-5d8863f80467",
   "metadata": {},
   "outputs": [
    {
     "name": "stdout",
     "output_type": "stream",
     "text": [
      "tive\n"
     ]
    }
   ],
   "source": [
    "a = 'pynative'\n",
    "n = 4\n",
    "print(a[n:])"
   ]
  },
  {
   "cell_type": "code",
   "execution_count": 73,
   "id": "d3183f7c-ccc0-48d5-8b7d-d7d3023d9c95",
   "metadata": {},
   "outputs": [],
   "source": [
    "# 4. Given a list of numbers , \n",
    "# return True if first and last number of a list is same"
   ]
  },
  {
   "cell_type": "code",
   "execution_count": 79,
   "id": "18fc5584-9976-41c1-aef9-24afd4f321a4",
   "metadata": {},
   "outputs": [
    {
     "name": "stdout",
     "output_type": "stream",
     "text": [
      "False\n"
     ]
    }
   ],
   "source": [
    "a = [10,20,30,40,50]\n",
    "if a[0] == a[-1]:\n",
    "    print(True)\n",
    "else:\n",
    "    print(False)"
   ]
  },
  {
   "cell_type": "code",
   "execution_count": 80,
   "id": "39020d66-dbf1-42e3-8f15-829dca75b26c",
   "metadata": {},
   "outputs": [
    {
     "name": "stdout",
     "output_type": "stream",
     "text": [
      "True\n"
     ]
    }
   ],
   "source": [
    "a = [10,20,30,40,10]\n",
    "if a[0] == a[-1]:\n",
    "    print(True)\n",
    "else:\n",
    "    print(False)"
   ]
  },
  {
   "cell_type": "code",
   "execution_count": 82,
   "id": "aef60533-9189-4d3d-aff3-6d612eb3c34f",
   "metadata": {},
   "outputs": [],
   "source": [
    "# 5 . Give two python list. \n",
    "# Iterate both lists simultaneously such that list1 should display item \n",
    "# in original order and list2 in reverse order\n",
    "\n",
    "# list1 = [10,20,30,40]\n",
    "# list2 = [100,200,300,400]"
   ]
  },
  {
   "cell_type": "code",
   "execution_count": 88,
   "id": "d9f91ef5-bca7-4b0b-9f85-961f8306af62",
   "metadata": {},
   "outputs": [
    {
     "name": "stdout",
     "output_type": "stream",
     "text": [
      "10 400\n",
      "20 300\n",
      "30 200\n",
      "40 100\n"
     ]
    }
   ],
   "source": [
    "list1 = [10,20,30,40]\n",
    "list2 = [100,200,300,400]\n",
    "\n",
    "for i,j in zip(list1, list2[::-1]):\n",
    "    print(i,j)"
   ]
  },
  {
   "cell_type": "code",
   "execution_count": 89,
   "id": "4cf744d1-474b-4e21-a696-21d932682a31",
   "metadata": {},
   "outputs": [],
   "source": [
    "# 6.Remove empty strings from the list of strings\n",
    "\n",
    "# list1 = ['Mike','','Emma','Kelly','','Brad']"
   ]
  },
  {
   "cell_type": "code",
   "execution_count": 98,
   "id": "b14cb1f4-c837-46ad-8045-37fca8f7c672",
   "metadata": {},
   "outputs": [
    {
     "name": "stdout",
     "output_type": "stream",
     "text": [
      "['Mike', 'Emma', 'Kelly', 'Brad']\n"
     ]
    }
   ],
   "source": [
    "list1 = ['Mike','','Emma','Kelly','','Brad']\n",
    "result = []\n",
    "for i in list1:\n",
    "    if i == '':\n",
    "        pass\n",
    "    else:\n",
    "        result.append(i)\n",
    "print(result)"
   ]
  },
  {
   "cell_type": "code",
   "execution_count": null,
   "id": "87c4f630-36a1-417b-a336-46a32ffd2288",
   "metadata": {},
   "outputs": [],
   "source": []
  }
 ],
 "metadata": {
  "kernelspec": {
   "display_name": "Python 3 (ipykernel)",
   "language": "python",
   "name": "python3"
  },
  "language_info": {
   "codemirror_mode": {
    "name": "ipython",
    "version": 3
   },
   "file_extension": ".py",
   "mimetype": "text/x-python",
   "name": "python",
   "nbconvert_exporter": "python",
   "pygments_lexer": "ipython3",
   "version": "3.11.7"
  }
 },
 "nbformat": 4,
 "nbformat_minor": 5
}
