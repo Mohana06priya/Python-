{
 "cells": [
  {
   "cell_type": "markdown",
   "id": "d2f19b80-56d1-4033-b1f2-1bdcb4d421b6",
   "metadata": {},
   "source": [
    "## TUPLE"
   ]
  },
  {
   "cell_type": "code",
   "execution_count": 1,
   "id": "295a1eab-bccc-4a91-8098-7e4e7dc7c780",
   "metadata": {},
   "outputs": [],
   "source": [
    "# tuple is one of the data structure in python\n",
    "# tuple is immutable : we cannot change anything\n",
    "# tuple will be represented in the form of ()"
   ]
  },
  {
   "cell_type": "code",
   "execution_count": 2,
   "id": "65718a50-bfb6-49ef-8d81-a022f0f499e4",
   "metadata": {},
   "outputs": [
    {
     "name": "stdout",
     "output_type": "stream",
     "text": [
      "(10, 20.5, 'python')\n"
     ]
    }
   ],
   "source": [
    "a = (10,20.5,'python')\n",
    "print(a)"
   ]
  },
  {
   "cell_type": "code",
   "execution_count": 3,
   "id": "7d87817f-5156-4175-8d5d-f36916deb1cb",
   "metadata": {},
   "outputs": [
    {
     "data": {
      "text/plain": [
       "tuple"
      ]
     },
     "execution_count": 3,
     "metadata": {},
     "output_type": "execute_result"
    }
   ],
   "source": [
    "type(a)"
   ]
  },
  {
   "cell_type": "code",
   "execution_count": 4,
   "id": "e30e90a3-e9ee-47c8-901c-f084412fdc8d",
   "metadata": {},
   "outputs": [],
   "source": [
    "# three rules to follow:\n",
    "# add is possible?\n",
    "# replace is possible?\n",
    "# delete is possible?"
   ]
  },
  {
   "cell_type": "code",
   "execution_count": 5,
   "id": "6f7ffa8c-755d-43c0-ae8e-7267ca6ca98b",
   "metadata": {},
   "outputs": [
    {
     "ename": "TypeError",
     "evalue": "'tuple' object does not support item assignment",
     "output_type": "error",
     "traceback": [
      "\u001b[1;31m---------------------------------------------------------------------------\u001b[0m",
      "\u001b[1;31mTypeError\u001b[0m                                 Traceback (most recent call last)",
      "Cell \u001b[1;32mIn[5], line 1\u001b[0m\n\u001b[1;32m----> 1\u001b[0m a[\u001b[38;5;241m1\u001b[39m] \u001b[38;5;241m=\u001b[39m \u001b[38;5;241m200\u001b[39m\n",
      "\u001b[1;31mTypeError\u001b[0m: 'tuple' object does not support item assignment"
     ]
    }
   ],
   "source": [
    "a[1] = 200"
   ]
  },
  {
   "cell_type": "code",
   "execution_count": 6,
   "id": "7fe27461-39a2-43c7-afc1-2a0d5183fd20",
   "metadata": {},
   "outputs": [
    {
     "ename": "TypeError",
     "evalue": "'tuple' object doesn't support item deletion",
     "output_type": "error",
     "traceback": [
      "\u001b[1;31m---------------------------------------------------------------------------\u001b[0m",
      "\u001b[1;31mTypeError\u001b[0m                                 Traceback (most recent call last)",
      "Cell \u001b[1;32mIn[6], line 1\u001b[0m\n\u001b[1;32m----> 1\u001b[0m \u001b[38;5;28;01mdel\u001b[39;00m a[\u001b[38;5;241m1\u001b[39m]\n",
      "\u001b[1;31mTypeError\u001b[0m: 'tuple' object doesn't support item deletion"
     ]
    }
   ],
   "source": [
    "del a[1]"
   ]
  },
  {
   "cell_type": "code",
   "execution_count": 7,
   "id": "191ab9a7-1f13-4894-a659-6bc31318165f",
   "metadata": {},
   "outputs": [
    {
     "name": "stdout",
     "output_type": "stream",
     "text": [
      "(10, 20, 30)\n"
     ]
    }
   ],
   "source": [
    "# for one variable if you want to give multiple values use tuple:\n",
    "a = 10,20,30\n",
    "print(a)"
   ]
  },
  {
   "cell_type": "code",
   "execution_count": 8,
   "id": "c5f3c446-b431-4178-9c5d-abc843683219",
   "metadata": {},
   "outputs": [
    {
     "data": {
      "text/plain": [
       "tuple"
      ]
     },
     "execution_count": 8,
     "metadata": {},
     "output_type": "execute_result"
    }
   ],
   "source": [
    "type(a)"
   ]
  },
  {
   "cell_type": "code",
   "execution_count": 10,
   "id": "4deaeae7-3fe1-4adb-a334-0e21f582a357",
   "metadata": {},
   "outputs": [
    {
     "name": "stdout",
     "output_type": "stream",
     "text": [
      "<class 'tuple'>\n"
     ]
    }
   ],
   "source": [
    "b = 10,\n",
    "print(type(b))"
   ]
  },
  {
   "cell_type": "code",
   "execution_count": 11,
   "id": "d0acc5bb-6459-428a-9af9-3c24666bb423",
   "metadata": {},
   "outputs": [
    {
     "name": "stdout",
     "output_type": "stream",
     "text": [
      "(10, 20, 30, 40)\n"
     ]
    }
   ],
   "source": [
    "# change to tuple\n",
    "a = [10,20,30,40]\n",
    "b = tuple(a)\n",
    "print(b)"
   ]
  },
  {
   "cell_type": "code",
   "execution_count": 13,
   "id": "0d8814bc-7dc8-4e8a-8095-57d9c80915b3",
   "metadata": {},
   "outputs": [
    {
     "name": "stdout",
     "output_type": "stream",
     "text": [
      "[10, 20, 30, 40]\n",
      "<class 'list'>\n"
     ]
    }
   ],
   "source": [
    "a = (10,20,30,40)\n",
    "b = list(a)\n",
    "print(b)\n",
    "print(type(b))"
   ]
  },
  {
   "cell_type": "code",
   "execution_count": 14,
   "id": "69d38154-29d9-4f37-b36e-42261256a772",
   "metadata": {},
   "outputs": [],
   "source": [
    "#Methods in tuple:"
   ]
  },
  {
   "cell_type": "code",
   "execution_count": 18,
   "id": "b4b3f3ee-7822-40cb-9782-8d015e4b1083",
   "metadata": {},
   "outputs": [
    {
     "name": "stdout",
     "output_type": "stream",
     "text": [
      "(10, 20, 30, 40, 10)\n"
     ]
    }
   ],
   "source": [
    "a = (10,20,30,40,10)\n",
    "print(a)"
   ]
  },
  {
   "cell_type": "code",
   "execution_count": 19,
   "id": "fc944ff8-f02b-43cb-8e3f-fd647ed55527",
   "metadata": {},
   "outputs": [
    {
     "data": {
      "text/plain": [
       "2"
      ]
     },
     "execution_count": 19,
     "metadata": {},
     "output_type": "execute_result"
    }
   ],
   "source": [
    "a.count(10)"
   ]
  },
  {
   "cell_type": "code",
   "execution_count": 25,
   "id": "cf8c490f-190a-40e7-99cf-585100593c0f",
   "metadata": {},
   "outputs": [
    {
     "data": {
      "text/plain": [
       "4"
      ]
     },
     "execution_count": 25,
     "metadata": {},
     "output_type": "execute_result"
    }
   ],
   "source": [
    "a.index(10,2,5)"
   ]
  },
  {
   "cell_type": "code",
   "execution_count": null,
   "id": "0765e126-b2d4-438f-8097-eca566343c62",
   "metadata": {},
   "outputs": [],
   "source": []
  }
 ],
 "metadata": {
  "kernelspec": {
   "display_name": "Python 3 (ipykernel)",
   "language": "python",
   "name": "python3"
  },
  "language_info": {
   "codemirror_mode": {
    "name": "ipython",
    "version": 3
   },
   "file_extension": ".py",
   "mimetype": "text/x-python",
   "name": "python",
   "nbconvert_exporter": "python",
   "pygments_lexer": "ipython3",
   "version": "3.11.7"
  }
 },
 "nbformat": 4,
 "nbformat_minor": 5
}
