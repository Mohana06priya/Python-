{
 "cells": [
  {
   "cell_type": "code",
   "execution_count": 1,
   "id": "522fc50e-977f-4f2a-937f-fdcb9e8cd8a0",
   "metadata": {},
   "outputs": [],
   "source": [
    "# I want to take the help of Numpy package from python"
   ]
  },
  {
   "cell_type": "code",
   "execution_count": 3,
   "id": "3bf1851d-39ee-45bc-bf9d-4f723d478369",
   "metadata": {},
   "outputs": [],
   "source": [
    "import numpy as np # if its not working means run the below command after running execute this"
   ]
  },
  {
   "cell_type": "code",
   "execution_count": 4,
   "id": "6afaa98d-95ec-4f5e-83e8-e186b567fb27",
   "metadata": {},
   "outputs": [
    {
     "name": "stderr",
     "output_type": "stream",
     "text": [
      "ERROR: Invalid requirement: '#'\n"
     ]
    }
   ],
   "source": [
    "!pip install numpy  # if already installed it will show the below note:"
   ]
  },
  {
   "cell_type": "markdown",
   "id": "30b780bc-dd98-4640-8e57-3f27aab19f53",
   "metadata": {},
   "source": [
    "BASIC NUMPY"
   ]
  },
  {
   "cell_type": "code",
   "execution_count": 11,
   "id": "03e881fe-1b9d-4d67-b27d-df7c2b1c13f3",
   "metadata": {},
   "outputs": [],
   "source": [
    "# Numpy : It works with Dimensionality data"
   ]
  },
  {
   "cell_type": "code",
   "execution_count": 14,
   "id": "cc2bacb8-adb9-42f2-b249-a0130dc5f1be",
   "metadata": {},
   "outputs": [
    {
     "name": "stdout",
     "output_type": "stream",
     "text": [
      "[10, 11, 12, 13]\n",
      "<class 'list'>\n",
      "4\n"
     ]
    },
    {
     "ename": "AttributeError",
     "evalue": "'list' object has no attribute 'shape'",
     "output_type": "error",
     "traceback": [
      "\u001b[1;31m---------------------------------------------------------------------------\u001b[0m",
      "\u001b[1;31mAttributeError\u001b[0m                            Traceback (most recent call last)",
      "Cell \u001b[1;32mIn[14], line 4\u001b[0m\n\u001b[0;32m      1\u001b[0m \u001b[38;5;66;03m# difference in list and numpy:\u001b[39;00m\n\u001b[0;32m      3\u001b[0m a \u001b[38;5;241m=\u001b[39m [\u001b[38;5;241m10\u001b[39m,\u001b[38;5;241m11\u001b[39m,\u001b[38;5;241m12\u001b[39m,\u001b[38;5;241m13\u001b[39m]\n\u001b[1;32m----> 4\u001b[0m \u001b[38;5;28mprint\u001b[39m(a), \u001b[38;5;28mprint\u001b[39m(\u001b[38;5;28mtype\u001b[39m(a)) , \u001b[38;5;28mprint\u001b[39m(\u001b[38;5;28mlen\u001b[39m(a)) , \u001b[38;5;28mprint\u001b[39m(a\u001b[38;5;241m.\u001b[39mshape)\n",
      "\u001b[1;31mAttributeError\u001b[0m: 'list' object has no attribute 'shape'"
     ]
    }
   ],
   "source": [
    "# difference in list and numpy:\n",
    "\n",
    "a = [10,11,12,13]\n",
    "print(a)\n",
    "print(type(a))  \n",
    "print(len(a))  \n",
    "print(a.shape) # shape is used to find the number of rows and columns"
   ]
  },
  {
   "cell_type": "code",
   "execution_count": 15,
   "id": "eca6bb33-8108-405d-8780-283401b9e929",
   "metadata": {},
   "outputs": [],
   "source": [
    "# list is a scalar = there is no dimension for the list"
   ]
  },
  {
   "cell_type": "markdown",
   "id": "92e54405-ea6c-4e9d-956f-d7f26b534577",
   "metadata": {},
   "source": [
    "### VECTOR:"
   ]
  },
  {
   "cell_type": "code",
   "execution_count": 4,
   "id": "139752b0-4557-4a66-a555-eab58f835257",
   "metadata": {},
   "outputs": [
    {
     "name": "stdout",
     "output_type": "stream",
     "text": [
      "[10 11 12 13 14 15 16 17 18 19]\n",
      "<class 'numpy.ndarray'>\n"
     ]
    }
   ],
   "source": [
    "import numpy as np\n",
    "\n",
    "# for single dimension there is a method in numpy called = arange\n",
    "\n",
    "a = np.arange(10 , 20)  # follows (n-1) concept\n",
    "print(a)\n",
    "print(type(a))"
   ]
  },
  {
   "cell_type": "code",
   "execution_count": 5,
   "id": "8a03917c-9e40-43da-aad2-e38092374df7",
   "metadata": {},
   "outputs": [
    {
     "data": {
      "text/plain": [
       "14"
      ]
     },
     "execution_count": 5,
     "metadata": {},
     "output_type": "execute_result"
    }
   ],
   "source": [
    "a[4]"
   ]
  },
  {
   "cell_type": "code",
   "execution_count": 6,
   "id": "49ed258f-ea2c-4757-afce-14b1f6dca040",
   "metadata": {},
   "outputs": [
    {
     "name": "stdout",
     "output_type": "stream",
     "text": [
      "(10,)\n"
     ]
    }
   ],
   "source": [
    "print(a.shape)"
   ]
  },
  {
   "cell_type": "markdown",
   "id": "7b037d5b-419e-4037-bd66-ad5dabe35a26",
   "metadata": {},
   "source": [
    "### Array method in Numpy"
   ]
  },
  {
   "cell_type": "code",
   "execution_count": 14,
   "id": "82c2e381-e16c-434d-8b4e-dcbde3761006",
   "metadata": {},
   "outputs": [],
   "source": [
    "# 32,64:how much memory needed for the variable to occupy in memory space"
   ]
  },
  {
   "cell_type": "code",
   "execution_count": 16,
   "id": "b5aef896-fc89-41c8-aa07-2a93ba5b5b24",
   "metadata": {},
   "outputs": [
    {
     "name": "stdout",
     "output_type": "stream",
     "text": [
      "[10. 11. 12. 13.]\n",
      "<class 'numpy.ndarray'>\n",
      "1\n"
     ]
    }
   ],
   "source": [
    "# lets understand about dim's\n",
    "\n",
    "a = np.array([10,11,12,13] , dtype = np.float32) # but default : float64\n",
    "print(a)\n",
    "print(type(a))\n",
    "print(a.ndim)  # ndim is used to find the number of dimensions"
   ]
  },
  {
   "cell_type": "code",
   "execution_count": 17,
   "id": "5c36b58d-7c03-4a72-b516-46b908d67714",
   "metadata": {},
   "outputs": [
    {
     "name": "stdout",
     "output_type": "stream",
     "text": [
      "[[10 11 12 14]\n",
      " [ 1  2  3  4]]\n",
      "2\n"
     ]
    }
   ],
   "source": [
    "# 2-d\n",
    "\n",
    "a = np.array([[10,11,12,14] , [1,2,3,4]])\n",
    "print(a)\n",
    "print(a.ndim)"
   ]
  },
  {
   "cell_type": "code",
   "execution_count": 18,
   "id": "c5abb2ee-5aba-4fd6-bd5b-5089a18fada8",
   "metadata": {},
   "outputs": [
    {
     "name": "stdout",
     "output_type": "stream",
     "text": [
      "3\n"
     ]
    }
   ],
   "source": [
    "print(a[1][2])"
   ]
  },
  {
   "cell_type": "code",
   "execution_count": 5,
   "id": "65ffba67-8257-405d-8d3f-f288aaa92cd3",
   "metadata": {},
   "outputs": [
    {
     "ename": "ValueError",
     "evalue": "setting an array element with a sequence. The requested array has an inhomogeneous shape after 1 dimensions. The detected shape was (2,) + inhomogeneous part.",
     "output_type": "error",
     "traceback": [
      "\u001b[1;31m---------------------------------------------------------------------------\u001b[0m",
      "\u001b[1;31mValueError\u001b[0m                                Traceback (most recent call last)",
      "Cell \u001b[1;32mIn[5], line 3\u001b[0m\n\u001b[0;32m      1\u001b[0m \u001b[38;5;66;03m# pls check it\u001b[39;00m\n\u001b[1;32m----> 3\u001b[0m a \u001b[38;5;241m=\u001b[39m np\u001b[38;5;241m.\u001b[39marray([[\u001b[38;5;241m10\u001b[39m,\u001b[38;5;241m11\u001b[39m,\u001b[38;5;241m12\u001b[39m,\u001b[38;5;241m14\u001b[39m] , [\u001b[38;5;241m1\u001b[39m,\u001b[38;5;241m2\u001b[39m,\u001b[38;5;241m3\u001b[39m,]]) \u001b[38;5;66;03m# difference in columns causes error\u001b[39;00m\n\u001b[0;32m      4\u001b[0m \u001b[38;5;28mprint\u001b[39m(a)\n\u001b[0;32m      5\u001b[0m \u001b[38;5;28mprint\u001b[39m(a\u001b[38;5;241m.\u001b[39mndim)\n",
      "\u001b[1;31mValueError\u001b[0m: setting an array element with a sequence. The requested array has an inhomogeneous shape after 1 dimensions. The detected shape was (2,) + inhomogeneous part."
     ]
    }
   ],
   "source": [
    "# pls check it\n",
    "\n",
    "a = np.array([[10,11,12,14] , [1,2,3,]]) # difference in columns causes error\n",
    "print(a)\n",
    "print(a.ndim)"
   ]
  },
  {
   "cell_type": "code",
   "execution_count": 6,
   "id": "f6d26ee4-fd09-4721-86c9-4cd785515d7b",
   "metadata": {},
   "outputs": [
    {
     "name": "stdout",
     "output_type": "stream",
     "text": [
      "[[11 12 14]\n",
      " [21 22 26]\n",
      " [49 44  9]]\n",
      "<class 'numpy.ndarray'>\n",
      "number of dims =  2\n"
     ]
    }
   ],
   "source": [
    "# 2-d means matrix\n",
    "\n",
    "a = np.array([[11,12,14] , [21,22,26] , [49,44,9]])\n",
    "print(a)\n",
    "print(type(a))\n",
    "print(\"number of dims = \" , a.ndim)"
   ]
  },
  {
   "cell_type": "code",
   "execution_count": 22,
   "id": "f5b10d3a-5bdb-4f9b-be4c-3a7a92aa602d",
   "metadata": {},
   "outputs": [
    {
     "name": "stdout",
     "output_type": "stream",
     "text": [
      "22\n"
     ]
    }
   ],
   "source": [
    "print(a[1][1])"
   ]
  },
  {
   "cell_type": "code",
   "execution_count": 25,
   "id": "d8a7a0fd-f667-4f14-ae77-18e7a59b68c9",
   "metadata": {},
   "outputs": [
    {
     "name": "stdout",
     "output_type": "stream",
     "text": [
      "(3, 3)\n"
     ]
    }
   ],
   "source": [
    "# shape\n",
    "\n",
    "print(a.shape)  # (rows and columns)"
   ]
  },
  {
   "cell_type": "code",
   "execution_count": 26,
   "id": "215d4e17-5cfd-4b2b-8c4f-ccf7e94ae4e4",
   "metadata": {},
   "outputs": [
    {
     "name": "stdout",
     "output_type": "stream",
     "text": [
      "9\n"
     ]
    }
   ],
   "source": [
    "# size : used to find how many number of values are there\n",
    "\n",
    "print(a.size)"
   ]
  },
  {
   "cell_type": "code",
   "execution_count": 28,
   "id": "c244e5bf-a0e4-49cb-9393-88c3d4a11727",
   "metadata": {},
   "outputs": [
    {
     "name": "stdout",
     "output_type": "stream",
     "text": [
      "[['11' '12' '14']\n",
      " ['a' 'b' 'c']\n",
      " ['49.1' '44.5' '9.0']]\n",
      "<class 'numpy.ndarray'>\n",
      "number of dims =  2\n"
     ]
    }
   ],
   "source": [
    "a = np.array([[11,12,14] , ['a','b','c'] , [49.1,44.5,9.0]])\n",
    "print(a)\n",
    "print(type(a))\n",
    "print(\"number of dims = \" , a.ndim)"
   ]
  },
  {
   "cell_type": "code",
   "execution_count": 7,
   "id": "056d16b9-dd57-427d-b582-63871d85dc80",
   "metadata": {},
   "outputs": [
    {
     "name": "stdout",
     "output_type": "stream",
     "text": [
      "[[['11' '12' '13']\n",
      "  ['a' '2' 'c']\n",
      "  ['49.1' '44.5' '9.0']]]\n",
      "<class 'numpy.ndarray'>\n",
      "number of dims =  3\n"
     ]
    }
   ],
   "source": [
    "# 3-d data:\n",
    "\n",
    "\n",
    "a = np.array([[[11,12,13] , ['a',2,'c'] , [49.1,44.5,9.0]]])\n",
    "print(a)\n",
    "print(type(a))\n",
    "print(\"number of dims = \" , a.ndim)"
   ]
  },
  {
   "cell_type": "code",
   "execution_count": 8,
   "id": "eaae3509-6cc6-4c9c-8546-391ef78a2129",
   "metadata": {},
   "outputs": [
    {
     "name": "stdout",
     "output_type": "stream",
     "text": [
      "(1, 3, 3)\n"
     ]
    }
   ],
   "source": [
    "print(a.shape)"
   ]
  },
  {
   "cell_type": "code",
   "execution_count": 9,
   "id": "93cee19e-7b49-4a20-9e1e-053d4b7e4c99",
   "metadata": {},
   "outputs": [],
   "source": [
    "# understanding even in depth about shapes:\n",
    "\n",
    "#nconvert 1d to 2d\n",
    "# convert 2d to 3d"
   ]
  },
  {
   "cell_type": "code",
   "execution_count": 14,
   "id": "f637b5af-1770-4f7f-aa38-617966877cfa",
   "metadata": {},
   "outputs": [
    {
     "name": "stdout",
     "output_type": "stream",
     "text": [
      "[ 1  2  3  4  5  6  7  8  9 10 11 12 13 14 15 16 17 18 19 20 21 22 23 24\n",
      " 25 26 27 28 29 30 31 32 33 34 35 36 37 38 39 40 41 42 43 44 45 46 47 48\n",
      " 49 50 51 52 53 54 55 56 57 58 59 60]\n"
     ]
    }
   ],
   "source": [
    "# from 1d to 2d\n",
    "\n",
    "\n",
    "a = np.arange(1,61)\n",
    "print(a)"
   ]
  },
  {
   "cell_type": "code",
   "execution_count": 16,
   "id": "651a064d-f897-4cd5-815f-689425a1a38d",
   "metadata": {},
   "outputs": [
    {
     "name": "stdout",
     "output_type": "stream",
     "text": [
      "[[ 1  2  3  4  5  6]\n",
      " [ 7  8  9 10 11 12]\n",
      " [13 14 15 16 17 18]\n",
      " [19 20 21 22 23 24]\n",
      " [25 26 27 28 29 30]\n",
      " [31 32 33 34 35 36]\n",
      " [37 38 39 40 41 42]\n",
      " [43 44 45 46 47 48]\n",
      " [49 50 51 52 53 54]\n",
      " [55 56 57 58 59 60]]\n",
      "2\n"
     ]
    }
   ],
   "source": [
    "a = np.arange(1,61).reshape(10,6)\n",
    "print(a)\n",
    "print(a.ndim)"
   ]
  },
  {
   "cell_type": "code",
   "execution_count": 18,
   "id": "93669b49-82ce-4042-bb24-cf47492ff52c",
   "metadata": {},
   "outputs": [
    {
     "name": "stdout",
     "output_type": "stream",
     "text": [
      "34\n"
     ]
    }
   ],
   "source": [
    "# pull out the value 34:\n",
    "\n",
    "print(a[5][3])"
   ]
  },
  {
   "cell_type": "code",
   "execution_count": 19,
   "id": "d5ccb9b3-a117-4b18-8f88-3fa85248fb2d",
   "metadata": {},
   "outputs": [
    {
     "name": "stdout",
     "output_type": "stream",
     "text": [
      "[ 1  2  3  4  5  6  7  8  9 10 11 12 13 14 15 16 17 18 19 20 21 22 23 24\n",
      " 25 26 27 28 29 30 31 32 33 34 35 36 37 38 39 40 41 42 43 44 45 46 47 48\n",
      " 49 50 51 52 53 54 55 56 57 58 59 60]\n",
      "1\n"
     ]
    }
   ],
   "source": [
    "# convert 1d to 3d and pull value out:\n",
    "\n",
    "a = np.arange(1,61)\n",
    "print(a)\n",
    "print(a.ndim)"
   ]
  },
  {
   "cell_type": "code",
   "execution_count": 20,
   "id": "fcb868f7-e443-4dd0-80ce-f73214f7739b",
   "metadata": {},
   "outputs": [
    {
     "name": "stdout",
     "output_type": "stream",
     "text": [
      "[[[ 1  2  3  4  5  6]\n",
      "  [ 7  8  9 10 11 12]]\n",
      "\n",
      " [[13 14 15 16 17 18]\n",
      "  [19 20 21 22 23 24]]\n",
      "\n",
      " [[25 26 27 28 29 30]\n",
      "  [31 32 33 34 35 36]]\n",
      "\n",
      " [[37 38 39 40 41 42]\n",
      "  [43 44 45 46 47 48]]\n",
      "\n",
      " [[49 50 51 52 53 54]\n",
      "  [55 56 57 58 59 60]]]\n",
      "3\n"
     ]
    }
   ],
   "source": [
    "# converting 1d to 3d\n",
    "\n",
    "a = np.arange(1,61).reshape(5,2,6)\n",
    "print(a)\n",
    "print(a.ndim)"
   ]
  },
  {
   "cell_type": "code",
   "execution_count": 22,
   "id": "20dfe330-8762-4bf0-bfbb-ce180fb2200f",
   "metadata": {},
   "outputs": [
    {
     "name": "stdout",
     "output_type": "stream",
     "text": [
      "34\n"
     ]
    }
   ],
   "source": [
    "# pull 34\n",
    "\n",
    "print(a[2][1][3])"
   ]
  },
  {
   "cell_type": "code",
   "execution_count": 24,
   "id": "9511ac30-ccc6-4518-ae3b-4cbbe01430ac",
   "metadata": {},
   "outputs": [
    {
     "name": "stdout",
     "output_type": "stream",
     "text": [
      "[11.   13.25 15.5  17.75 20.  ]\n"
     ]
    }
   ],
   "source": [
    "# linespace : linespace is used to break the range into pieces : \n",
    "# not follows (n-1) concept\n",
    "\n",
    "a = np.linspace(11,20,5)\n",
    "print(a)"
   ]
  },
  {
   "cell_type": "code",
   "execution_count": 29,
   "id": "f893fbbf-4d89-4f13-ab91-356490e87c1c",
   "metadata": {},
   "outputs": [
    {
     "name": "stdout",
     "output_type": "stream",
     "text": [
      "[10. 12. 14. 16. 18. 20.]\n"
     ]
    }
   ],
   "source": [
    "a = np.linspace(10,20,6)\n",
    "print(a)"
   ]
  },
  {
   "cell_type": "code",
   "execution_count": 31,
   "id": "cf65a2db-ea27-428f-8418-251b8b90ebd0",
   "metadata": {},
   "outputs": [
    {
     "name": "stdout",
     "output_type": "stream",
     "text": [
      "[[0 0 0 0 0]\n",
      " [0 0 0 0 0]\n",
      " [0 0 0 0 0]\n",
      " [0 0 0 0 0]\n",
      " [0 0 0 0 0]]\n"
     ]
    }
   ],
   "source": [
    "# zeros: used to create a metric with complete zeros:\n",
    "# default numpy is float64\n",
    "\n",
    "a = np.zeros((5,5) , dtype = np.int64)\n",
    "print(a)"
   ]
  },
  {
   "cell_type": "code",
   "execution_count": 33,
   "id": "63968ad8-355c-422a-a4ba-1c0358bf1d56",
   "metadata": {},
   "outputs": [
    {
     "data": {
      "text/plain": [
       "<matplotlib.image.AxesImage at 0x16728f23bd0>"
      ]
     },
     "execution_count": 33,
     "metadata": {},
     "output_type": "execute_result"
    },
    {
     "data": {
      "image/png": "[encoded data removed]",
      "text/plain": [
       "<Figure size 640x480 with 1 Axes>"
      ]
     },
     "metadata": {},
     "output_type": "display_data"
    }
   ],
   "source": [
    "# creating a image from zeros:\n",
    "\n",
    "import matplotlib.pyplot as plt\n",
    "img = np.zeros([512,512,3] , dtype = np.float64)\n",
    "plt.imshow(img)"
   ]
  },
  {
   "cell_type": "code",
   "execution_count": 34,
   "id": "0431192e-f6d6-4789-97e0-c697eb33f755",
   "metadata": {},
   "outputs": [
    {
     "data": {
      "text/plain": [
       "array([[1, 1, 1, 1, 1],\n",
       "       [1, 1, 1, 1, 1],\n",
       "       [1, 1, 1, 1, 1],\n",
       "       [1, 1, 1, 1, 1],\n",
       "       [1, 1, 1, 1, 1]], dtype=int64)"
      ]
     },
     "execution_count": 34,
     "metadata": {},
     "output_type": "execute_result"
    }
   ],
   "source": [
    "# ones:\n",
    "\n",
    "a = np.ones((5,5) , dtype = np.int64)\n",
    "a"
   ]
  },
  {
   "cell_type": "markdown",
   "id": "df221dc2-f785-49f6-a2f1-7260bc3952e6",
   "metadata": {},
   "source": [
    "### RANDOM CONCEPT"
   ]
  },
  {
   "cell_type": "code",
   "execution_count": 40,
   "id": "7e06b98f-41e5-4529-a72a-0e97121b16d8",
   "metadata": {},
   "outputs": [
    {
     "data": {
      "text/plain": [
       "18"
      ]
     },
     "execution_count": 40,
     "metadata": {},
     "output_type": "execute_result"
    }
   ],
   "source": [
    "# randint = used to select a random integer value\n",
    "\n",
    "np.random.seed(100)  # this line used to keep stable outcome\n",
    "\n",
    "# seed --------> randint\n",
    "\n",
    "np.random.randint(10,50)\n"
   ]
  },
  {
   "cell_type": "code",
   "execution_count": 48,
   "id": "0641c296-02df-43aa-86c2-cd25dad5e37d",
   "metadata": {},
   "outputs": [
    {
     "data": {
      "text/plain": [
       "array([[0.38659638, 0.46212547, 0.57862899, 0.1139206 ],\n",
       "       [0.36841365, 0.36074842, 0.88001849, 0.27454204],\n",
       "       [0.22458118, 0.81397318, 0.05820075, 0.73015342],\n",
       "       [0.03267909, 0.59998723, 0.03054111, 0.85960489]])"
      ]
     },
     "execution_count": 48,
     "metadata": {},
     "output_type": "execute_result"
    }
   ],
   "source": [
    "# rand = gives values from 0 to 1 : random values\n",
    "\n",
    "np.random.rand(4,4)   # randomly 4 rows and 4 columns will be created"
   ]
  },
  {
   "cell_type": "code",
   "execution_count": 49,
   "id": "b77f4d9f-e09e-4572-8671-b7cd3a2be223",
   "metadata": {},
   "outputs": [
    {
     "data": {
      "text/plain": [
       "array([[ 1.88400146, -1.87701393, -0.86617252,  1.52518019],\n",
       "       [ 0.38749346, -0.05276209,  0.1124642 , -0.88674841],\n",
       "       [-0.83371605,  1.99693119,  0.6792209 ,  0.95965714],\n",
       "       [-0.02645698,  1.80954955,  0.59910474,  0.37366107]])"
      ]
     },
     "execution_count": 49,
     "metadata": {},
     "output_type": "execute_result"
    }
   ],
   "source": [
    "# randn = works with standard deviation concept : dont worry just small change compared to randint\n",
    "\n",
    "np.random.randn(4,4)"
   ]
  },
  {
   "cell_type": "code",
   "execution_count": 51,
   "id": "3a6f350c-6584-4c88-9777-c72e62f79049",
   "metadata": {},
   "outputs": [
    {
     "data": {
      "text/plain": [
       "array([[0.55989942, 0.68041468, 0.36843085, 0.5911288 , 0.47906274],\n",
       "       [0.45041658, 0.24654529, 0.78669691, 0.44054   , 0.70012205],\n",
       "       [0.821063  , 0.37173557, 0.95252414, 0.97543482, 0.4269334 ],\n",
       "       [0.49793281, 0.66681832, 0.23361726, 0.5500211 , 0.98907139],\n",
       "       [0.05474645, 0.61700722, 0.11233104, 0.46248801, 0.73487037]])"
      ]
     },
     "execution_count": 51,
     "metadata": {},
     "output_type": "execute_result"
    }
   ],
   "source": [
    "# random\n",
    "\n",
    "np.random.random((5,5))"
   ]
  },
  {
   "cell_type": "code",
   "execution_count": 52,
   "id": "df15a034-3f87-4e79-8a1a-25eea631735d",
   "metadata": {},
   "outputs": [
    {
     "data": {
      "text/plain": [
       "8.0"
      ]
     },
     "execution_count": 52,
     "metadata": {},
     "output_type": "execute_result"
    }
   ],
   "source": [
    "# maths:\n",
    "\n",
    "np.sqrt(64)"
   ]
  },
  {
   "cell_type": "code",
   "execution_count": 53,
   "id": "733c0bf8-33ca-4337-b524-666deaba7e32",
   "metadata": {},
   "outputs": [
    {
     "data": {
      "text/plain": [
       "array([1.41421356, 2.        , 2.44948974, 2.82842712])"
      ]
     },
     "execution_count": 53,
     "metadata": {},
     "output_type": "execute_result"
    }
   ],
   "source": [
    "a = [2,4,6,8]\n",
    "np.sqrt(a)"
   ]
  },
  {
   "cell_type": "code",
   "execution_count": 54,
   "id": "d29c0773-b40d-473c-a909-82ea56d3ee00",
   "metadata": {},
   "outputs": [
    {
     "data": {
      "text/plain": [
       "20"
      ]
     },
     "execution_count": 54,
     "metadata": {},
     "output_type": "execute_result"
    }
   ],
   "source": [
    "np.sum(a)"
   ]
  },
  {
   "cell_type": "code",
   "execution_count": 55,
   "id": "0bed7e0a-3175-49b9-918a-53dbea19d854",
   "metadata": {},
   "outputs": [
    {
     "data": {
      "text/plain": [
       "8"
      ]
     },
     "execution_count": 55,
     "metadata": {},
     "output_type": "execute_result"
    }
   ],
   "source": [
    "np.max(a)"
   ]
  },
  {
   "cell_type": "code",
   "execution_count": 56,
   "id": "3c7d63b4-0fbf-42f6-ac5b-58ffe42c9215",
   "metadata": {},
   "outputs": [
    {
     "data": {
      "text/plain": [
       "2"
      ]
     },
     "execution_count": 56,
     "metadata": {},
     "output_type": "execute_result"
    }
   ],
   "source": [
    "np.min(a)"
   ]
  },
  {
   "cell_type": "code",
   "execution_count": 59,
   "id": "745005cd-c216-427c-8958-cfe942db6989",
   "metadata": {},
   "outputs": [
    {
     "name": "stdout",
     "output_type": "stream",
     "text": [
      "[[ 1  2  3  4  5  6]\n",
      " [ 7  8  9 10 11 12]\n",
      " [13 14 15 16 17 18]\n",
      " [19 20 21 22 23 24]\n",
      " [25 26 27 28 29 30]\n",
      " [31 32 33 34 35 36]\n",
      " [37 38 39 40 41 42]\n",
      " [43 44 45 46 47 48]\n",
      " [49 50 51 52 53 54]\n",
      " [55 56 57 58 59 60]]\n"
     ]
    }
   ],
   "source": [
    "## vstack and hstack : vertical stacking and horizontal stacking\n",
    "\n",
    "# vstack:\n",
    "\n",
    "a = np.arange(1,61).reshape(10,6)\n",
    "print(a)"
   ]
  },
  {
   "cell_type": "code",
   "execution_count": 60,
   "id": "5d2bdadf-bc9a-4b25-9836-a452d75cd972",
   "metadata": {},
   "outputs": [
    {
     "name": "stdout",
     "output_type": "stream",
     "text": [
      "[[ 61  62  63  64  65  66]\n",
      " [ 67  68  69  70  71  72]\n",
      " [ 73  74  75  76  77  78]\n",
      " [ 79  80  81  82  83  84]\n",
      " [ 85  86  87  88  89  90]\n",
      " [ 91  92  93  94  95  96]\n",
      " [ 97  98  99 100 101 102]\n",
      " [103 104 105 106 107 108]\n",
      " [109 110 111 112 113 114]\n",
      " [115 116 117 118 119 120]]\n"
     ]
    }
   ],
   "source": [
    "b = np.arange(61,121).reshape(10,6)\n",
    "print(b)"
   ]
  },
  {
   "cell_type": "code",
   "execution_count": 64,
   "id": "cbee0a83-4750-4eed-93eb-353b0fb9e57f",
   "metadata": {},
   "outputs": [
    {
     "name": "stdout",
     "output_type": "stream",
     "text": [
      "[[  1   2   3   4   5   6]\n",
      " [  7   8   9  10  11  12]\n",
      " [ 13  14  15  16  17  18]\n",
      " [ 19  20  21  22  23  24]\n",
      " [ 25  26  27  28  29  30]\n",
      " [ 31  32  33  34  35  36]\n",
      " [ 37  38  39  40  41  42]\n",
      " [ 43  44  45  46  47  48]\n",
      " [ 49  50  51  52  53  54]\n",
      " [ 55  56  57  58  59  60]\n",
      " [ 61  62  63  64  65  66]\n",
      " [ 67  68  69  70  71  72]\n",
      " [ 73  74  75  76  77  78]\n",
      " [ 79  80  81  82  83  84]\n",
      " [ 85  86  87  88  89  90]\n",
      " [ 91  92  93  94  95  96]\n",
      " [ 97  98  99 100 101 102]\n",
      " [103 104 105 106 107 108]\n",
      " [109 110 111 112 113 114]\n",
      " [115 116 117 118 119 120]]\n"
     ]
    }
   ],
   "source": [
    "# vertical stack means:\n",
    "\n",
    "\n",
    "c = np.vstack((a,b))\n",
    "print(c)"
   ]
  },
  {
   "cell_type": "code",
   "execution_count": 66,
   "id": "a3166174-1a57-4ce2-8ec4-1ad970fa8ebb",
   "metadata": {},
   "outputs": [
    {
     "name": "stdout",
     "output_type": "stream",
     "text": [
      "[[  1   2   3   4   5   6  61  62  63  64  65  66]\n",
      " [  7   8   9  10  11  12  67  68  69  70  71  72]\n",
      " [ 13  14  15  16  17  18  73  74  75  76  77  78]\n",
      " [ 19  20  21  22  23  24  79  80  81  82  83  84]\n",
      " [ 25  26  27  28  29  30  85  86  87  88  89  90]\n",
      " [ 31  32  33  34  35  36  91  92  93  94  95  96]\n",
      " [ 37  38  39  40  41  42  97  98  99 100 101 102]\n",
      " [ 43  44  45  46  47  48 103 104 105 106 107 108]\n",
      " [ 49  50  51  52  53  54 109 110 111 112 113 114]\n",
      " [ 55  56  57  58  59  60 115 116 117 118 119 120]]\n"
     ]
    }
   ],
   "source": [
    "# hstack:\n",
    "\n",
    "\n",
    "c = np.hstack((a,b))\n",
    "print(c)"
   ]
  },
  {
   "cell_type": "code",
   "execution_count": 68,
   "id": "c95e9a10-30e1-4b66-a41e-ece5172bf927",
   "metadata": {},
   "outputs": [
    {
     "name": "stdout",
     "output_type": "stream",
     "text": [
      "[[ 1  0  0]\n",
      " [ 0 12  0]\n",
      " [ 0  0 14]]\n"
     ]
    }
   ],
   "source": [
    "# diagnosis \n",
    "\n",
    "aa = np.diag([1,12,14])\n",
    "print(aa)"
   ]
  },
  {
   "cell_type": "code",
   "execution_count": 69,
   "id": "e4f9bc52-4f7a-4721-916a-5180dcb5e73e",
   "metadata": {},
   "outputs": [
    {
     "name": "stdout",
     "output_type": "stream",
     "text": [
      "[[ 1  2  2  4]\n",
      " [ 7 77 78 79]]\n",
      "2\n"
     ]
    }
   ],
   "source": [
    "# ravel : used to convert 2d to 1d array:\n",
    "\n",
    "\n",
    "a = np.array([[1,2,2,4] , [7,77,78,79]])\n",
    "print(a)\n",
    "print(a.ndim)"
   ]
  },
  {
   "cell_type": "code",
   "execution_count": 70,
   "id": "255847ce-3108-4efb-9a8f-16f67e860c54",
   "metadata": {},
   "outputs": [
    {
     "name": "stdout",
     "output_type": "stream",
     "text": [
      "[ 1  2  2  4  7 77 78 79]\n",
      "1\n"
     ]
    }
   ],
   "source": [
    "c = a.ravel()  # converts to 1d\n",
    "print(c)\n",
    "print(c.ndim)"
   ]
  },
  {
   "cell_type": "code",
   "execution_count": 71,
   "id": "1be4a832-999c-4668-9392-746ea051f8ea",
   "metadata": {},
   "outputs": [],
   "source": [
    "# transpose , concatenation , absolute\n"
   ]
  },
  {
   "cell_type": "code",
   "execution_count": 72,
   "id": "0c800e36-69ac-4329-b360-b011cce38813",
   "metadata": {},
   "outputs": [
    {
     "data": {
      "text/plain": [
       "100"
      ]
     },
     "execution_count": 72,
     "metadata": {},
     "output_type": "execute_result"
    }
   ],
   "source": [
    "# absolute\n",
    "\n",
    "np.abs(-100)"
   ]
  },
  {
   "cell_type": "code",
   "execution_count": 73,
   "id": "20253c2f-4559-42a7-8280-0832ff7b6118",
   "metadata": {},
   "outputs": [
    {
     "data": {
      "text/plain": [
       "200"
      ]
     },
     "execution_count": 73,
     "metadata": {},
     "output_type": "execute_result"
    }
   ],
   "source": [
    "np.abs(-200)"
   ]
  },
  {
   "cell_type": "code",
   "execution_count": 74,
   "id": "54fb4a39-e3d8-43be-8359-37f485a3dc88",
   "metadata": {},
   "outputs": [
    {
     "name": "stdout",
     "output_type": "stream",
     "text": [
      "[[ 1  2  2  4]\n",
      " [ 7 77 78 79]]\n",
      "(2, 4)\n"
     ]
    }
   ],
   "source": [
    "# transpose\n",
    "\n",
    "a = np.array([[1,2,2,4] , [7,77,78,79]])\n",
    "print(a)\n",
    "print(a.shape)"
   ]
  },
  {
   "cell_type": "code",
   "execution_count": 75,
   "id": "3b562a25-0900-48df-9784-6502ebf20832",
   "metadata": {},
   "outputs": [
    {
     "data": {
      "text/plain": [
       "array([[ 1,  7],\n",
       "       [ 2, 77],\n",
       "       [ 2, 78],\n",
       "       [ 4, 79]])"
      ]
     },
     "execution_count": 75,
     "metadata": {},
     "output_type": "execute_result"
    }
   ],
   "source": [
    "a.T     # T : is for transpose"
   ]
  },
  {
   "cell_type": "code",
   "execution_count": 79,
   "id": "416377f6-dfba-4de4-979e-e32648a14274",
   "metadata": {},
   "outputs": [
    {
     "name": "stdout",
     "output_type": "stream",
     "text": [
      "a =  [[ 1  2  2  4]\n",
      " [ 7 77 78 79]]\n",
      "b =  [[ 10  11  12  14]\n",
      " [100 200 300 400]]\n",
      "======concatenation======\n",
      "[[  1   2   2   4]\n",
      " [  7  77  78  79]\n",
      " [ 10  11  12  14]\n",
      " [100 200 300 400]]\n"
     ]
    }
   ],
   "source": [
    "# concatenation : adding\n",
    "\n",
    "a = np.array([[1,2,2,4] , [7,77,78,79]])\n",
    "b = np.array([[10,11,12,14] , [100,200,300,400]])\n",
    "\n",
    "print('a = ',a)\n",
    "print('b = ',b)\n",
    "\n",
    "print('======concatenation======')\n",
    "\n",
    "c = np.concatenate([a,b])\n",
    "\n",
    "print(c)"
   ]
  },
  {
   "cell_type": "code",
   "execution_count": 82,
   "id": "124c59bd-ed1a-4488-8c6d-2a4022f44363",
   "metadata": {},
   "outputs": [
    {
     "data": {
      "text/plain": [
       "array([[1, 0, 0],\n",
       "       [0, 1, 0],\n",
       "       [0, 0, 1]], dtype=int64)"
      ]
     },
     "execution_count": 82,
     "metadata": {},
     "output_type": "execute_result"
    }
   ],
   "source": [
    "# identity matrix:\n",
    "\n",
    "a = np.eye(3,3 , dtype = np.int64)\n",
    "a"
   ]
  },
  {
   "cell_type": "code",
   "execution_count": 2,
   "id": "7a4d6747-a232-41a5-9274-fcb679b66580",
   "metadata": {},
   "outputs": [],
   "source": [
    "## how to check the version:\n",
    "\n",
    "import numpy as np"
   ]
  },
  {
   "cell_type": "code",
   "execution_count": 84,
   "id": "a79ff5e7-fb28-4513-8eaa-1e772c2bcec1",
   "metadata": {},
   "outputs": [
    {
     "name": "stdout",
     "output_type": "stream",
     "text": [
      "1.26.4\n"
     ]
    }
   ],
   "source": [
    "print(np.__version__)  # it gives the version of numpy"
   ]
  },
  {
   "cell_type": "code",
   "execution_count": 86,
   "id": "8a5fe777-bfbd-4009-8a8b-8c895bb7d062",
   "metadata": {},
   "outputs": [
    {
     "data": {
      "text/plain": [
       "array([[7, 7, 7, 7, 7],\n",
       "       [7, 7, 7, 7, 7],\n",
       "       [7, 7, 7, 7, 7],\n",
       "       [7, 7, 7, 7, 7],\n",
       "       [7, 7, 7, 7, 7]], dtype=int64)"
      ]
     },
     "execution_count": 86,
     "metadata": {},
     "output_type": "execute_result"
    }
   ],
   "source": [
    "# full : method is used to fill the value which is required:\n",
    "\n",
    "a = np.full((5,5) , 7 , dtype = np.int64)\n",
    "a"
   ]
  },
  {
   "cell_type": "code",
   "execution_count": 88,
   "id": "84006602-bdd8-4bae-aff9-d72c8befe5f1",
   "metadata": {},
   "outputs": [
    {
     "name": "stdout",
     "output_type": "stream",
     "text": [
      "Before\n",
      "[[ 1  2  2  4]\n",
      " [ 7 77 78 79]]\n",
      "After\n",
      "[[  1   2   2   4]\n",
      " [  7  77 100  79]]\n"
     ]
    }
   ],
   "source": [
    "# change the value in array:\n",
    "\n",
    "a = np.array([[1,2,2,4] , [7,77,78,79]])\n",
    "print(\"Before\")\n",
    "print(a)\n",
    "print(\"After\")\n",
    "a[1][2] = 100\n",
    "print(a)"
   ]
  },
  {
   "cell_type": "code",
   "execution_count": 3,
   "id": "22b69dbf-3542-4d7e-b30e-f4394f62ffbb",
   "metadata": {},
   "outputs": [
    {
     "name": "stdout",
     "output_type": "stream",
     "text": [
      "X_array=  [[111 112]\n",
      " [121 122]]\n",
      "Y_array=  [[211.1 212.1]\n",
      " [221.1 222.1]]\n"
     ]
    }
   ],
   "source": [
    "# math approach\n",
    "\n",
    "x = np.array([[111,112],[121,122]],dtype=np.int64)\n",
    "y = np.array([[211.1,212.1],[221.1,222.1]],dtype=np.float64)\n",
    "\n",
    "print('X_array= ',x)\n",
    "print('Y_array= ',y)"
   ]
  },
  {
   "cell_type": "code",
   "execution_count": 4,
   "id": "d6d7bffa-1573-4c44-b6c4-dea46d3b8dae",
   "metadata": {},
   "outputs": [
    {
     "name": "stdout",
     "output_type": "stream",
     "text": [
      "[[322.1 324.1]\n",
      " [342.1 344.1]]\n"
     ]
    }
   ],
   "source": [
    "print(x+y)"
   ]
  },
  {
   "cell_type": "code",
   "execution_count": 5,
   "id": "135cfb7e-573c-429d-b534-a0f0bedabbb0",
   "metadata": {},
   "outputs": [
    {
     "name": "stdout",
     "output_type": "stream",
     "text": [
      "[[322.1 324.1]\n",
      " [342.1 344.1]]\n"
     ]
    }
   ],
   "source": [
    "print(np.add(x,y))"
   ]
  },
  {
   "cell_type": "code",
   "execution_count": 6,
   "id": "230dbd74-c7ab-48f6-95b8-7717a3d59fb3",
   "metadata": {},
   "outputs": [
    {
     "name": "stdout",
     "output_type": "stream",
     "text": [
      "[[-100.1 -100.1]\n",
      " [-100.1 -100.1]]\n"
     ]
    }
   ],
   "source": [
    "print(x-y)"
   ]
  },
  {
   "cell_type": "code",
   "execution_count": 7,
   "id": "271eb75d-7fd3-44ce-ae0b-775ce47841bb",
   "metadata": {},
   "outputs": [
    {
     "name": "stdout",
     "output_type": "stream",
     "text": [
      "[[ -1.11830703  -1.42711501  -9.7202953  -17.11734117  -9.02476441]\n",
      " [ -7.38506255  -0.13987233  -3.23251505 -15.09217306   5.27945524]]\n"
     ]
    }
   ],
   "source": [
    "# axis concept :\n",
    "\n",
    "# setup a random 2 * 4 matrix\n",
    "\n",
    "arr = 10 * np.random.randn(2,5)\n",
    "print(arr)"
   ]
  },
  {
   "cell_type": "code",
   "execution_count": 8,
   "id": "d02b7652-8e3a-496f-93c5-664deb9c34f8",
   "metadata": {},
   "outputs": [
    {
     "data": {
      "text/plain": [
       "-5.897799068249083"
      ]
     },
     "execution_count": 8,
     "metadata": {},
     "output_type": "execute_result"
    }
   ],
   "source": [
    "# find the mean = add each value and divided by number of values\n",
    "\n",
    "arr.mean()"
   ]
  },
  {
   "cell_type": "code",
   "execution_count": 9,
   "id": "b9a1c9f0-011e-4ce9-9833-a20ed51fdabd",
   "metadata": {},
   "outputs": [
    {
     "data": {
      "text/plain": [
       "array([ -4.25168479,  -0.78349367,  -6.47640518, -16.10475711,\n",
       "        -1.87265459])"
      ]
     },
     "execution_count": 9,
     "metadata": {},
     "output_type": "execute_result"
    }
   ],
   "source": [
    "# axis = 1 means row\n",
    "# axis = 0 means column [in pandas axis = 1 means column, axis = 0 means rows]\n",
    "\n",
    "arr.mean(axis=0)"
   ]
  },
  {
   "cell_type": "code",
   "execution_count": 10,
   "id": "1449a97e-5078-4a6d-8f7d-0f03366eae68",
   "metadata": {},
   "outputs": [
    {
     "data": {
      "text/plain": [
       "array([-7.68156458, -4.11403355])"
      ]
     },
     "execution_count": 10,
     "metadata": {},
     "output_type": "execute_result"
    }
   ],
   "source": [
    "arr.mean(axis=1)"
   ]
  },
  {
   "cell_type": "code",
   "execution_count": null,
   "id": "862f3c5e-43a8-48b1-aa29-a04ddd4bd4aa",
   "metadata": {},
   "outputs": [],
   "source": []
  }
 ],
 "metadata": {
  "kernelspec": {
   "display_name": "Python 3 (ipykernel)",
   "language": "python",
   "name": "python3"
  },
  "language_info": {
   "codemirror_mode": {
    "name": "ipython",
    "version": 3
   },
   "file_extension": ".py",
   "mimetype": "text/x-python",
   "name": "python",
   "nbconvert_exporter": "python",
   "pygments_lexer": "ipython3",
   "version": "3.11.7"
  }
 },
 "nbformat": 4,
 "nbformat_minor": 5
}
