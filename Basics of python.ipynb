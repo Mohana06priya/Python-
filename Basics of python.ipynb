{
 "cells": [
  {
   "cell_type": "markdown",
   "id": "c42d4a1e-6905-4eed-ace8-a751177781cc",
   "metadata": {},
   "source": [
    "### Data types"
   ]
  },
  {
   "cell_type": "code",
   "execution_count": 1,
   "id": "0c22afb8-b64e-4742-a71d-9a00a5b4ca89",
   "metadata": {},
   "outputs": [],
   "source": [
    "a = 25"
   ]
  },
  {
   "cell_type": "code",
   "execution_count": 2,
   "id": "b7373298-51e2-46a3-b7f5-2ead44e2a847",
   "metadata": {},
   "outputs": [
    {
     "name": "stdout",
     "output_type": "stream",
     "text": [
      "25\n"
     ]
    }
   ],
   "source": [
    "print(a)"
   ]
  },
  {
   "cell_type": "code",
   "execution_count": 3,
   "id": "10cc7cd9-f152-4914-a4dd-8f73ebee7288",
   "metadata": {},
   "outputs": [],
   "source": [
    "a = 100"
   ]
  },
  {
   "cell_type": "code",
   "execution_count": 4,
   "id": "b7fcc709-f9e2-4c61-bee0-95f3ff469ebc",
   "metadata": {},
   "outputs": [
    {
     "name": "stdout",
     "output_type": "stream",
     "text": [
      "100\n"
     ]
    }
   ],
   "source": [
    "print (a)"
   ]
  },
  {
   "cell_type": "code",
   "execution_count": 6,
   "id": "72290ebc-e63e-413d-823a-0421ff339972",
   "metadata": {},
   "outputs": [
    {
     "name": "stdout",
     "output_type": "stream",
     "text": [
      "150\n",
      "<class 'int'>\n"
     ]
    }
   ],
   "source": [
    "# Integer\n",
    "a = 150\n",
    "print (a)\n",
    "print (type(a))"
   ]
  },
  {
   "cell_type": "code",
   "execution_count": 7,
   "id": "7e319cb0-8c82-428f-9826-b9013d8fd7a5",
   "metadata": {},
   "outputs": [
    {
     "name": "stdout",
     "output_type": "stream",
     "text": [
      "150.88\n",
      "<class 'float'>\n"
     ]
    }
   ],
   "source": [
    "# Float\n",
    "a = 150.88\n",
    "print (a)\n",
    "print (type (a))"
   ]
  },
  {
   "cell_type": "code",
   "execution_count": 9,
   "id": "b9ecd272-4d0c-4114-9541-ae2065a469bf",
   "metadata": {},
   "outputs": [
    {
     "name": "stdout",
     "output_type": "stream",
     "text": [
      "data science\n",
      "<class 'str'>\n"
     ]
    }
   ],
   "source": [
    "# string\n",
    "a = 'data science'\n",
    "print (a)\n",
    "print (type (a))"
   ]
  },
  {
   "cell_type": "markdown",
   "id": "9b7755a5-ba9f-4d81-8aa4-9bee80f6f1ea",
   "metadata": {},
   "source": [
    "## Variables_Rules"
   ]
  },
  {
   "cell_type": "code",
   "execution_count": 10,
   "id": "fb387b34-0784-4c35-aebe-da2cea2283c9",
   "metadata": {},
   "outputs": [
    {
     "ename": "SyntaxError",
     "evalue": "invalid decimal literal (4035633343.py, line 1)",
     "output_type": "error",
     "traceback": [
      "\u001b[1;36m  Cell \u001b[1;32mIn[10], line 1\u001b[1;36m\u001b[0m\n\u001b[1;33m    12a = 150\u001b[0m\n\u001b[1;37m     ^\u001b[0m\n\u001b[1;31mSyntaxError\u001b[0m\u001b[1;31m:\u001b[0m invalid decimal literal\n"
     ]
    }
   ],
   "source": [
    "12a = 150 # Variable should not start with a number"
   ]
  },
  {
   "cell_type": "code",
   "execution_count": 11,
   "id": "420ddb69-da96-4e46-a46d-b1e9933c151f",
   "metadata": {},
   "outputs": [
    {
     "name": "stdout",
     "output_type": "stream",
     "text": [
      "50\n"
     ]
    }
   ],
   "source": [
    "# if you want to start a variable with number means useunderscore_\n",
    "\n",
    "_12a = 50\n",
    "print (_12a)"
   ]
  },
  {
   "cell_type": "code",
   "execution_count": 14,
   "id": "d881ffcf-47c0-4176-adac-4d128ec98bb4",
   "metadata": {},
   "outputs": [
    {
     "name": "stdout",
     "output_type": "stream",
     "text": [
      "60\n"
     ]
    }
   ],
   "source": [
    "# No space in variables: if you want to connect them use underscore_\n",
    "\n",
    "Sharuk_khan_age = 60\n",
    "print(Sharuk_khan_age)"
   ]
  },
  {
   "cell_type": "code",
   "execution_count": 15,
   "id": "04e79b56-875c-487a-a830-3d13b44976cb",
   "metadata": {},
   "outputs": [
    {
     "ename": "NameError",
     "evalue": "name 'A' is not defined",
     "output_type": "error",
     "traceback": [
      "\u001b[1;31m---------------------------------------------------------------------------\u001b[0m",
      "\u001b[1;31mNameError\u001b[0m                                 Traceback (most recent call last)",
      "Cell \u001b[1;32mIn[15], line 3\u001b[0m\n\u001b[0;32m      1\u001b[0m \u001b[38;5;66;03m# Case sensitive: [Python is a case sensitive language]\u001b[39;00m\n\u001b[0;32m      2\u001b[0m a \u001b[38;5;241m=\u001b[39m \u001b[38;5;241m100\u001b[39m\n\u001b[1;32m----> 3\u001b[0m \u001b[38;5;28mprint\u001b[39m(A)\n",
      "\u001b[1;31mNameError\u001b[0m: name 'A' is not defined"
     ]
    }
   ],
   "source": [
    "# Case sensitive: [Python is a case sensitive language]\n",
    "# Variable is case sensitive:\n",
    "a = 100\n",
    "print(A)"
   ]
  },
  {
   "cell_type": "code",
   "execution_count": 17,
   "id": "ec03e5b6-f587-40d3-81dd-d5e3e7fdff88",
   "metadata": {},
   "outputs": [
    {
     "ename": "SyntaxError",
     "evalue": "invalid syntax (83097066.py, line 2)",
     "output_type": "error",
     "traceback": [
      "\u001b[1;36m  Cell \u001b[1;32mIn[17], line 2\u001b[1;36m\u001b[0m\n\u001b[1;33m    $ = 100\u001b[0m\n\u001b[1;37m    ^\u001b[0m\n\u001b[1;31mSyntaxError\u001b[0m\u001b[1;31m:\u001b[0m invalid syntax\n"
     ]
    }
   ],
   "source": [
    "# Dont use these ['!\"#$%&\\'()*+,-./:;<=>?@[\\\\]^_`{|}~'] symbols as a variable\n",
    "$ = 100"
   ]
  },
  {
   "cell_type": "code",
   "execution_count": 18,
   "id": "0e7a4ced-afb2-4170-875f-f18eb1b37939",
   "metadata": {},
   "outputs": [],
   "source": [
    "a, b, c = 10, 20.5 , 'data science'"
   ]
  },
  {
   "cell_type": "code",
   "execution_count": 19,
   "id": "519a5979-106c-481b-a920-e15327f2e382",
   "metadata": {},
   "outputs": [
    {
     "name": "stdout",
     "output_type": "stream",
     "text": [
      "10\n"
     ]
    }
   ],
   "source": [
    "print (a)"
   ]
  },
  {
   "cell_type": "code",
   "execution_count": 20,
   "id": "53287145-a077-43fa-bedd-490cf7761137",
   "metadata": {},
   "outputs": [
    {
     "name": "stdout",
     "output_type": "stream",
     "text": [
      "20.5\n"
     ]
    }
   ],
   "source": [
    "print(b)"
   ]
  },
  {
   "cell_type": "code",
   "execution_count": 21,
   "id": "e35d85ec-6107-4df6-afd9-9fa5d63168ae",
   "metadata": {},
   "outputs": [
    {
     "name": "stdout",
     "output_type": "stream",
     "text": [
      "data science\n"
     ]
    }
   ],
   "source": [
    "print (c)"
   ]
  },
  {
   "cell_type": "code",
   "execution_count": 22,
   "id": "ebbad043-3501-40dc-b667-68d16e084d17",
   "metadata": {},
   "outputs": [
    {
     "name": "stdout",
     "output_type": "stream",
     "text": [
      "10 20.5 data science\n"
     ]
    }
   ],
   "source": [
    "print (a , b, c)"
   ]
  },
  {
   "cell_type": "code",
   "execution_count": 23,
   "id": "5117e66f-7c9b-4eba-88d6-78ce83454e41",
   "metadata": {},
   "outputs": [
    {
     "ename": "NameError",
     "evalue": "name 'abc' is not defined",
     "output_type": "error",
     "traceback": [
      "\u001b[1;31m---------------------------------------------------------------------------\u001b[0m",
      "\u001b[1;31mNameError\u001b[0m                                 Traceback (most recent call last)",
      "Cell \u001b[1;32mIn[23], line 1\u001b[0m\n\u001b[1;32m----> 1\u001b[0m \u001b[38;5;28mprint\u001b[39m(abc)\n",
      "\u001b[1;31mNameError\u001b[0m: name 'abc' is not defined"
     ]
    }
   ],
   "source": [
    "print(abc)"
   ]
  },
  {
   "cell_type": "code",
   "execution_count": 24,
   "id": "36e2f1ec-76f4-4abb-a072-1d951c2168b0",
   "metadata": {},
   "outputs": [
    {
     "name": "stdout",
     "output_type": "stream",
     "text": [
      "10\n",
      "10\n"
     ]
    }
   ],
   "source": [
    "a = 10\n",
    "b = a\n",
    "print (b)\n",
    "print (a)"
   ]
  },
  {
   "cell_type": "markdown",
   "id": "90af6406-0744-4952-8825-f62094989bb3",
   "metadata": {},
   "source": [
    "### Deep dive into print condition: "
   ]
  },
  {
   "cell_type": "code",
   "execution_count": 25,
   "id": "109ccae6-5d26-45b1-83e8-3b5eb6e64d60",
   "metadata": {},
   "outputs": [
    {
     "name": "stdout",
     "output_type": "stream",
     "text": [
      "Datascience\n"
     ]
    }
   ],
   "source": [
    "print ('Datascience')"
   ]
  },
  {
   "cell_type": "code",
   "execution_count": 26,
   "id": "1e9d92ab-cc14-49cf-9bd4-b327b76d6716",
   "metadata": {},
   "outputs": [
    {
     "name": "stdout",
     "output_type": "stream",
     "text": [
      "Datascience is very popular in 21st centuary\n"
     ]
    }
   ],
   "source": [
    "# we can use '', \"\", \"\"\" \"\"\" in python version 3:\n",
    "print ('Datascience is very popular in 21st centuary')"
   ]
  },
  {
   "cell_type": "code",
   "execution_count": 27,
   "id": "7558cbd9-7b99-4ef8-8977-45399e0b8793",
   "metadata": {},
   "outputs": [
    {
     "name": "stdout",
     "output_type": "stream",
     "text": [
      "Datascience is very popular in 21st centuary\n"
     ]
    }
   ],
   "source": [
    "print (\"Datascience is very popular in 21st centuary\")"
   ]
  },
  {
   "cell_type": "code",
   "execution_count": 33,
   "id": "a1c66c3e-bc6a-49d6-802e-36e2de586494",
   "metadata": {},
   "outputs": [
    {
     "name": "stdout",
     "output_type": "stream",
     "text": [
      "My age is = 26\n"
     ]
    }
   ],
   "source": [
    "# connect variable with print condition:\n",
    "\n",
    "# comma: will connect text inside code ' ' and variables:\n",
    "# comma is going to provide 1 tab space for you:\n",
    "age = 26\n",
    "print ('My age is =',age)"
   ]
  },
  {
   "cell_type": "code",
   "execution_count": 35,
   "id": "4020be0e-61e1-4212-a90d-1b5c282c6b77",
   "metadata": {},
   "outputs": [
    {
     "name": "stdout",
     "output_type": "stream",
     "text": [
      "I am learning datascience from topmentor in online\n"
     ]
    }
   ],
   "source": [
    "course = 'datascience'\n",
    "place = 'topmentor'\n",
    "access = 'online'\n",
    "\n",
    "# output = I am learning data science from top mentor in online\n",
    "print ('I am learning' ,course,'from' ,place,'in', access)"
   ]
  },
  {
   "cell_type": "markdown",
   "id": "5fde78d2-01a2-4e69-8036-27898b2b0afc",
   "metadata": {},
   "source": [
    "##### Data_type conversion"
   ]
  },
  {
   "cell_type": "code",
   "execution_count": 44,
   "id": "59ce7e2f-5205-4b56-9bbb-5b95f7a4ee98",
   "metadata": {},
   "outputs": [
    {
     "name": "stdout",
     "output_type": "stream",
     "text": [
      "<class 'int'>\n",
      "12.0\n",
      "<class 'float'>\n",
      "Float value = 12.0\n"
     ]
    }
   ],
   "source": [
    "# convert int to float\n",
    "a = 12\n",
    "print (type (a))\n",
    "b = float(a)  # value 12 converting to float and saving in variable b now b will bw 12.0\n",
    "print(b)\n",
    "print (type(b))\n",
    "print ('Float value =', b)"
   ]
  },
  {
   "cell_type": "code",
   "execution_count": 48,
   "id": "dd4200ba-1635-499c-a7bc-a4800ad72748",
   "metadata": {},
   "outputs": [
    {
     "name": "stdout",
     "output_type": "stream",
     "text": [
      "25.8\n",
      "<class 'float'>\n",
      "25\n",
      "<class 'int'>\n"
     ]
    }
   ],
   "source": [
    "# Float to integer:\n",
    "a = 25.8\n",
    "print(a)\n",
    "print(type(a))\n",
    "b = int(a) # value 25.8 converting to int and saving in variable b now b will be 25\n",
    "print (b)\n",
    "print (type(b))"
   ]
  },
  {
   "cell_type": "code",
   "execution_count": 50,
   "id": "ed3e96ff-7a41-4c9c-8d30-72be414e0925",
   "metadata": {},
   "outputs": [
    {
     "name": "stdout",
     "output_type": "stream",
     "text": [
      "20\n",
      "<class 'str'>\n"
     ]
    }
   ],
   "source": [
    "# int and float to string:\n",
    "a = 20\n",
    "b = str(a)\n",
    "print(b)\n",
    "print (type(b))"
   ]
  },
  {
   "cell_type": "code",
   "execution_count": 53,
   "id": "87a8bcae-fb07-422c-b8f3-8b18da4dab8a",
   "metadata": {},
   "outputs": [
    {
     "name": "stdout",
     "output_type": "stream",
     "text": [
      "<class 'str'>\n",
      "<class 'int'>\n",
      "20\n"
     ]
    }
   ],
   "source": [
    "# string to int and float:\n",
    "# string can be converted to int when there is only numbers not text\n",
    "\n",
    "a = '20'\n",
    "print(type(a))\n",
    "b= int(a)\n",
    "print (type(b))\n",
    "print (b)"
   ]
  },
  {
   "cell_type": "code",
   "execution_count": null,
   "id": "d379eeac-0c6d-422e-ab73-92357a1d1c26",
   "metadata": {},
   "outputs": [],
   "source": []
  },
  {
   "cell_type": "markdown",
   "id": "05824005-e672-44aa-abbb-2f64f645e90f",
   "metadata": {},
   "source": [
    "## Type conversion"
   ]
  },
  {
   "cell_type": "code",
   "execution_count": 55,
   "id": "590b1329-9ad3-4781-8d8a-78e3c45edb76",
   "metadata": {},
   "outputs": [
    {
     "ename": "TypeError",
     "evalue": "can only concatenate str (not \"int\") to str",
     "output_type": "error",
     "traceback": [
      "\u001b[1;31m---------------------------------------------------------------------------\u001b[0m",
      "\u001b[1;31mTypeError\u001b[0m                                 Traceback (most recent call last)",
      "Cell \u001b[1;32mIn[55], line 6\u001b[0m\n\u001b[0;32m      1\u001b[0m \u001b[38;5;66;03m## [+] : using plus we can add text inside the '' with variables but variable should be string\u001b[39;00m\n\u001b[0;32m      2\u001b[0m \n\u001b[0;32m      3\u001b[0m \u001b[38;5;66;03m# can only concatenate str (not 'int') to str : [adding]\u001b[39;00m\n\u001b[0;32m      4\u001b[0m age \u001b[38;5;241m=\u001b[39m \u001b[38;5;241m26\u001b[39m\n\u001b[1;32m----> 6\u001b[0m \u001b[38;5;28mprint\u001b[39m (\u001b[38;5;124m'\u001b[39m\u001b[38;5;124mMy age is\u001b[39m\u001b[38;5;124m'\u001b[39m\u001b[38;5;241m+\u001b[39mage)\n",
      "\u001b[1;31mTypeError\u001b[0m: can only concatenate str (not \"int\") to str"
     ]
    }
   ],
   "source": [
    "## [+] : using plus we can add text inside the '' with variables but variable should be string\n",
    "\n",
    "# can only concatenate str (not 'int') to str : [adding]\n",
    "age = 26\n",
    "\n",
    "print ('My age is'+age)"
   ]
  },
  {
   "cell_type": "code",
   "execution_count": 60,
   "id": "411187b1-f5cd-4211-af4f-a65a18db3978",
   "metadata": {},
   "outputs": [
    {
     "name": "stdout",
     "output_type": "stream",
     "text": [
      "My age is 26\n"
     ]
    }
   ],
   "source": [
    "age = 26\n",
    "print ('My age is '+str(age))"
   ]
  },
  {
   "cell_type": "code",
   "execution_count": 81,
   "id": "1b8928b6-7acb-4942-9c39-b83eac36ea03",
   "metadata": {},
   "outputs": [
    {
     "name": "stdout",
     "output_type": "stream",
     "text": [
      "I got 100.2 rs salary and learning a course in Udemy which charges 20 rs per day\n"
     ]
    }
   ],
   "source": [
    "salary = 100.2\n",
    "spend =20\n",
    "course = 'Udemy'\n",
    "\n",
    "# output : I got 100.2 rs salary and learning a course in udemy which charges 20 rs per day\n",
    "\n",
    "print('I got'+' '+str(salary)+' '+'rs salary and learning a course in'+' '+course+' '+'which charges'+' '+str(spend)+' '+'rs per day')"
   ]
  },
  {
   "cell_type": "code",
   "execution_count": 82,
   "id": "ee0f8f01-b1c4-4052-98d6-a09ea488a374",
   "metadata": {},
   "outputs": [
    {
     "name": "stdout",
     "output_type": "stream",
     "text": [
      "My age is 26\n"
     ]
    }
   ],
   "source": [
    "# % [Not to use because cunsumes lot of space in memory not good in real time]\n",
    "\n",
    "#int = %d\n",
    "#float = %f\n",
    "#string = %s\n",
    "\n",
    "age = 26\n",
    "print ('My age is %d'%(age))"
   ]
  },
  {
   "cell_type": "code",
   "execution_count": 87,
   "id": "fc19b15e-ba02-4554-933f-fc8b6d68ee67",
   "metadata": {},
   "outputs": [
    {
     "name": "stdout",
     "output_type": "stream",
     "text": [
      "I am learning Datascience with 10 rs and spend 34.200000 rs\n",
      "I am learning Datascience with 10 rs and spend 34.2 rs\n"
     ]
    }
   ],
   "source": [
    "course = 'Datascience'\n",
    "cost = 10\n",
    "spend = 34.2\n",
    "\n",
    "# output - I am learning datascience with 10 rs and spend 34.2 rs \n",
    "\n",
    "print ('I am learning %s with %d rs and spend %f rs'%(course,cost,spend))\n",
    "\n",
    "print(f'I am learning {course} with {cost} rs and spend {spend} rs')"
   ]
  },
  {
   "cell_type": "code",
   "execution_count": 85,
   "id": "2a9a04b8-9da4-4951-a335-ff8b65c58aed",
   "metadata": {},
   "outputs": [
    {
     "name": "stdout",
     "output_type": "stream",
     "text": [
      "My age is 26\n"
     ]
    }
   ],
   "source": [
    "# Important [using f''--> formating technique]\n",
    "\n",
    "age = 26\n",
    "\n",
    "print(f'My age is {age}')"
   ]
  },
  {
   "cell_type": "code",
   "execution_count": 89,
   "id": "1e4a73ba-4af2-4c99-892a-cc7f17109c73",
   "metadata": {},
   "outputs": [
    {
     "name": "stdout",
     "output_type": "stream",
     "text": [
      "My age is 26\n"
     ]
    }
   ],
   "source": [
    "# . format technique\n",
    "\n",
    "age = 26\n",
    "print('My age is {}' .format(age))"
   ]
  },
  {
   "cell_type": "code",
   "execution_count": 94,
   "id": "a375b635-14ca-4253-9855-baa0dee54bb9",
   "metadata": {},
   "outputs": [
    {
     "name": "stdout",
     "output_type": "stream",
     "text": [
      "I am learning Datascience with 10 rs and spend 34.2 rs\n"
     ]
    }
   ],
   "source": [
    "course = 'Datascience'\n",
    "cost = 10\n",
    "spend = 34.2\n",
    "# output - I am learning datascience with 10 rs and spend 34.2 rs \n",
    "\n",
    "print('I am learning {} with {} rs and spend {} rs' .format (course,cost,spend))"
   ]
  },
  {
   "cell_type": "markdown",
   "id": "413ea203-7f64-4b85-835d-e109528793ca",
   "metadata": {},
   "source": [
    "### Operators"
   ]
  },
  {
   "cell_type": "code",
   "execution_count": 95,
   "id": "57f16d10-7f16-41b8-bee3-6fab5799a829",
   "metadata": {},
   "outputs": [],
   "source": [
    "# +,-,*,/,//,%,pow,=,==,!=,<,>,<=,>="
   ]
  },
  {
   "cell_type": "code",
   "execution_count": 96,
   "id": "5c30e626-56bc-4882-826d-4a33ecbb2e99",
   "metadata": {},
   "outputs": [
    {
     "name": "stdout",
     "output_type": "stream",
     "text": [
      "30\n"
     ]
    }
   ],
   "source": [
    "a = 10\n",
    "b = 20\n",
    "print (a+b)"
   ]
  },
  {
   "cell_type": "code",
   "execution_count": 97,
   "id": "eb002bc1-d587-4aa9-bb73-6f3e9dd1296a",
   "metadata": {},
   "outputs": [
    {
     "name": "stdout",
     "output_type": "stream",
     "text": [
      "-10\n"
     ]
    }
   ],
   "source": [
    "a = 10\n",
    "b = 20\n",
    "print (a-b)"
   ]
  },
  {
   "cell_type": "code",
   "execution_count": 98,
   "id": "2f7fd5ca-d6b2-4c4b-a029-85c6fb88fec9",
   "metadata": {},
   "outputs": [
    {
     "name": "stdout",
     "output_type": "stream",
     "text": [
      "200\n"
     ]
    }
   ],
   "source": [
    "a = 10\n",
    "b = 20\n",
    "print (a*b) # * --> multiplication"
   ]
  },
  {
   "cell_type": "code",
   "execution_count": 99,
   "id": "a760bfee-3195-4e19-b38a-2446b350a238",
   "metadata": {},
   "outputs": [
    {
     "name": "stdout",
     "output_type": "stream",
     "text": [
      "0.5\n"
     ]
    }
   ],
   "source": [
    "a = 10\n",
    "b = 20\n",
    "print (a/b) # / --> division"
   ]
  },
  {
   "cell_type": "code",
   "execution_count": 100,
   "id": "e61fc1d5-32e1-47e6-a885-65a47e611769",
   "metadata": {},
   "outputs": [
    {
     "name": "stdout",
     "output_type": "stream",
     "text": [
      "0\n"
     ]
    }
   ],
   "source": [
    "# floor division means remove decimals\n",
    "a = 10\n",
    "b = 20\n",
    "print (a//b)"
   ]
  },
  {
   "cell_type": "code",
   "execution_count": 101,
   "id": "22b17a22-e382-45fb-b834-92f26de58b92",
   "metadata": {},
   "outputs": [
    {
     "name": "stdout",
     "output_type": "stream",
     "text": [
      "3\n"
     ]
    }
   ],
   "source": [
    "# % -> function takes reminder as output\n",
    "\n",
    "a = 23\n",
    "b = 5\n",
    "print(a % b)"
   ]
  },
  {
   "cell_type": "code",
   "execution_count": 102,
   "id": "22a11d63-3957-4601-b34c-b5cf00375fcd",
   "metadata": {},
   "outputs": [
    {
     "data": {
      "text/plain": [
       "8"
      ]
     },
     "execution_count": 102,
     "metadata": {},
     "output_type": "execute_result"
    }
   ],
   "source": [
    "# pow means power function\n",
    "pow(2,3)"
   ]
  },
  {
   "cell_type": "code",
   "execution_count": 108,
   "id": "90fc4cea-d5d7-4fa6-980c-5fc0370ce9c7",
   "metadata": {},
   "outputs": [
    {
     "data": {
      "text/plain": [
       "27"
      ]
     },
     "execution_count": 108,
     "metadata": {},
     "output_type": "execute_result"
    }
   ],
   "source": [
    "pow(3,3)"
   ]
  },
  {
   "cell_type": "code",
   "execution_count": 107,
   "id": "98f585d8-79f1-48f1-8388-aff26d509469",
   "metadata": {},
   "outputs": [
    {
     "data": {
      "text/plain": [
       "2"
      ]
     },
     "execution_count": 107,
     "metadata": {},
     "output_type": "execute_result"
    }
   ],
   "source": [
    "pow(3,3,5)"
   ]
  },
  {
   "cell_type": "code",
   "execution_count": null,
   "id": "908fef80-c225-4147-af3d-8e302525bd22",
   "metadata": {},
   "outputs": [],
   "source": [
    "# = : right side value will be given to left side:\n",
    "a = 10\n",
    "b = a"
   ]
  },
  {
   "cell_type": "code",
   "execution_count": 109,
   "id": "38c6ba25-273a-47a5-b98b-6f4206fee9bf",
   "metadata": {},
   "outputs": [
    {
     "data": {
      "text/plain": [
       "True"
      ]
     },
     "execution_count": 109,
     "metadata": {},
     "output_type": "execute_result"
    }
   ],
   "source": [
    "# == : will return boolean outcome\n",
    "\n",
    "10 == 10"
   ]
  },
  {
   "cell_type": "code",
   "execution_count": 110,
   "id": "56d8b49c-6d85-462b-9463-f91e7ad5ea59",
   "metadata": {},
   "outputs": [
    {
     "data": {
      "text/plain": [
       "False"
      ]
     },
     "execution_count": 110,
     "metadata": {},
     "output_type": "execute_result"
    }
   ],
   "source": [
    "8 == 10"
   ]
  },
  {
   "cell_type": "code",
   "execution_count": 111,
   "id": "50c7a492-f5c3-4ff0-872d-0cd6924f4930",
   "metadata": {},
   "outputs": [
    {
     "data": {
      "text/plain": [
       "True"
      ]
     },
     "execution_count": 111,
     "metadata": {},
     "output_type": "execute_result"
    }
   ],
   "source": [
    "# != : returns boolean value\n",
    "\n",
    "10!=5"
   ]
  },
  {
   "cell_type": "code",
   "execution_count": 112,
   "id": "528f9555-365a-43b3-86e5-ae33202a7c49",
   "metadata": {},
   "outputs": [
    {
     "data": {
      "text/plain": [
       "False"
      ]
     },
     "execution_count": 112,
     "metadata": {},
     "output_type": "execute_result"
    }
   ],
   "source": [
    "10> 11"
   ]
  },
  {
   "cell_type": "code",
   "execution_count": 113,
   "id": "7c50b2c8-dfdc-419c-bb82-6ff12b94acd6",
   "metadata": {},
   "outputs": [
    {
     "data": {
      "text/plain": [
       "False"
      ]
     },
     "execution_count": 113,
     "metadata": {},
     "output_type": "execute_result"
    }
   ],
   "source": [
    "# >= and <=\n",
    "\n",
    "10 > 10"
   ]
  },
  {
   "cell_type": "code",
   "execution_count": 114,
   "id": "7c29c7cb-c07c-4676-b448-e08c9ffaae96",
   "metadata": {},
   "outputs": [
    {
     "data": {
      "text/plain": [
       "True"
      ]
     },
     "execution_count": 114,
     "metadata": {},
     "output_type": "execute_result"
    }
   ],
   "source": [
    "10>=10"
   ]
  },
  {
   "cell_type": "code",
   "execution_count": null,
   "id": "e8624903-4250-4dd4-b43f-542d17a079a2",
   "metadata": {},
   "outputs": [],
   "source": []
  }
 ],
 "metadata": {
  "kernelspec": {
   "display_name": "Python 3 (ipykernel)",
   "language": "python",
   "name": "python3"
  },
  "language_info": {
   "codemirror_mode": {
    "name": "ipython",
    "version": 3
   },
   "file_extension": ".py",
   "mimetype": "text/x-python",
   "name": "python",
   "nbconvert_exporter": "python",
   "pygments_lexer": "ipython3",
   "version": "3.11.7"
  }
 },
 "nbformat": 4,
 "nbformat_minor": 5
}
