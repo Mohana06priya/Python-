{
 "cells": [
  {
   "cell_type": "markdown",
   "id": "7013bbb8-f74b-4790-8311-292fae66f812",
   "metadata": {},
   "source": [
    "## control statement : [Try to control something[real_life_example]]\n",
    "#### Techniques that comes under control statements in python:\n",
    "                    # for loops:\n",
    "#### What is a loop:\n",
    "        - Rotating according to the condition\n",
    "        - In our case the loop rotates based upon the condition that we are giving:\n",
    "        "
   ]
  },
  {
   "cell_type": "code",
   "execution_count": 1,
   "id": "211b276f-7810-49d3-95cc-d2c4f80022fa",
   "metadata": {},
   "outputs": [],
   "source": [
    "# syntax for loop:\n",
    "# using keyword for we can do control statement:"
   ]
  },
  {
   "cell_type": "code",
   "execution_count": 1,
   "id": "ee10e44a-4eb8-44b9-97ea-c3cc954dfa9c",
   "metadata": {},
   "outputs": [
    {
     "name": "stdout",
     "output_type": "stream",
     "text": [
      "good_morning\n",
      "good_morning\n",
      "good_morning\n",
      "good_morning\n",
      "good_morning\n"
     ]
    }
   ],
   "source": [
    "# looping 5 times:\n",
    "\n",
    "for i in range(5):\n",
    "    print('good_morning')\n",
    "    "
   ]
  },
  {
   "cell_type": "code",
   "execution_count": 2,
   "id": "83c8d4af-bde4-4733-8df4-5eb06de6b8da",
   "metadata": {},
   "outputs": [
    {
     "name": "stdout",
     "output_type": "stream",
     "text": [
      "good_morning\n",
      "good_morning\n",
      "good_morning\n",
      "good_morning\n"
     ]
    }
   ],
   "source": [
    "for i in range(1,5):\n",
    "    print('good_morning')"
   ]
  },
  {
   "cell_type": "code",
   "execution_count": 3,
   "id": "3d33dbd3-5133-479b-a4f2-92e9be6d3a69",
   "metadata": {},
   "outputs": [
    {
     "name": "stdout",
     "output_type": "stream",
     "text": [
      "1\n",
      "2\n",
      "3\n",
      "4\n"
     ]
    }
   ],
   "source": [
    "# print the values:\n",
    "\n",
    "for i in range(1,5):\n",
    "    print(i)"
   ]
  },
  {
   "cell_type": "code",
   "execution_count": 5,
   "id": "3104f000-f109-40d8-bd20-025e58fbb807",
   "metadata": {},
   "outputs": [
    {
     "name": "stdout",
     "output_type": "stream",
     "text": [
      "python\n",
      "python\n",
      "python\n",
      "python\n",
      "python\n",
      "python\n",
      "python\n",
      "python\n",
      "python\n",
      "python\n",
      "python\n",
      "python\n",
      "python\n",
      "python\n",
      "python\n",
      "python\n"
     ]
    }
   ],
   "source": [
    "# how 2 for_loops works: [Loop inside a loop]\n",
    "\n",
    "for i in range(1,5):\n",
    "    for j in range(4,8):\n",
    "        print('python')"
   ]
  },
  {
   "cell_type": "code",
   "execution_count": 6,
   "id": "4048bb52-91b0-4dba-ac20-eb70e9e4f7fd",
   "metadata": {},
   "outputs": [
    {
     "name": "stdout",
     "output_type": "stream",
     "text": [
      "1 4\n",
      "1 5\n",
      "1 6\n",
      "1 7\n",
      "2 4\n",
      "2 5\n",
      "2 6\n",
      "2 7\n",
      "3 4\n",
      "3 5\n",
      "3 6\n",
      "3 7\n",
      "4 4\n",
      "4 5\n",
      "4 6\n",
      "4 7\n"
     ]
    }
   ],
   "source": [
    "for i in range(1,5):\n",
    "    for j in range(4,8):\n",
    "        print(i,j)"
   ]
  },
  {
   "cell_type": "code",
   "execution_count": 10,
   "id": "9de34217-8b12-49aa-9140-2cb885208794",
   "metadata": {},
   "outputs": [
    {
     "name": "stdout",
     "output_type": "stream",
     "text": [
      "d\n",
      "a\n",
      "t\n",
      "a\n",
      " \n",
      "s\n",
      "c\n",
      "i\n",
      "e\n",
      "n\n",
      "c\n",
      "e\n"
     ]
    }
   ],
   "source": [
    "# for loop with string:\n",
    "\n",
    "course = 'data science'\n",
    "\n",
    "for i in course:\n",
    "    print(i)"
   ]
  },
  {
   "cell_type": "code",
   "execution_count": 11,
   "id": "29147596-9a04-452d-8955-63b9df22c30f",
   "metadata": {},
   "outputs": [
    {
     "name": "stdout",
     "output_type": "stream",
     "text": [
      "p j\n",
      "p a\n",
      "p v\n",
      "p a\n",
      "y j\n",
      "y a\n",
      "y v\n",
      "y a\n",
      "t j\n",
      "t a\n",
      "t v\n",
      "t a\n",
      "h j\n",
      "h a\n",
      "h v\n",
      "h a\n",
      "o j\n",
      "o a\n",
      "o v\n",
      "o a\n",
      "n j\n",
      "n a\n",
      "n v\n",
      "n a\n"
     ]
    }
   ],
   "source": [
    "# another example with string:\n",
    "\n",
    "for i in 'python':\n",
    "    for j in 'java':\n",
    "        print(i,j)"
   ]
  },
  {
   "cell_type": "code",
   "execution_count": 13,
   "id": "d04ea0f0-410d-4a05-94ee-4badc956f7d9",
   "metadata": {},
   "outputs": [
    {
     "name": "stdout",
     "output_type": "stream",
     "text": [
      "10\n",
      "12.5\n",
      "python\n",
      "Artificial Intelligence\n"
     ]
    }
   ],
   "source": [
    "# for loops with list:\n",
    "a = [10,12.5,'python']\n",
    "for i in a:\n",
    "    print(i)\n",
    "print('Artificial Intelligence')    "
   ]
  },
  {
   "cell_type": "code",
   "execution_count": 14,
   "id": "cbe6a097-357f-4963-b0de-5c6300c49397",
   "metadata": {},
   "outputs": [
    {
     "name": "stdout",
     "output_type": "stream",
     "text": [
      "3\n",
      "10\n",
      "12.4\n",
      "python\n"
     ]
    }
   ],
   "source": [
    "# we can do it with len and index:\n",
    "\n",
    "a = [10,12.4,'python']\n",
    "print(len(a))\n",
    "for i in range (len(a)):\n",
    "    print(a[i])\n",
    "\n"
   ]
  },
  {
   "cell_type": "code",
   "execution_count": 15,
   "id": "45ae5c2b-dc3c-4fc3-acde-437da3c79129",
   "metadata": {},
   "outputs": [
    {
     "name": "stdout",
     "output_type": "stream",
     "text": [
      "1\n",
      "10\n",
      "python\n",
      "12.3\n"
     ]
    }
   ],
   "source": [
    "# sets\n",
    "\n",
    "a = {1,10,'python',12.3}\n",
    "\n",
    "for i in a:\n",
    "    print(i)"
   ]
  },
  {
   "cell_type": "code",
   "execution_count": 17,
   "id": "fccd9057-0a2d-4996-bd15-75ce113e4bbb",
   "metadata": {},
   "outputs": [
    {
     "name": "stdout",
     "output_type": "stream",
     "text": [
      "dict_keys(['ravi', 'kamal', 'sai'])\n",
      "ravi\n",
      "kamal\n",
      "sai\n"
     ]
    }
   ],
   "source": [
    "# for loops with dictionary:\n",
    "\n",
    "a = {'ravi':10 , 'kamal':20 , 'sai':30} # we are having key value pairs\n",
    "print(a.keys())\n",
    "for i in a.keys():\n",
    "    print(i)\n"
   ]
  },
  {
   "cell_type": "code",
   "execution_count": 18,
   "id": "4a5827b6-7480-4704-8c28-bdc4df2f384c",
   "metadata": {},
   "outputs": [
    {
     "name": "stdout",
     "output_type": "stream",
     "text": [
      "dict_values([10, 20, 30])\n",
      "10\n",
      "20\n",
      "30\n"
     ]
    }
   ],
   "source": [
    "a = {'ravi':10 , 'kamal':20 , 'sai':30} \n",
    "print(a.values())\n",
    "for i in a.values():\n",
    "    print(i)"
   ]
  },
  {
   "cell_type": "code",
   "execution_count": 19,
   "id": "e2f126f7-2813-4d13-9bfb-f6a8597795d9",
   "metadata": {},
   "outputs": [
    {
     "name": "stdout",
     "output_type": "stream",
     "text": [
      "dict_items([('ravi', 10), ('kamal', 20), ('sai', 30)])\n",
      "ravi 10\n",
      "kamal 20\n",
      "sai 30\n"
     ]
    }
   ],
   "source": [
    "a = {'ravi':10 , 'kamal':20 , 'sai':30} \n",
    "print(a.items())\n",
    "for i,j in a.items():\n",
    "    print(i,j)"
   ]
  },
  {
   "cell_type": "code",
   "execution_count": 20,
   "id": "67d8318d-95d8-4f46-a1df-fd72e1aace59",
   "metadata": {},
   "outputs": [
    {
     "name": "stdout",
     "output_type": "stream",
     "text": [
      "0 p\n",
      "1 y\n",
      "2 t\n",
      "3 h\n",
      "4 o\n",
      "5 n\n"
     ]
    }
   ],
   "source": [
    "# enumerate in list:\n",
    "# enumerate function will give us index and value\n",
    "\n",
    "a = 'python'\n",
    "\n",
    "for i,j in enumerate (a):\n",
    "    print (i,j)"
   ]
  },
  {
   "cell_type": "code",
   "execution_count": 21,
   "id": "09f1029e-5ca2-49c0-902a-92f0c1440d50",
   "metadata": {},
   "outputs": [
    {
     "name": "stdout",
     "output_type": "stream",
     "text": [
      "0 10\n",
      "1 12.5\n",
      "2 python\n"
     ]
    }
   ],
   "source": [
    "a = [10,12.5,'python']\n",
    "\n",
    "for i,j in enumerate(a):\n",
    "    print(i,j)\n"
   ]
  },
  {
   "cell_type": "markdown",
   "id": "56aa779b-0c3a-428b-92c2-9e92236a9bec",
   "metadata": {},
   "source": [
    "## Conditional Statements:\n",
    "    - if = single condition\n",
    "    - elif = multiple conditions\n",
    "    - else = no condition"
   ]
  },
  {
   "cell_type": "code",
   "execution_count": 22,
   "id": "08a0a006-6199-4763-96a1-4bc7b971a630",
   "metadata": {},
   "outputs": [
    {
     "name": "stdout",
     "output_type": "stream",
     "text": [
      "0\n"
     ]
    }
   ],
   "source": [
    "number = 20\n",
    "print(20%2)"
   ]
  },
  {
   "cell_type": "code",
   "execution_count": 23,
   "id": "ca79b440-ffce-4a42-9f12-ac791cce8a3d",
   "metadata": {},
   "outputs": [
    {
     "name": "stdout",
     "output_type": "stream",
     "text": [
      " It is an even number\n"
     ]
    }
   ],
   "source": [
    "number = 20 # i want to find 20 is a even or odd number\n",
    "# if the condition satisfies then only we can go inside:\n",
    "if number % 2 == 0:\n",
    "    print(' It is an even number')\n"
   ]
  },
  {
   "cell_type": "code",
   "execution_count": 25,
   "id": "281a246c-a493-4e8e-8ef9-9000f37570a2",
   "metadata": {},
   "outputs": [
    {
     "name": "stdout",
     "output_type": "stream",
     "text": [
      "The given number is not an even number\n"
     ]
    }
   ],
   "source": [
    "number = 21\n",
    "if number % 2 == 0:\n",
    "    print(' It is an even number')\n",
    "else: \n",
    "    print('The given number is not an even number')"
   ]
  },
  {
   "cell_type": "code",
   "execution_count": 26,
   "id": "09bd114c-8677-4d8a-92d7-03b77929b2fd",
   "metadata": {},
   "outputs": [
    {
     "name": "stdout",
     "output_type": "stream",
     "text": [
      "He can improve in academics\n"
     ]
    }
   ],
   "source": [
    "# if elif and else:\n",
    "# if conditions are not satisfied then goes to else block\n",
    "\n",
    "marks = 40\n",
    "\n",
    "kamal = 30\n",
    "kamal_avg = 25\n",
    "kamal_high = 52\n",
    "\n",
    "if kamal > marks:\n",
    "    print('kamal passed in the exam')\n",
    "    \n",
    "elif kamal_avg < 30:\n",
    "    print('He can improve in academics')\n",
    "    \n",
    "elif kamal_high > 50:\n",
    "    print('He works well')\n",
    "    \n",
    "else:\n",
    "    print('Kamal loves singing so he will become a singer')"
   ]
  },
  {
   "cell_type": "code",
   "execution_count": 27,
   "id": "c276ee3a-f99e-4339-88ee-82c1e2d3c183",
   "metadata": {},
   "outputs": [
    {
     "name": "stdout",
     "output_type": "stream",
     "text": [
      "Kamal loves singing so he will become a singer\n"
     ]
    }
   ],
   "source": [
    "marks = 40\n",
    "\n",
    "kamal = 30\n",
    "kamal_avg = 52\n",
    "kamal_high = 22\n",
    "\n",
    "if kamal > marks:\n",
    "    print('kamal passed in the exam')\n",
    "    \n",
    "elif kamal_avg < 30:\n",
    "    print('He can improve in academics')\n",
    "    \n",
    "elif kamal_high > 50:\n",
    "    print('He works well')\n",
    "    \n",
    "else:\n",
    "    print('Kamal loves singing so he will become a singer')"
   ]
  },
  {
   "cell_type": "code",
   "execution_count": 37,
   "id": "61b904cb-2c1a-4394-8998-427a9014dc64",
   "metadata": {},
   "outputs": [
    {
     "name": "stdout",
     "output_type": "stream",
     "text": [
      "2 even\n",
      "4 even\n",
      "6 even\n",
      "8 even\n",
      "10 even\n",
      "12 even\n",
      "14 even\n",
      "16 even\n",
      "18 even\n",
      "20 even\n"
     ]
    }
   ],
   "source": [
    "## i want to find even numbers from 1 to 20:\n",
    "\n",
    "for i in range(1,21):\n",
    "    if i % 2 == 0:\n",
    "        print(i,'even')\n"
   ]
  },
  {
   "cell_type": "code",
   "execution_count": 39,
   "id": "2b27efe2-0dbf-4e0c-a49b-e77f02bc9089",
   "metadata": {},
   "outputs": [
    {
     "name": "stdout",
     "output_type": "stream",
     "text": [
      "dt scnc\n"
     ]
    }
   ],
   "source": [
    "# Remove vowels:\n",
    "\n",
    "a = 'data science'\n",
    "c=''\n",
    "for i in a:\n",
    "    if i not in 'aeiouAEIOU':\n",
    "        c+=i\n",
    "print(c)"
   ]
  },
  {
   "cell_type": "code",
   "execution_count": 44,
   "id": "5a875968-f44b-45b4-af53-51537bcb72eb",
   "metadata": {},
   "outputs": [
    {
     "name": "stdout",
     "output_type": "stream",
     "text": [
      "1\n",
      "2\n",
      "3\n",
      "4\n",
      "5\n",
      "6\n",
      "7\n",
      "Good Afternoon\n"
     ]
    }
   ],
   "source": [
    "# break condition:\n",
    "# break means finally stops:\n",
    "# the only purpose of using break is to break the loop\n",
    "for i in range(1,11):\n",
    "    print(i)\n",
    "    if i == 7:\n",
    "        break\n",
    "print('Good Afternoon')"
   ]
  },
  {
   "cell_type": "code",
   "execution_count": 1,
   "id": "6cab331c-94ba-48ed-a3db-611cd731285c",
   "metadata": {},
   "outputs": [],
   "source": [
    "# break with while loop\n",
    "# first lets understand while loop\n",
    "# While loop will execute continuosly if there no proper condition\n",
    "# if while loop condition satisfies then only it will go inside"
   ]
  },
  {
   "cell_type": "markdown",
   "id": "04f03e44-b0cd-4e8b-9c43-f7c0effeee7a",
   "metadata": {},
   "source": [
    "a = 1\n",
    "\n",
    "while a>0:\n",
    "    print(a)\n",
    "    a = a+1 (infinity loop) not proper way of coding"
   ]
  },
  {
   "cell_type": "code",
   "execution_count": 2,
   "id": "89d00e20-a1e2-490d-9d6a-581e58e48d25",
   "metadata": {},
   "outputs": [
    {
     "name": "stdout",
     "output_type": "stream",
     "text": [
      "1\n",
      "2\n",
      "3\n",
      "4\n",
      "5\n",
      "6\n",
      "7\n",
      "8\n",
      "9\n",
      "10\n",
      "11\n",
      "12\n",
      "13\n",
      "14\n",
      "15\n",
      "16\n",
      "17\n",
      "18\n",
      "19\n",
      "20\n",
      "came outoff while loop\n"
     ]
    }
   ],
   "source": [
    "# using break to stop the infinite loop:\n",
    "\n",
    "a = 1\n",
    "\n",
    "while a > 0:\n",
    "    print(a)\n",
    "    if a == 20:\n",
    "        break\n",
    "    a = a+1\n",
    "\n",
    "print('came outoff while loop')"
   ]
  },
  {
   "cell_type": "code",
   "execution_count": 7,
   "id": "42b03e3c-e28b-4123-af87-87911306a611",
   "metadata": {},
   "outputs": [
    {
     "name": "stdout",
     "output_type": "stream",
     "text": [
      "121 It is a Palindrome number\n"
     ]
    }
   ],
   "source": [
    "# 1 question using while loop\n",
    "# write a python code where it should find the number is same or not in reverse \n",
    "# Palindrome: checks reverse number is same or not\n",
    "a = 145 # 541 not same\n",
    "\n",
    "a = 121  # 121 same\n",
    "\n",
    "number = 121\n",
    "temp = number\n",
    "count = 0\n",
    "while number > 0:\n",
    "    res = number % 10\n",
    "    count = (count * 10) + res\n",
    "    number = number // 10\n",
    "\n",
    "if temp == count:\n",
    "    print(count , 'It is a Palindrome number')\n",
    "else:\n",
    "    print(count , 'Not a Palindrome number')"
   ]
  },
  {
   "cell_type": "code",
   "execution_count": 10,
   "id": "4bf0a295-aa72-44dd-a43e-779da454793b",
   "metadata": {},
   "outputs": [
    {
     "name": "stdout",
     "output_type": "stream",
     "text": [
      "Given string is a palindrome\n"
     ]
    }
   ],
   "source": [
    "# Palindrome of a string:\n",
    "a = 'EYE'\n",
    "if a == a[::-1]:\n",
    "    print('Given string is a palindrome')\n",
    "else:\n",
    "    print('Not a Palindrome')"
   ]
  },
  {
   "cell_type": "code",
   "execution_count": 11,
   "id": "acdd9354-a6cd-40b2-b40b-5db98ea93d31",
   "metadata": {},
   "outputs": [
    {
     "name": "stdout",
     "output_type": "stream",
     "text": [
      "Given string is a palindrome\n"
     ]
    }
   ],
   "source": [
    "a = 'MADAM'\n",
    "if a == a[::-1]:\n",
    "    print('Given string is a palindrome')\n",
    "else:\n",
    "    print('Not a Palindrome')"
   ]
  },
  {
   "cell_type": "code",
   "execution_count": 19,
   "id": "4db0506c-6912-460b-93e5-2ad9e31c8cda",
   "metadata": {},
   "outputs": [
    {
     "name": "stdout",
     "output_type": "stream",
     "text": [
      "6 It is a perfect number\n"
     ]
    }
   ],
   "source": [
    "# Perfect number : \n",
    "# find the given number is perfect or not:\n",
    "\n",
    "number = 6\n",
    "count = 0\n",
    "for i in range(1 , number):\n",
    "    if number % i ==0:\n",
    "        count = count + i\n",
    "if count == number:\n",
    "        print(number , 'It is a perfect number')\n",
    "else:\n",
    "    print(number , 'It is not a perfect number')"
   ]
  },
  {
   "cell_type": "code",
   "execution_count": 18,
   "id": "5ae8b6aa-77f7-48e8-b303-1e179853ccd6",
   "metadata": {},
   "outputs": [
    {
     "name": "stdout",
     "output_type": "stream",
     "text": [
      "6 It is not a perfect number\n"
     ]
    }
   ],
   "source": [
    "# using while loop\n",
    "\n",
    "number = 6\n",
    "count = 0\n",
    "value = 5\n",
    "while value > 0:\n",
    "    if number % value == 0:\n",
    "        count = count + 1\n",
    "    value = value - 1\n",
    "if count == number:\n",
    "    print(number , 'It is a perfect number')\n",
    "else:\n",
    "    print(number , 'It is not a perfect number')"
   ]
  },
  {
   "cell_type": "code",
   "execution_count": null,
   "id": "63c82f22-e78b-4dbe-a69c-1248829c57b2",
   "metadata": {},
   "outputs": [],
   "source": []
  }
 ],
 "metadata": {
  "kernelspec": {
   "display_name": "Python 3 (ipykernel)",
   "language": "python",
   "name": "python3"
  },
  "language_info": {
   "codemirror_mode": {
    "name": "ipython",
    "version": 3
   },
   "file_extension": ".py",
   "mimetype": "text/x-python",
   "name": "python",
   "nbconvert_exporter": "python",
   "pygments_lexer": "ipython3",
   "version": "3.11.7"
  }
 },
 "nbformat": 4,
 "nbformat_minor": 5
}
