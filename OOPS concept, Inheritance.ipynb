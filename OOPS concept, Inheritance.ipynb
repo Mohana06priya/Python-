{
 "cells": [
  {
   "cell_type": "markdown",
   "id": "250e906a-0efd-47a1-8f70-537789023579",
   "metadata": {},
   "source": [
    "### OOPS concept"
   ]
  },
  {
   "cell_type": "markdown",
   "id": "3c67a35c-03ca-4066-944d-a4920a441edd",
   "metadata": {},
   "source": [
    "'oops' means : object oriented programming structure\n",
    "\n",
    "    - class\n",
    "    - object\n",
    "    - constructors\n",
    "    - function in a class\n",
    "    - Inheritance\n",
    "    - polymorphism\n",
    "    - Abstraction\n",
    "    - Encapsulation"
   ]
  },
  {
   "cell_type": "code",
   "execution_count": 1,
   "id": "c3002b98-664b-4674-9e7c-c103dddc8290",
   "metadata": {},
   "outputs": [],
   "source": [
    "# syntax for class : Class[class_name]"
   ]
  },
  {
   "cell_type": "code",
   "execution_count": 2,
   "id": "5f259bf1-7b05-4e2e-929f-cbedb3f9471b",
   "metadata": {},
   "outputs": [
    {
     "name": "stdout",
     "output_type": "stream",
     "text": [
      "yes i am working\n"
     ]
    }
   ],
   "source": [
    "class cseA():\n",
    "    print('yes i am working')"
   ]
  },
  {
   "cell_type": "code",
   "execution_count": 4,
   "id": "401599ae-8f73-4cad-a702-ce9abdc43918",
   "metadata": {},
   "outputs": [],
   "source": [
    "class cseA():\n",
    "    a = 10\n",
    "    b = 20\n",
    "    "
   ]
  },
  {
   "cell_type": "code",
   "execution_count": 9,
   "id": "d3d2da90-58bb-4fe3-8654-aa819693465c",
   "metadata": {},
   "outputs": [
    {
     "name": "stdout",
     "output_type": "stream",
     "text": [
      "30\n"
     ]
    }
   ],
   "source": [
    "obj = cseA()  # obj means object : [for better understanding imagine object as servant]\n",
    "# hey object go to the class and add two values:\n",
    "# call obj as object or instance\n",
    "print(obj.a + obj.b)"
   ]
  },
  {
   "cell_type": "code",
   "execution_count": 3,
   "id": "0e6983e8-07e3-4e17-9526-41861b94c4f5",
   "metadata": {},
   "outputs": [
    {
     "name": "stdout",
     "output_type": "stream",
     "text": [
      "20000\n"
     ]
    }
   ],
   "source": [
    "# Find the area of rectangle: length * breadth\n",
    "\n",
    "class rectangle():\n",
    "    length = 100\n",
    "    breadth = 200\n",
    "\n",
    "\n",
    "# if we want to do the operations please create an object and use the object for usecase\n",
    "servant_obj = rectangle()\n",
    "print(servant_obj.length * servant_obj.breadth)"
   ]
  },
  {
   "cell_type": "code",
   "execution_count": 4,
   "id": "95a5065d-9ea9-47fc-929b-07cbb4d01709",
   "metadata": {},
   "outputs": [],
   "source": [
    "# class : collection of functions or variables\n",
    "# object : Instance of a class"
   ]
  },
  {
   "cell_type": "code",
   "execution_count": 5,
   "id": "29f30f26-3fd2-48c6-b935-41a861f3fbfe",
   "metadata": {},
   "outputs": [
    {
     "name": "stdout",
     "output_type": "stream",
     "text": [
      "20000\n"
     ]
    }
   ],
   "source": [
    "# since class is also having permission:\n",
    "\n",
    "class rectangle():\n",
    "    length = 100\n",
    "    breadth = 200\n",
    "\n",
    "# class will do the operation:\n",
    "\n",
    "print(rectangle.length * rectangle.breadth)"
   ]
  },
  {
   "cell_type": "code",
   "execution_count": 8,
   "id": "2c907cf3-14e1-4610-a515-8a101aefbe81",
   "metadata": {},
   "outputs": [],
   "source": [
    "# small example for pass keyword\n",
    "\n",
    "a = 12\n",
    "if a % 2 != 0:\n",
    "    print('odd')\n",
    "else:\n",
    "    pass"
   ]
  },
  {
   "cell_type": "code",
   "execution_count": 14,
   "id": "1bee34fc-b55b-4153-8905-6c9b2328f9c4",
   "metadata": {},
   "outputs": [
    {
     "name": "stdout",
     "output_type": "stream",
     "text": [
      "200000\n"
     ]
    }
   ],
   "source": [
    "# can object creates data inside the class:\n",
    "\n",
    "class python():\n",
    "    a = 10\n",
    "\n",
    "object_ = python()\n",
    "object_.length = 100   # yes we can create the data into the class using object\n",
    "object_.breadth = 200\n",
    "\n",
    "print(object_.length*object_.breadth*object_.a)  # since data is available now in class I am doing some math operations"
   ]
  },
  {
   "cell_type": "markdown",
   "id": "534517bc-079b-45b3-9685-b798d8d1dbec",
   "metadata": {},
   "source": [
    "### constructors"
   ]
  },
  {
   "cell_type": "code",
   "execution_count": 15,
   "id": "9b252305-862a-4063-a7f1-fa09299cfe05",
   "metadata": {},
   "outputs": [],
   "source": [
    "# constructors: Actually there are 2 types of constructors\n",
    "# 1. default constructors\n",
    "# 2. parameter constructors\n",
    "\n",
    "# constructor means same as class but we need to communicate the class through constructor\n",
    "# in any language class name and constructor name is same\n",
    "# __init__  = constructor\n",
    "# once creating an object for the class, the default constructor will be called"
   ]
  },
  {
   "cell_type": "code",
   "execution_count": 21,
   "id": "fbcde77d-2c74-4ba4-b048-37cdaf1ace3f",
   "metadata": {},
   "outputs": [
    {
     "name": "stdout",
     "output_type": "stream",
     "text": [
      "I am a constructor I am getting called\n"
     ]
    }
   ],
   "source": [
    "# default constructor:\n",
    "class python():\n",
    "    def __init__(self):  # self is a copy of an object\n",
    "        print('I am a constructor I am getting called')\n",
    "\n",
    "obj = python()\n"
   ]
  },
  {
   "cell_type": "code",
   "execution_count": 22,
   "id": "fb23e7b9-4dc0-4f6d-91c8-dda40d120095",
   "metadata": {},
   "outputs": [],
   "source": [
    "# I am going to add two numbers"
   ]
  },
  {
   "cell_type": "code",
   "execution_count": 8,
   "id": "787c224f-e462-4974-8ccb-4b94cebc12fb",
   "metadata": {},
   "outputs": [
    {
     "data": {
      "text/plain": [
       "200"
      ]
     },
     "execution_count": 8,
     "metadata": {},
     "output_type": "execute_result"
    }
   ],
   "source": [
    "class Addition():\n",
    "    def __init__(self , a , b): # self is a var used to save a copy of an object\n",
    "        self.a = a\n",
    "        self.b = b\n",
    "    def fun(self):\n",
    "        return self.a*self.b\n",
    "        \n",
    "\n",
    "obj = addition(10,20)\n",
    "obj.fun()"
   ]
  },
  {
   "cell_type": "code",
   "execution_count": 14,
   "id": "bfdc408f-04e7-4bbc-b09c-b990e5621822",
   "metadata": {},
   "outputs": [
    {
     "name": "stdout",
     "output_type": "stream",
     "text": [
      "35\n",
      "78125\n"
     ]
    }
   ],
   "source": [
    "# square of a number and cube of a number:\n",
    "class math_operation():\n",
    "    def __init__(self , a , b):\n",
    "        self.value1=a\n",
    "        self.value2=b\n",
    "    # write a function and do multiplication\n",
    "    def multiplication(self):\n",
    "        return self.value1*self.value2\n",
    "    \n",
    "    # write a function and do cubing\n",
    "    def cube(self):\n",
    "        return self.value1 ** self.value2\n",
    "    \n",
    "    \n",
    "obj = math_operation(5 , 7)\n",
    "# functions we need to call explicitly\n",
    "\n",
    "sol = obj.multiplication()\n",
    "print(sol)\n",
    "sol2 = obj.cube()\n",
    "print(sol2)"
   ]
  },
  {
   "cell_type": "code",
   "execution_count": null,
   "id": "aec779a7-d0a7-40a2-bcfd-cf7f559c01bc",
   "metadata": {},
   "outputs": [],
   "source": []
  },
  {
   "cell_type": "code",
   "execution_count": null,
   "id": "d1069662-afa1-48ae-b4ed-0cf018ca12b9",
   "metadata": {},
   "outputs": [],
   "source": []
  },
  {
   "cell_type": "code",
   "execution_count": 13,
   "id": "596012b6-ef78-4d3a-a960-ebf68ccd5d14",
   "metadata": {},
   "outputs": [],
   "source": [
    "# as a developer i want to send the data to some other employee class:"
   ]
  },
  {
   "cell_type": "code",
   "execution_count": null,
   "id": "b136253b-9376-437f-95d5-3e2d75f4ac57",
   "metadata": {},
   "outputs": [],
   "source": []
  },
  {
   "cell_type": "markdown",
   "id": "adcae74e-5063-4758-b863-d3ac678f7be9",
   "metadata": {},
   "source": [
    "### Inheritance"
   ]
  },
  {
   "cell_type": "code",
   "execution_count": 21,
   "id": "eea22dff-94b6-4942-8e7a-1d8674ffa8f6",
   "metadata": {},
   "outputs": [],
   "source": [
    "# inheritance ******* [very important]\n",
    "\n",
    "# Inheritance means adopting something\n",
    "# why is it important\n",
    "# employee 1: 10 classes[class:1 , class:2,...]\n",
    "# employee 2: I can inherit the code from the employee 1:\n",
    "\n",
    "# parent class and child class:\n",
    "\n",
    "# father is having 1 cr of property\n",
    "# as a son: I will get the 1 cr property"
   ]
  },
  {
   "cell_type": "markdown",
   "id": "3c55df14-ee6c-4311-a81e-e8debd5cb3b4",
   "metadata": {},
   "source": [
    "### Inheritance works with 2 things\n",
    "\n",
    "- parent\n",
    "- child"
   ]
  },
  {
   "cell_type": "markdown",
   "id": "24bf0359-7322-4b1c-9235-d4138485dc32",
   "metadata": {},
   "source": [
    "'There are 5 types of Inheritance'\n",
    "\n",
    "- single inheritance\n",
    "- multiple inheritance\n",
    "- multilevel inheritance\n",
    "- hybrid inheritance\n",
    "- hirarical inheritance"
   ]
  },
  {
   "cell_type": "code",
   "execution_count": 23,
   "id": "ff063b5b-1b8c-4214-acfe-66bab6b0e981",
   "metadata": {},
   "outputs": [],
   "source": [
    "# basic concept on inheritance"
   ]
  },
  {
   "cell_type": "markdown",
   "id": "ef9b9193-635e-4975-8658-a55ef3f1deba",
   "metadata": {},
   "source": [
    "##  SINGLE INHERITANCE "
   ]
  },
  {
   "cell_type": "code",
   "execution_count": 2,
   "id": "b6834671-04ee-4bf6-ad68-58340074b5e5",
   "metadata": {},
   "outputs": [
    {
     "name": "stdout",
     "output_type": "stream",
     "text": [
      "I am working with API's sir not with microservices\n"
     ]
    },
    {
     "ename": "AttributeError",
     "evalue": "'Child' object has no attribute 'microservices'",
     "output_type": "error",
     "traceback": [
      "\u001b[1;31m---------------------------------------------------------------------------\u001b[0m",
      "\u001b[1;31mAttributeError\u001b[0m                            Traceback (most recent call last)",
      "Cell \u001b[1;32mIn[2], line 16\u001b[0m\n\u001b[0;32m     13\u001b[0m child_obj\u001b[38;5;241m.\u001b[39mAPI()  \u001b[38;5;66;03m# it works\u001b[39;00m\n\u001b[0;32m     15\u001b[0m \u001b[38;5;66;03m# will figure it out:\u001b[39;00m\n\u001b[1;32m---> 16\u001b[0m child_obj\u001b[38;5;241m.\u001b[39mmicroservices()\n",
      "\u001b[1;31mAttributeError\u001b[0m: 'Child' object has no attribute 'microservices'"
     ]
    }
   ],
   "source": [
    "# checking code:\n",
    "\n",
    "class Parent():   # this code were written by team leader [in his laptop] parent class\n",
    "    def microservices(self):\n",
    "        print(\"I am working on API's and microservices\")\n",
    "\n",
    "\n",
    "class Child():   # this is my class [in my laptop] child class\n",
    "    def API(self):\n",
    "        print(\"I am working with API's sir not with microservices\")\n",
    "\n",
    "child_obj = Child()\n",
    "child_obj.API()  # it works\n",
    "\n",
    "# will figure it out:\n",
    "child_obj.microservices()\n"
   ]
  },
  {
   "cell_type": "code",
   "execution_count": 4,
   "id": "643e3566-c2a4-49de-b490-25d336401ace",
   "metadata": {},
   "outputs": [
    {
     "name": "stdout",
     "output_type": "stream",
     "text": [
      "I am working with API's sir not with microservices\n",
      "I am working on API's and microservices\n",
      "I am working on API's and microservices\n"
     ]
    }
   ],
   "source": [
    "class Parent():   # this code were written by team leader [in his laptop] parent class\n",
    "    def microservices(self):\n",
    "        print(\"I am working on API's and microservices\")\n",
    "\n",
    "\n",
    "class Child(Parent):   # this is my class [in my laptop] child class\n",
    "    def API(self):\n",
    "        print(\"I am working with API's sir not with microservices\")\n",
    "\n",
    "child_obj = Child()\n",
    "child_obj.API()  # it works\n",
    "\n",
    "# will figure it out:\n",
    "child_obj.microservices()\n",
    "\n",
    "\n",
    "\n",
    "# CREATING OBJECT FOR PARENT CLASS:\n",
    "parent_obj = Parent()\n",
    "parent_obj.microservices()\n"
   ]
  },
  {
   "cell_type": "markdown",
   "id": "4cd3b7dd-76bb-4e59-ad9d-46bd7aa6617c",
   "metadata": {},
   "source": [
    "## MULTIPLE INHERITANCE"
   ]
  },
  {
   "cell_type": "code",
   "execution_count": 6,
   "id": "6dcc104d-97e6-4af7-9b39-c33758a4090e",
   "metadata": {},
   "outputs": [
    {
     "name": "stdout",
     "output_type": "stream",
     "text": [
      "I am working on API's and microservices\n",
      "I am working with API's sir not with microservices\n",
      "Child you can play the games in the evening\n"
     ]
    }
   ],
   "source": [
    "class Parent_father():   # this code were written by team leader [in his laptop] parent class\n",
    "    def microservices(self):\n",
    "        print(\"I am working on API's and microservices\")\n",
    "\n",
    "class Parent_mother():\n",
    "    def games(self):\n",
    "        print(\"Child you can play the games in the evening\")\n",
    "\n",
    "class Child(Parent_father , Parent_mother):   # this is my class [in my laptop] child class\n",
    "    def API(self):\n",
    "        print(\"I am working with API's sir not with microservices\")\n",
    "\n",
    "\n",
    "child_obj = Child()\n",
    "child_obj.microservices()\n",
    "child_obj.API()\n",
    "child_obj.games()"
   ]
  },
  {
   "cell_type": "markdown",
   "id": "9c01ce60-f18b-4468-93fa-759123c568ab",
   "metadata": {},
   "source": [
    "## MULTILEVEL INHERITANCE"
   ]
  },
  {
   "cell_type": "code",
   "execution_count": 10,
   "id": "82706164-c794-4549-98d7-0061208e1af1",
   "metadata": {},
   "outputs": [
    {
     "name": "stdout",
     "output_type": "stream",
     "text": [
      "I am working with API's sir not with microservices\n",
      "Child you can play the games in the evening\n",
      "I am working on API's and microservices\n"
     ]
    }
   ],
   "source": [
    "class Parent():  \n",
    "    def microservices(self):\n",
    "        print(\"I am working on API's and microservices\")\n",
    "\n",
    "class Child1(Parent): \n",
    "    def games(self):\n",
    "        print(\"Child you can play the games in the evening\")\n",
    "\n",
    "class Child2(Child1):   \n",
    "    def API(self):\n",
    "        print(\"I am working with API's sir not with microservices\")\n",
    "\n",
    "\n",
    "#parent_obj = Parent()\n",
    "#parent_obj.microservices()\n",
    "\n",
    "child2_obj = Child2()\n",
    "child2_obj.API()\n",
    "child2_obj.games()\n",
    "child2_obj.microservices()"
   ]
  },
  {
   "cell_type": "markdown",
   "id": "0b4a5048-2870-43da-a072-78ca84a9c9a3",
   "metadata": {},
   "source": [
    "## HIRARICAL INHERITANCE"
   ]
  },
  {
   "cell_type": "code",
   "execution_count": 12,
   "id": "32bcd83b-c80f-49aa-9197-35a63b6d677c",
   "metadata": {},
   "outputs": [
    {
     "name": "stdout",
     "output_type": "stream",
     "text": [
      "I am working with API's sir not with microservices\n",
      "I am working on API's and microservices\n",
      "Child you can play the games in the evening\n",
      "I am working on API's and microservices\n"
     ]
    }
   ],
   "source": [
    "class Parent():  \n",
    "    def microservices(self):\n",
    "        print(\"I am working on API's and microservices\")\n",
    "\n",
    "class Child1(Parent): \n",
    "    def games(self):\n",
    "        print(\"Child you can play the games in the evening\")\n",
    "\n",
    "class Child2(Parent):   \n",
    "    def API(self):\n",
    "        print(\"I am working with API's sir not with microservices\")\n",
    "\n",
    "child2_obj = Child2()\n",
    "child2_obj.API()\n",
    "child2_obj.microservices()\n",
    "\n",
    "child1_obj = Child1()\n",
    "child1_obj.games()\n",
    "child1_obj.microservices()"
   ]
  },
  {
   "cell_type": "markdown",
   "id": "df3fe2b6-b483-44ce-9c7a-c0f576e0025e",
   "metadata": {},
   "source": [
    "## HYBRID INHERITANCE"
   ]
  },
  {
   "cell_type": "code",
   "execution_count": 13,
   "id": "39fbed83-57c2-47f3-9c82-1e811ce52638",
   "metadata": {},
   "outputs": [
    {
     "name": "stdout",
     "output_type": "stream",
     "text": [
      "I am working on rest API for data fetching process\n",
      "I am working with API's sir not with microservices\n",
      "Child you can play the games in the evening\n",
      "I am working on API's and microservices\n"
     ]
    }
   ],
   "source": [
    "class Parent():  \n",
    "    def microservices(self):\n",
    "        print(\"I am working on API's and microservices\")\n",
    "\n",
    "class Child1(Parent): \n",
    "    def games(self):\n",
    "        print(\"Child you can play the games in the evening\")\n",
    "\n",
    "class Child2(Parent):   \n",
    "    def API(self):\n",
    "        print(\"I am working with API's sir not with microservices\")\n",
    "\n",
    "class Child3(Child1 , Child2):\n",
    "    def request(self):\n",
    "        print(\"I am working on rest API for data fetching process\")\n",
    "\n",
    "child3_obj = Child3()\n",
    "child3_obj.request()\n",
    "child3_obj.API()\n",
    "child3_obj.games()\n",
    "child3_obj.microservices()"
   ]
  },
  {
   "cell_type": "markdown",
   "id": "eb629b38-afd9-46b0-9095-6a137e52ae7e",
   "metadata": {},
   "source": [
    "# POLYMORPHISM"
   ]
  },
  {
   "cell_type": "code",
   "execution_count": 14,
   "id": "a873bbe0-0210-4c82-a532-093d1bfc525e",
   "metadata": {},
   "outputs": [],
   "source": [
    "# Polymorphism comes from greek word:\n",
    "\n",
    "# Poly means : many\n",
    "# morphism means : forms"
   ]
  },
  {
   "cell_type": "markdown",
   "id": "50f34487-c1da-4b27-a821-ae8d81ef091e",
   "metadata": {},
   "source": [
    "#### 2 types are there to work with polymorphism\n",
    "\n",
    "- method overriding\n",
    "- method overloading [# method means function name]"
   ]
  },
  {
   "cell_type": "markdown",
   "id": "fc664051-a992-4c58-ba38-81cf763ee425",
   "metadata": {},
   "source": [
    "### Method overriding:"
   ]
  },
  {
   "cell_type": "code",
   "execution_count": 15,
   "id": "36c9210e-0e6c-4ba5-a90d-a81652ba9b91",
   "metadata": {},
   "outputs": [],
   "source": [
    "def fun():\n",
    "    print('HI')\n",
    "def fun():\n",
    "    print('Data')"
   ]
  },
  {
   "cell_type": "code",
   "execution_count": 16,
   "id": "777d9797-0da4-4c2e-a7f6-4cdd316a96d4",
   "metadata": {},
   "outputs": [
    {
     "name": "stdout",
     "output_type": "stream",
     "text": [
      "Data\n"
     ]
    }
   ],
   "source": [
    "fun()"
   ]
  },
  {
   "cell_type": "code",
   "execution_count": 19,
   "id": "658db7fe-da7e-4650-b522-0a7342a8b087",
   "metadata": {},
   "outputs": [
    {
     "name": "stdout",
     "output_type": "stream",
     "text": [
      "I have failure but no one can beat my records\n",
      "I am working with bollywood as well\n"
     ]
    }
   ],
   "source": [
    "class Parent():  \n",
    "    def sharuk_khan(self):\n",
    "        print(\"I have lot of failure movies\")\n",
    "    def tarak(self):\n",
    "        print(\"I am an actor in Tollywood\")\n",
    "        \n",
    "class Child(Parent): \n",
    "    def sharuk_khan(self):\n",
    "        print(\"I have failure but no one can beat my records\")\n",
    "    def tarak(self):\n",
    "        print(\"I am working with bollywood as well\")\n",
    "\n",
    "obj = Child()\n",
    "obj.sharuk_khan()\n",
    "obj.tarak()\n"
   ]
  },
  {
   "cell_type": "markdown",
   "id": "87bc3334-744c-4414-94b8-052e1c26d49d",
   "metadata": {},
   "source": [
    "### Method overloading:"
   ]
  },
  {
   "cell_type": "markdown",
   "id": "62b69e0a-224e-446b-8f55-464e02828d81",
   "metadata": {},
   "source": [
    "##### we need to use different parameters for mehtod overloading concept:"
   ]
  },
  {
   "cell_type": "code",
   "execution_count": 22,
   "id": "14ca931d-34d1-4760-a715-f6c1cb2d1118",
   "metadata": {},
   "outputs": [
    {
     "name": "stdout",
     "output_type": "stream",
     "text": [
      "nothing to find\n",
      "Area of square: 100\n",
      "area of rectangle: 200\n"
     ]
    }
   ],
   "source": [
    "class Area():\n",
    "    def find_area(self,a = None,b = None):\n",
    "        if a!=None and b!=None:\n",
    "            print('area of rectangle:',(a*b))\n",
    "        elif a!=None:\n",
    "            print('Area of square:',(a*a))\n",
    "        else:\n",
    "            print('nothing to find')\n",
    "\n",
    "obj = Area()\n",
    "obj.find_area()\n",
    "obj.find_area(10)\n",
    "obj.find_area(10,20)"
   ]
  },
  {
   "cell_type": "markdown",
   "id": "9c3cca34-e124-4a11-883a-d98021d0c638",
   "metadata": {},
   "source": [
    "### ABSTRACTION"
   ]
  },
  {
   "cell_type": "code",
   "execution_count": 12,
   "id": "b5b84a05-03fa-45fb-99cc-3165755ccf6e",
   "metadata": {},
   "outputs": [],
   "source": [
    "from os import listdir #(ex)"
   ]
  },
  {
   "cell_type": "code",
   "execution_count": 13,
   "id": "54cf0e30-de65-46d3-a5f0-3d761c410ca1",
   "metadata": {},
   "outputs": [],
   "source": [
    "from math import exp  #(ex)"
   ]
  },
  {
   "cell_type": "code",
   "execution_count": 14,
   "id": "abc2be1f-3942-432b-ab26-2abfd2ccec22",
   "metadata": {},
   "outputs": [
    {
     "name": "stdout",
     "output_type": "stream",
     "text": [
      "Sir I complete the entire use case\n"
     ]
    }
   ],
   "source": [
    "# Abstraction means child can work for parent from scratch:\n",
    "\n",
    "from abc import ABC\n",
    "\n",
    "class Team_leader(ABC):\n",
    "    def math_operation(self):\n",
    "        pass\n",
    "\n",
    "# hi kamal i am going to home and not available for 2 days\n",
    "# pls complete the code and update me\n",
    "\n",
    "class child(Team_leader):\n",
    "    def math_operation(self):\n",
    "        print(\"Sir I complete the entire use case\")\n",
    "\n",
    "child_obj = child()\n",
    "child_obj.math_operation()"
   ]
  },
  {
   "cell_type": "code",
   "execution_count": 16,
   "id": "154d411f-b94e-4858-bdec-7ea5f169233d",
   "metadata": {},
   "outputs": [
    {
     "name": "stdout",
     "output_type": "stream",
     "text": [
      "30\n"
     ]
    }
   ],
   "source": [
    "from abc import ABC\n",
    "\n",
    "class Team_leader(ABC):\n",
    "    def addition(self):\n",
    "        pass\n",
    "\n",
    "# hi kamal i am going to home and not available for 2 days\n",
    "# pls complete the code and update me\n",
    "\n",
    "class child(Team_leader):\n",
    "    def addition(self):\n",
    "        print(10+20)\n",
    "\n",
    "child_obj = child()\n",
    "child_obj.addition()"
   ]
  },
  {
   "cell_type": "markdown",
   "id": "68d797c6-9bd8-42fe-a016-8f359dbcb85e",
   "metadata": {},
   "source": [
    "### ENCAPSULATION"
   ]
  },
  {
   "cell_type": "markdown",
   "id": "a5378f88-0846-4a00-98a0-08158ce227bb",
   "metadata": {},
   "source": [
    "#### encapsulation means security:\n",
    "#### works with access modifiers concept:\n",
    "\n",
    "\n",
    "- public  --> anybody can use it\n",
    "- protected  --> only parent and first child class can use it\n",
    "- private  --> only parent class can use it"
   ]
  },
  {
   "cell_type": "markdown",
   "id": "26518e37-69fc-4114-aa66-f4d1d283317e",
   "metadata": {},
   "source": [
    "### public concept"
   ]
  },
  {
   "cell_type": "code",
   "execution_count": 17,
   "id": "9b8cbdec-3818-43e9-b058-c2712b5f9cee",
   "metadata": {},
   "outputs": [
    {
     "name": "stdout",
     "output_type": "stream",
     "text": [
      "Public class\n"
     ]
    }
   ],
   "source": [
    "class parent():\n",
    "    def fun(self):\n",
    "        print(\"Public class\")\n",
    "\n",
    "obj = parent()\n",
    "obj.fun()"
   ]
  },
  {
   "cell_type": "markdown",
   "id": "9c1f77b0-3ca7-4ef2-9b76-ad9951c78935",
   "metadata": {},
   "source": [
    "### protected concept"
   ]
  },
  {
   "cell_type": "code",
   "execution_count": 19,
   "id": "1026ec4f-d1c2-48af-85ea-40a540b404f2",
   "metadata": {},
   "outputs": [
    {
     "name": "stdout",
     "output_type": "stream",
     "text": [
      "I belong to parent class\n",
      "10\n"
     ]
    }
   ],
   "source": [
    "class parent():\n",
    "    b = 'I belong to parent class'\n",
    "    def fun(self):\n",
    "        print(\"Public class\")\n",
    "\n",
    "class child(parent):\n",
    "    def cse(self):\n",
    "        a = 10\n",
    "        return a\n",
    "obj = child()\n",
    "print(obj.b)\n",
    "print(obj.cse())\n"
   ]
  },
  {
   "cell_type": "markdown",
   "id": "dc0d8357-a5c4-40ec-8cf0-7e0b8fbd4a8a",
   "metadata": {},
   "source": [
    "### private concept"
   ]
  },
  {
   "cell_type": "code",
   "execution_count": 21,
   "id": "af8ee497-0a3d-425f-af9d-cd0091548d18",
   "metadata": {},
   "outputs": [
    {
     "name": "stdout",
     "output_type": "stream",
     "text": [
      "I belong to parent class\n"
     ]
    },
    {
     "ename": "AttributeError",
     "evalue": "'parent' object has no attribute 'cse'",
     "output_type": "error",
     "traceback": [
      "\u001b[1;31m---------------------------------------------------------------------------\u001b[0m",
      "\u001b[1;31mAttributeError\u001b[0m                            Traceback (most recent call last)",
      "Cell \u001b[1;32mIn[21], line 12\u001b[0m\n\u001b[0;32m     10\u001b[0m obj \u001b[38;5;241m=\u001b[39m parent()\n\u001b[0;32m     11\u001b[0m \u001b[38;5;28mprint\u001b[39m(obj\u001b[38;5;241m.\u001b[39mb)\n\u001b[1;32m---> 12\u001b[0m \u001b[38;5;28mprint\u001b[39m(obj\u001b[38;5;241m.\u001b[39mcse())\n",
      "\u001b[1;31mAttributeError\u001b[0m: 'parent' object has no attribute 'cse'"
     ]
    }
   ],
   "source": [
    "class parent():\n",
    "    b = 'I belong to parent class'\n",
    "    def fun(self):\n",
    "        print(\"Public class\") ## only parent can access it\n",
    "\n",
    "class child(parent):\n",
    "    def cse(self):\n",
    "        a = 10\n",
    "        return a\n",
    "obj = parent()\n",
    "print(obj.b)\n",
    "print(obj.cse())"
   ]
  },
  {
   "cell_type": "code",
   "execution_count": 22,
   "id": "fe39184e-03fa-4b9a-8639-40ed5dd82417",
   "metadata": {},
   "outputs": [
    {
     "name": "stdout",
     "output_type": "stream",
     "text": [
      "10\n",
      "This is a public method\n"
     ]
    }
   ],
   "source": [
    "# public access code:\n",
    "\n",
    "class MyClass:\n",
    "    def __init__(self):\n",
    "        self.public_var = 10\n",
    "    def public_method(self):\n",
    "        print(\"This is a public method\")\n",
    "\n",
    "obj = MyClass()\n",
    "print(obj.public_var)      # Accessing public variable\n",
    "obj.public_method()        # Accessing public function\n"
   ]
  },
  {
   "cell_type": "code",
   "execution_count": 23,
   "id": "7e3179ac-5992-4cd4-8698-20a78566e015",
   "metadata": {},
   "outputs": [
    {
     "name": "stdout",
     "output_type": "stream",
     "text": [
      "20\n",
      "I am working here\n"
     ]
    }
   ],
   "source": [
    "# private access code:\n",
    "\n",
    "class kamal():\n",
    "    def __init__(self):\n",
    "        self._a = 20\n",
    "\n",
    "    def _fun(self):\n",
    "        print(\"I am working here\")\n",
    "\n",
    "obj = kamal()\n",
    "print(obj._a)\n",
    "obj._fun()\n",
    "\n"
   ]
  },
  {
   "cell_type": "code",
   "execution_count": 6,
   "id": "a1ab7664-e19b-451c-b7c6-4b3f324a92a2",
   "metadata": {},
   "outputs": [
    {
     "name": "stdout",
     "output_type": "stream",
     "text": [
      "20\n"
     ]
    }
   ],
   "source": [
    "# protected\n",
    "class kamal():\n",
    "    def __init__(self):\n",
    "        self._a = 20\n",
    "\n",
    "    def __fun(self):\n",
    "        print(\"I am working here\")\n",
    "\n",
    "class child(kamal):\n",
    "    def access__protected(self):\n",
    "        print(self._a)\n",
    "        \n",
    "\n",
    "obj = child()\n",
    "obj.access__protected()"
   ]
  },
  {
   "cell_type": "code",
   "execution_count": 1,
   "id": "54c75f91-82e1-4f55-ad95-5fe51ea19979",
   "metadata": {},
   "outputs": [
    {
     "name": "stdout",
     "output_type": "stream",
     "text": [
      "SKAUL05\n"
     ]
    }
   ],
   "source": [
    "class Modifiers:\n",
    "\n",
    "    def __init__(self,name):\n",
    "        self._protected_member = name # Protected attribute\n",
    "\n",
    "m = Modifiers(\"SKAUL05\")\n",
    "print(m._protected_member)"
   ]
  },
  {
   "cell_type": "markdown",
   "id": "9182a67e-0b70-4a1e-8541-e33eb23f153a",
   "metadata": {},
   "source": [
    "## Assignments:"
   ]
  },
  {
   "cell_type": "code",
   "execution_count": 8,
   "id": "0e582b19-09cb-4cc7-96a2-4b5ba1270a26",
   "metadata": {},
   "outputs": [],
   "source": [
    "# 1. The program takes in an integer and prints the smallest \n",
    "#    divisor of the integer"
   ]
  },
  {
   "cell_type": "code",
   "execution_count": 14,
   "id": "d79bb1ec-8dd4-442c-b620-2363fd0d296b",
   "metadata": {},
   "outputs": [
    {
     "name": "stdout",
     "output_type": "stream",
     "text": [
      "3\n"
     ]
    }
   ],
   "source": [
    "# 75 : except 1 and 75\n",
    "\n",
    "a = 75\n",
    "c = []\n",
    "for i in range(2 , a):\n",
    "    if a % i == 0:\n",
    "        c.append(i)\n",
    "print(c[0])"
   ]
  },
  {
   "cell_type": "code",
   "execution_count": 15,
   "id": "2dc825fa-3693-424a-80df-6fbac1c316d1",
   "metadata": {},
   "outputs": [
    {
     "name": "stdout",
     "output_type": "stream",
     "text": [
      "2\n"
     ]
    }
   ],
   "source": [
    "# ex: 50 : except 1 and 50\n",
    "\n",
    "a = 50\n",
    "c = []\n",
    "for i in range(2 , a):\n",
    "    if a % i == 0:\n",
    "        c.append(i)\n",
    "print(c[0])"
   ]
  },
  {
   "cell_type": "code",
   "execution_count": 16,
   "id": "a90ce506-69c3-4de9-b7dd-09b463ce5163",
   "metadata": {},
   "outputs": [],
   "source": [
    "# 2. Write a Python program to check if it is a strong number or not"
   ]
  },
  {
   "cell_type": "code",
   "execution_count": 18,
   "id": "ed23f70e-4c32-4c24-bdfe-7eb537198b68",
   "metadata": {},
   "outputs": [
    {
     "data": {
      "text/plain": [
       "145"
      ]
     },
     "execution_count": 18,
     "metadata": {},
     "output_type": "execute_result"
    }
   ],
   "source": [
    "# 145 : 5! 4! 1!\n",
    "120+24+1"
   ]
  },
  {
   "cell_type": "code",
   "execution_count": 20,
   "id": "2aa84b15-9631-4d5a-a59f-1291fb3b0a48",
   "metadata": {},
   "outputs": [
    {
     "name": "stdout",
     "output_type": "stream",
     "text": [
      "5\n",
      "4\n",
      "3\n",
      "2\n",
      "1\n"
     ]
    }
   ],
   "source": [
    "a = 5\n",
    "for i in range(a,0,-1):\n",
    "    print(i)"
   ]
  },
  {
   "cell_type": "code",
   "execution_count": 21,
   "id": "ddcfe1d8-81d9-414c-8059-506922bae4ab",
   "metadata": {},
   "outputs": [
    {
     "name": "stdout",
     "output_type": "stream",
     "text": [
      "strong number\n"
     ]
    }
   ],
   "source": [
    "number = 145\n",
    "temp = number\n",
    "sum = 0\n",
    "while number>0:\n",
    "    res = number % 10  \n",
    "    count = 1\n",
    "    for i in range(res,0,-1):\n",
    "        count = count*i\n",
    "    sum = sum+count\n",
    "    number = number // 10\n",
    "\n",
    "if temp == sum:\n",
    "    print('strong number')\n",
    "\n",
    "else:\n",
    "    print('not')\n",
    "    "
   ]
  },
  {
   "cell_type": "code",
   "execution_count": null,
   "id": "d097e3e9-2a11-41d3-9c16-6d8b91c5fa98",
   "metadata": {},
   "outputs": [],
   "source": []
  }
 ],
 "metadata": {
  "kernelspec": {
   "display_name": "Python 3 (ipykernel)",
   "language": "python",
   "name": "python3"
  },
  "language_info": {
   "codemirror_mode": {
    "name": "ipython",
    "version": 3
   },
   "file_extension": ".py",
   "mimetype": "text/x-python",
   "name": "python",
   "nbconvert_exporter": "python",
   "pygments_lexer": "ipython3",
   "version": "3.11.7"
  }
 },
 "nbformat": 4,
 "nbformat_minor": 5
}
