{
 "cells": [
  {
   "cell_type": "markdown",
   "id": "616a0a78-6c70-438b-bdc5-8648118bf55b",
   "metadata": {},
   "source": [
    "### ADVANCED PYTHON "
   ]
  },
  {
   "cell_type": "raw",
   "id": "f4e84b84-e08d-46af-950d-c0f5cf3ef9b4",
   "metadata": {},
   "source": [
    "# core python : core means learning the basics\n",
    "# Advanced python : used in real time:\n",
    "\n",
    "# Advanced topics under python:\n",
    "        - File handling\n",
    "        - Exception handling\n",
    "        - Class and objects ***\n",
    "        - Oops concepts\n",
    "        - Inheritance\n",
    "        - polymorphism\n",
    "        - abstraction\n",
    "        - encapsulation\n",
    "        - constructor ***"
   ]
  },
  {
   "cell_type": "markdown",
   "id": "dcdd53b8-4dd2-4ddc-b646-826a3efcab06",
   "metadata": {},
   "source": [
    "#### File handling"
   ]
  },
  {
   "cell_type": "markdown",
   "id": "cf50ebfb-27e8-48e1-af72-e06c7fbb1450",
   "metadata": {},
   "source": [
    "' Create a .txt file manually and insert data into it:'"
   ]
  },
  {
   "cell_type": "markdown",
   "id": "f9f7a6e0-6b81-485f-9040-780b58b60855",
   "metadata": {},
   "source": [
    "### types of file handling techniques need to know:\n",
    "    - w : write the data\n",
    "    - r : read the data\n",
    "    - a : add[append the data]\n",
    "    - readline : used to read single line from the data\n",
    "    - readlines : used to read the entire data from the file"
   ]
  },
  {
   "cell_type": "code",
   "execution_count": 4,
   "id": "91999d18-653d-4434-93c6-cd71524d5af3",
   "metadata": {},
   "outputs": [],
   "source": [
    "# the syntax for file handling : [we can do file handling in two ways 1. Normal way 2. real time]\n",
    "\n",
    "# 1. Normal syntax for file handling : [variable = open(location,extention)]\n",
    "                                                # operation"
   ]
  },
  {
   "cell_type": "markdown",
   "id": "014ab760-985b-40ee-86b4-4c1e59621a91",
   "metadata": {},
   "source": [
    "#### w : write the data:\n"
   ]
  },
  {
   "cell_type": "code",
   "execution_count": 5,
   "id": "1732ad8a-750b-456c-bdbb-24226d541b37",
   "metadata": {},
   "outputs": [],
   "source": [
    "# If the file not there means it is going to create the file and insert the data into it:\n"
   ]
  },
  {
   "cell_type": "code",
   "execution_count": 6,
   "id": "364fde4b-75dc-4760-aca0-36cd66abd0b8",
   "metadata": {},
   "outputs": [],
   "source": [
    "a = open('demo.txt' , 'w')\n",
    "a.write('Kamal is an computer vision engineer')\n",
    "a.close()  # close is used to come back:\n"
   ]
  },
  {
   "cell_type": "code",
   "execution_count": 9,
   "id": "9a811bb8-0da5-47e3-a056-04d3977c0a8b",
   "metadata": {},
   "outputs": [],
   "source": [
    "# another example; use \\\\ for windows or /\n",
    "b = open('C:\\\\Users\\\\MOHANA PRIYA\\\\Desktop\\\\topmentor.txt', 'w')\n",
    "b.write('I am learning data science')\n",
    "b.close()"
   ]
  },
  {
   "cell_type": "code",
   "execution_count": 10,
   "id": "6969357a-23eb-476b-9fba-f88dd71d2737",
   "metadata": {},
   "outputs": [],
   "source": [
    "b = open('C:\\\\Users\\\\MOHANA PRIYA\\\\Desktop\\\\Priya.txt', 'w')\n",
    "b.write('I am learning AI')\n",
    "b.close()"
   ]
  },
  {
   "cell_type": "code",
   "execution_count": 13,
   "id": "800655ba-f7db-4492-9940-9f15b2513afb",
   "metadata": {},
   "outputs": [],
   "source": [
    "# so if the file not there means it will create the file and insert the data into it\n",
    "# if the file is there means just we can read the data:"
   ]
  },
  {
   "cell_type": "code",
   "execution_count": 15,
   "id": "25b556af-1bad-4116-9fb7-4df622fa440f",
   "metadata": {},
   "outputs": [
    {
     "name": "stdout",
     "output_type": "stream",
     "text": [
      "tharak is my friend\n",
      "\n"
     ]
    }
   ],
   "source": [
    "b = open('C:\\\\Users\\\\MOHANA PRIYA\\\\Desktop\\\\tharak.txt', 'r')\n",
    "print(b.read())"
   ]
  },
  {
   "cell_type": "markdown",
   "id": "0017ed69-aca5-4396-b48f-a689f02d5b92",
   "metadata": {},
   "source": [
    "### difference between w and a"
   ]
  },
  {
   "cell_type": "code",
   "execution_count": null,
   "id": "b8b9eaff-01d0-4c7e-ab26-b23b886e634e",
   "metadata": {},
   "outputs": [],
   "source": [
    "# only w will create the file if not there , remaining will work if the file there"
   ]
  },
  {
   "cell_type": "code",
   "execution_count": 17,
   "id": "5d6f01ba-7a24-4ef1-88a2-0a74b8f294d6",
   "metadata": {},
   "outputs": [],
   "source": [
    "# w : will write the data once , if the file having the data means it is going to overwrite\n",
    "# a : add the data :\n",
    "\n",
    "b = open('C:\\\\Users\\\\MOHANA PRIYA\\\\Desktop\\\\Priya.txt', 'a')\n",
    "b.write(' I am learning data language')\n",
    "b.close()"
   ]
  },
  {
   "cell_type": "code",
   "execution_count": 19,
   "id": "61e3b57f-c36e-4d31-9314-c3d7082faa14",
   "metadata": {},
   "outputs": [
    {
     "name": "stdout",
     "output_type": "stream",
     "text": [
      "I am learning AI\n",
      "I am learning ML \n",
      "I am learning data language\n"
     ]
    }
   ],
   "source": [
    "# read the data from the existing file\n",
    "\n",
    "b = open('C:\\\\Users\\\\MOHANA PRIYA\\\\Desktop\\\\Priya.txt', 'r')\n",
    "print(b.read())"
   ]
  },
  {
   "cell_type": "code",
   "execution_count": 1,
   "id": "bc0e3ee9-3a1a-426e-86b0-f99393b05888",
   "metadata": {},
   "outputs": [
    {
     "name": "stdout",
     "output_type": "stream",
     "text": [
      "I am learning AI\n",
      "\n"
     ]
    }
   ],
   "source": [
    "# readline : used to read a single line:\n",
    "# used to read a small amount of data:\n",
    "b = open('C:\\\\Users\\\\MOHANA PRIYA\\\\Desktop\\\\Priya.txt', 'r')\n",
    "print(b.readline())"
   ]
  },
  {
   "cell_type": "code",
   "execution_count": 3,
   "id": "09b3a18e-ef10-4413-8849-c071ea66b91a",
   "metadata": {},
   "outputs": [
    {
     "name": "stdout",
     "output_type": "stream",
     "text": [
      "['I am learning AI\\n', 'I am learning ML \\n', 'I am learning data language\\n', 'Python is a widely used high-level programming language for general purpose coding. \\n', 'It can be easily installed on Windows, macOS, or Linux platforms from the official Python website.']\n"
     ]
    }
   ],
   "source": [
    "# readlines : used to read entire data:\n",
    "b = open('C:\\\\Users\\\\MOHANA PRIYA\\\\Desktop\\\\Priya.txt', 'r')\n",
    "print(b.readlines())"
   ]
  },
  {
   "cell_type": "markdown",
   "id": "baf1be1b-af11-46fd-8627-031aec9cae9f",
   "metadata": {},
   "source": [
    "## how team works in the companies with this technique:"
   ]
  },
  {
   "cell_type": "code",
   "execution_count": 38,
   "id": "f1b7fb0b-a274-4e3d-81d2-c7969265bd0d",
   "metadata": {},
   "outputs": [],
   "source": [
    "# w : to write the data # syntax : [with open(location, mode) as variable]\n",
    "                                    # logic\n",
    "\n",
    "with open('C:\\\\Users\\\\MOHANA PRIYA\\\\Desktop\\\\mohana.txt', 'w') as f:\n",
    "    f.write('i am busy learning')\n",
    "    f.close()"
   ]
  },
  {
   "cell_type": "code",
   "execution_count": 39,
   "id": "015fe577-6909-48f7-a32f-a03a7624ef17",
   "metadata": {},
   "outputs": [
    {
     "name": "stdout",
     "output_type": "stream",
     "text": [
      "i am busy learning\n"
     ]
    }
   ],
   "source": [
    "with open('C:\\\\Users\\\\MOHANA PRIYA\\\\Desktop\\\\mohana.txt', 'r') as f:\n",
    "    print(f.read())"
   ]
  },
  {
   "cell_type": "code",
   "execution_count": 40,
   "id": "8ff99129-3d14-4e5b-9ccb-0d0d5119b795",
   "metadata": {},
   "outputs": [],
   "source": [
    "#add data:\n",
    "with open('C:\\\\Users\\\\MOHANA PRIYA\\\\Desktop\\\\mohana.txt', 'a') as f:\n",
    "    f.write(' attending classes daily')"
   ]
  },
  {
   "cell_type": "code",
   "execution_count": 41,
   "id": "c41fd007-be0f-4d81-921b-edf20b7f1360",
   "metadata": {},
   "outputs": [
    {
     "name": "stdout",
     "output_type": "stream",
     "text": [
      "i am busy learning attending classes daily\n"
     ]
    }
   ],
   "source": [
    "with open('C:\\\\Users\\\\MOHANA PRIYA\\\\Desktop\\\\mohana.txt', 'r') as f:\n",
    "    print(f.read())"
   ]
  },
  {
   "cell_type": "code",
   "execution_count": 43,
   "id": "e4abcc5e-3c57-4909-a20e-fe71d408e1a8",
   "metadata": {},
   "outputs": [
    {
     "name": "stdout",
     "output_type": "stream",
     "text": [
      "i am busy learning.\n",
      "\n"
     ]
    }
   ],
   "source": [
    "# readline:\n",
    "with open('C:\\\\Users\\\\MOHANA PRIYA\\\\Desktop\\\\mohana.txt', 'r') as f:\n",
    "    print(f.readline())"
   ]
  },
  {
   "cell_type": "code",
   "execution_count": 44,
   "id": "6795b625-76f3-477f-88a7-69312d3f4c96",
   "metadata": {},
   "outputs": [
    {
     "name": "stdout",
     "output_type": "stream",
     "text": [
      "['i am busy learning.\\n', 'attending classes daily.']\n"
     ]
    }
   ],
   "source": [
    "# readlines:\n",
    "with open('C:\\\\Users\\\\MOHANA PRIYA\\\\Desktop\\\\mohana.txt', 'r') as f:\n",
    "    print(f.readlines())"
   ]
  },
  {
   "cell_type": "code",
   "execution_count": 45,
   "id": "091f208b-7d16-4829-b753-3f3ee199e48f",
   "metadata": {},
   "outputs": [],
   "source": [
    "# insert the data into next line:\n",
    "with open('C:\\\\Users\\\\MOHANA PRIYA\\\\Desktop\\\\mohana.txt', 'a') as f:\n",
    "    f.write(' \\n it is in progress')"
   ]
  },
  {
   "cell_type": "code",
   "execution_count": 46,
   "id": "8b81b01e-3e67-4c41-a735-d7f623e62d02",
   "metadata": {},
   "outputs": [
    {
     "name": "stdout",
     "output_type": "stream",
     "text": [
      "i am busy learning.\n",
      "attending classes daily. \n",
      " it is in progress\n"
     ]
    }
   ],
   "source": [
    "with open('C:\\\\Users\\\\MOHANA PRIYA\\\\Desktop\\\\mohana.txt', 'r') as f:\n",
    "    print(f.read())"
   ]
  },
  {
   "cell_type": "code",
   "execution_count": 47,
   "id": "ad16ee4d-664b-40b3-9036-1fdbe1f7e48b",
   "metadata": {},
   "outputs": [
    {
     "name": "stdout",
     "output_type": "stream",
     "text": [
      "kamal\n",
      "kiran\n"
     ]
    }
   ],
   "source": [
    "# \\n   -> next line\n",
    "\n",
    "a = 'kamal\\nkiran'\n",
    "print(a)"
   ]
  },
  {
   "cell_type": "code",
   "execution_count": 48,
   "id": "40080553-3d8b-4ca7-b1ae-19740c7616db",
   "metadata": {},
   "outputs": [
    {
     "name": "stdout",
     "output_type": "stream",
     "text": [
      "kamal\tkiran\n"
     ]
    }
   ],
   "source": [
    "# \\t means one tab space\n",
    "\n",
    "a = 'kamal\\tkiran'\n",
    "print(a)"
   ]
  },
  {
   "cell_type": "markdown",
   "id": "7de16eb1-7a3d-4550-8812-6a023345a283",
   "metadata": {},
   "source": [
    "### Exceptional Handling:"
   ]
  },
  {
   "cell_type": "markdown",
   "id": "fe1425e4-a13d-4310-ad81-ea0fadcdab65",
   "metadata": {},
   "source": [
    "#   Means handling the error : understanding the error:\n",
    "\n",
    "'To learn we are having 5 error types'\n",
    "\n",
    "- zero division error\n",
    "- Name error\n",
    "- Value error\n",
    "- Indentation error\n",
    "- IOE (input and output)[error]\n"
   ]
  },
  {
   "cell_type": "markdown",
   "id": "bb23f6b7-8133-4f20-ac10-27985f7e504f",
   "metadata": {},
   "source": [
    "## Zero division error:\n"
   ]
  },
  {
   "cell_type": "code",
   "execution_count": 49,
   "id": "d37e1719-ad7b-49f7-bf2a-9cdf42c1995c",
   "metadata": {},
   "outputs": [
    {
     "data": {
      "text/plain": [
       "0.0"
      ]
     },
     "execution_count": 49,
     "metadata": {},
     "output_type": "execute_result"
    }
   ],
   "source": [
    "0/12"
   ]
  },
  {
   "cell_type": "code",
   "execution_count": 51,
   "id": "3677195e-1c03-4f43-b489-b8b71f51660c",
   "metadata": {},
   "outputs": [
    {
     "ename": "ZeroDivisionError",
     "evalue": "division by zero",
     "output_type": "error",
     "traceback": [
      "\u001b[1;31m---------------------------------------------------------------------------\u001b[0m",
      "\u001b[1;31mZeroDivisionError\u001b[0m                         Traceback (most recent call last)",
      "Cell \u001b[1;32mIn[51], line 1\u001b[0m\n\u001b[1;32m----> 1\u001b[0m \u001b[38;5;241m12\u001b[39m\u001b[38;5;241m/\u001b[39m\u001b[38;5;241m0\u001b[39m\n",
      "\u001b[1;31mZeroDivisionError\u001b[0m: division by zero"
     ]
    }
   ],
   "source": [
    "12/0  # means as maths has infinity concept but CPU has limits [cpu works with numbers, so infinity is not a number]"
   ]
  },
  {
   "cell_type": "markdown",
   "id": "382a4afd-979b-4b89-a4ab-b2e4e3364ef7",
   "metadata": {},
   "source": [
    "### Name error"
   ]
  },
  {
   "cell_type": "code",
   "execution_count": 53,
   "id": "c4ca391c-f033-469c-93eb-3ccbb4ca8483",
   "metadata": {},
   "outputs": [
    {
     "ename": "NameError",
     "evalue": "name 'A' is not defined",
     "output_type": "error",
     "traceback": [
      "\u001b[1;31m---------------------------------------------------------------------------\u001b[0m",
      "\u001b[1;31mNameError\u001b[0m                                 Traceback (most recent call last)",
      "Cell \u001b[1;32mIn[53], line 2\u001b[0m\n\u001b[0;32m      1\u001b[0m a \u001b[38;5;241m=\u001b[39m \u001b[38;5;124m'\u001b[39m\u001b[38;5;124mkamal\u001b[39m\u001b[38;5;124m'\u001b[39m\n\u001b[1;32m----> 2\u001b[0m \u001b[38;5;28mprint\u001b[39m(A)\n",
      "\u001b[1;31mNameError\u001b[0m: name 'A' is not defined"
     ]
    }
   ],
   "source": [
    "a = 'kamal'\n",
    "print(A) "
   ]
  },
  {
   "cell_type": "markdown",
   "id": "f67e9997-6b8b-4ade-b897-76e695958c07",
   "metadata": {},
   "source": [
    "### Value error"
   ]
  },
  {
   "cell_type": "code",
   "execution_count": 54,
   "id": "fa277aaa-1cb7-462d-9bcf-13d4d0c31314",
   "metadata": {},
   "outputs": [
    {
     "ename": "ValueError",
     "evalue": "invalid literal for int() with base 10: 'python'",
     "output_type": "error",
     "traceback": [
      "\u001b[1;31m---------------------------------------------------------------------------\u001b[0m",
      "\u001b[1;31mValueError\u001b[0m                                Traceback (most recent call last)",
      "Cell \u001b[1;32mIn[54], line 2\u001b[0m\n\u001b[0;32m      1\u001b[0m a \u001b[38;5;241m=\u001b[39m \u001b[38;5;124m'\u001b[39m\u001b[38;5;124mpython\u001b[39m\u001b[38;5;124m'\u001b[39m\n\u001b[1;32m----> 2\u001b[0m b \u001b[38;5;241m=\u001b[39m \u001b[38;5;28mint\u001b[39m(a)\n\u001b[0;32m      3\u001b[0m \u001b[38;5;28mprint\u001b[39m(b)\n",
      "\u001b[1;31mValueError\u001b[0m: invalid literal for int() with base 10: 'python'"
     ]
    }
   ],
   "source": [
    "a = 'python'\n",
    "b = int(a)\n",
    "print(b)"
   ]
  },
  {
   "cell_type": "code",
   "execution_count": 56,
   "id": "977923fe-62eb-484e-bf8a-95db42a73dc2",
   "metadata": {},
   "outputs": [
    {
     "name": "stdout",
     "output_type": "stream",
     "text": [
      "1 2 3 4 5 6 7 8 9 10 "
     ]
    }
   ],
   "source": [
    "### Indentation error:\n",
    "\n",
    "for i in range(1,11):\n",
    "    print(i , end=' ')"
   ]
  },
  {
   "cell_type": "code",
   "execution_count": 57,
   "id": "94ba4900-b480-49d9-adba-778b06c368f4",
   "metadata": {},
   "outputs": [
    {
     "ename": "IndentationError",
     "evalue": "expected an indented block after 'for' statement on line 1 (760830388.py, line 2)",
     "output_type": "error",
     "traceback": [
      "\u001b[1;36m  Cell \u001b[1;32mIn[57], line 2\u001b[1;36m\u001b[0m\n\u001b[1;33m    print(i , end=' ')\u001b[0m\n\u001b[1;37m    ^\u001b[0m\n\u001b[1;31mIndentationError\u001b[0m\u001b[1;31m:\u001b[0m expected an indented block after 'for' statement on line 1\n"
     ]
    }
   ],
   "source": [
    "for i in range(1,11):\n",
    "print(i , end=' ')"
   ]
  },
  {
   "cell_type": "code",
   "execution_count": 60,
   "id": "533fd2d5-059c-4ec9-9b30-0b3d1bb65898",
   "metadata": {},
   "outputs": [
    {
     "ename": "IndentationError",
     "evalue": "expected an indented block after function definition on line 1 (1883054573.py, line 2)",
     "output_type": "error",
     "traceback": [
      "\u001b[1;36m  Cell \u001b[1;32mIn[60], line 2\u001b[1;36m\u001b[0m\n\u001b[1;33m    print(kamal)\u001b[0m\n\u001b[1;37m    ^\u001b[0m\n\u001b[1;31mIndentationError\u001b[0m\u001b[1;31m:\u001b[0m expected an indented block after function definition on line 1\n"
     ]
    }
   ],
   "source": [
    "def fuc():\n",
    "print(kamal)"
   ]
  },
  {
   "cell_type": "markdown",
   "id": "02a31ea1-8255-4e37-82e7-51f56e4574ca",
   "metadata": {},
   "source": [
    "### IOE error"
   ]
  },
  {
   "cell_type": "code",
   "execution_count": 61,
   "id": "9eea4cba-938f-4c20-baef-f1b90bc69515",
   "metadata": {},
   "outputs": [
    {
     "ename": "FileNotFoundError",
     "evalue": "[Errno 2] No such file or directory: 'C:\\\\Users\\\\MOHANA PRIYA\\\\Desktop\\\\moniter.txt'",
     "output_type": "error",
     "traceback": [
      "\u001b[1;31m---------------------------------------------------------------------------\u001b[0m",
      "\u001b[1;31mFileNotFoundError\u001b[0m                         Traceback (most recent call last)",
      "Cell \u001b[1;32mIn[61], line 1\u001b[0m\n\u001b[1;32m----> 1\u001b[0m \u001b[38;5;28;01mwith\u001b[39;00m \u001b[38;5;28mopen\u001b[39m(\u001b[38;5;124m'\u001b[39m\u001b[38;5;124mC:\u001b[39m\u001b[38;5;130;01m\\\\\u001b[39;00m\u001b[38;5;124mUsers\u001b[39m\u001b[38;5;130;01m\\\\\u001b[39;00m\u001b[38;5;124mMOHANA PRIYA\u001b[39m\u001b[38;5;130;01m\\\\\u001b[39;00m\u001b[38;5;124mDesktop\u001b[39m\u001b[38;5;130;01m\\\\\u001b[39;00m\u001b[38;5;124mmoniter.txt\u001b[39m\u001b[38;5;124m'\u001b[39m, \u001b[38;5;124m'\u001b[39m\u001b[38;5;124mr\u001b[39m\u001b[38;5;124m'\u001b[39m) \u001b[38;5;28;01mas\u001b[39;00m f:\n\u001b[0;32m      2\u001b[0m     \u001b[38;5;28mprint\u001b[39m(f\u001b[38;5;241m.\u001b[39mread())\n",
      "File \u001b[1;32m~\\anaconda3\\New folder\\Lib\\site-packages\\IPython\\core\\interactiveshell.py:310\u001b[0m, in \u001b[0;36m_modified_open\u001b[1;34m(file, *args, **kwargs)\u001b[0m\n\u001b[0;32m    303\u001b[0m \u001b[38;5;28;01mif\u001b[39;00m file \u001b[38;5;129;01min\u001b[39;00m {\u001b[38;5;241m0\u001b[39m, \u001b[38;5;241m1\u001b[39m, \u001b[38;5;241m2\u001b[39m}:\n\u001b[0;32m    304\u001b[0m     \u001b[38;5;28;01mraise\u001b[39;00m \u001b[38;5;167;01mValueError\u001b[39;00m(\n\u001b[0;32m    305\u001b[0m         \u001b[38;5;124mf\u001b[39m\u001b[38;5;124m\"\u001b[39m\u001b[38;5;124mIPython won\u001b[39m\u001b[38;5;124m'\u001b[39m\u001b[38;5;124mt let you open fd=\u001b[39m\u001b[38;5;132;01m{\u001b[39;00mfile\u001b[38;5;132;01m}\u001b[39;00m\u001b[38;5;124m by default \u001b[39m\u001b[38;5;124m\"\u001b[39m\n\u001b[0;32m    306\u001b[0m         \u001b[38;5;124m\"\u001b[39m\u001b[38;5;124mas it is likely to crash IPython. If you know what you are doing, \u001b[39m\u001b[38;5;124m\"\u001b[39m\n\u001b[0;32m    307\u001b[0m         \u001b[38;5;124m\"\u001b[39m\u001b[38;5;124myou can use builtins\u001b[39m\u001b[38;5;124m'\u001b[39m\u001b[38;5;124m open.\u001b[39m\u001b[38;5;124m\"\u001b[39m\n\u001b[0;32m    308\u001b[0m     )\n\u001b[1;32m--> 310\u001b[0m \u001b[38;5;28;01mreturn\u001b[39;00m io_open(file, \u001b[38;5;241m*\u001b[39margs, \u001b[38;5;241m*\u001b[39m\u001b[38;5;241m*\u001b[39mkwargs)\n",
      "\u001b[1;31mFileNotFoundError\u001b[0m: [Errno 2] No such file or directory: 'C:\\\\Users\\\\MOHANA PRIYA\\\\Desktop\\\\moniter.txt'"
     ]
    }
   ],
   "source": [
    "with open('C:\\\\Users\\\\MOHANA PRIYA\\\\Desktop\\\\moniter.txt', 'r') as f:\n",
    "    print(f.read())"
   ]
  },
  {
   "cell_type": "markdown",
   "id": "09079b65-030e-4579-a5ce-5369e2d804ae",
   "metadata": {},
   "source": [
    "## Using exceptional blocks we can handle the error:"
   ]
  },
  {
   "cell_type": "raw",
   "id": "f37b76ca-a7d1-493b-9ea1-00160c35b63b",
   "metadata": {},
   "source": [
    "# syntax:\n",
    "\n",
    "try:\n",
    "    # logic\n",
    "except:\n",
    "    #logic"
   ]
  },
  {
   "cell_type": "code",
   "execution_count": 62,
   "id": "aace2616-3c8f-4468-8267-cc026501f4b8",
   "metadata": {},
   "outputs": [
    {
     "ename": "ZeroDivisionError",
     "evalue": "division by zero",
     "output_type": "error",
     "traceback": [
      "\u001b[1;31m---------------------------------------------------------------------------\u001b[0m",
      "\u001b[1;31mZeroDivisionError\u001b[0m                         Traceback (most recent call last)",
      "Cell \u001b[1;32mIn[62], line 3\u001b[0m\n\u001b[0;32m      1\u001b[0m a \u001b[38;5;241m=\u001b[39m \u001b[38;5;241m10\u001b[39m\n\u001b[0;32m      2\u001b[0m b \u001b[38;5;241m=\u001b[39m \u001b[38;5;241m0\u001b[39m\n\u001b[1;32m----> 3\u001b[0m c \u001b[38;5;241m=\u001b[39m a\u001b[38;5;241m/\u001b[39mb\n\u001b[0;32m      4\u001b[0m \u001b[38;5;28mprint\u001b[39m(c)\n",
      "\u001b[1;31mZeroDivisionError\u001b[0m: division by zero"
     ]
    }
   ],
   "source": [
    "a = 10\n",
    "b = 0\n",
    "c = a/b\n",
    "print(c)"
   ]
  },
  {
   "cell_type": "code",
   "execution_count": 63,
   "id": "36361cf2-8356-4aa0-b09a-ed2de7289916",
   "metadata": {},
   "outputs": [
    {
     "name": "stdout",
     "output_type": "stream",
     "text": [
      "Dont use zero as denominator\n"
     ]
    }
   ],
   "source": [
    "# inside the try block write the code\n",
    "try:\n",
    "    a = 10\n",
    "    b = 0\n",
    "    c = a/b\n",
    "    print(c)\n",
    "except:\n",
    "    print('Dont use zero as denominator')"
   ]
  },
  {
   "cell_type": "code",
   "execution_count": 64,
   "id": "118db599-921b-4bc9-806a-07d45283fdc6",
   "metadata": {},
   "outputs": [
    {
     "name": "stdout",
     "output_type": "stream",
     "text": [
      "division by zero\n"
     ]
    }
   ],
   "source": [
    "# what actually cpu is facing:\n",
    "try:\n",
    "    a = 10\n",
    "    b = 0\n",
    "    c = a/b\n",
    "    print(c)\n",
    "except Exception as e:\n",
    "    print(e)"
   ]
  },
  {
   "cell_type": "code",
   "execution_count": 65,
   "id": "4ee4d7e6-5cc2-480b-add2-9ba8f73ea5c7",
   "metadata": {},
   "outputs": [
    {
     "name": "stdout",
     "output_type": "stream",
     "text": [
      "name 'A' is not defined\n"
     ]
    }
   ],
   "source": [
    "try:\n",
    "    a = 'python'\n",
    "    print(A)\n",
    "except Exception as e:\n",
    "    print(e)"
   ]
  },
  {
   "cell_type": "code",
   "execution_count": 66,
   "id": "1292d381-d576-4c96-990e-4eb745b5baf6",
   "metadata": {},
   "outputs": [
    {
     "name": "stdout",
     "output_type": "stream",
     "text": [
      "invalid literal for int() with base 10: 'python'\n"
     ]
    }
   ],
   "source": [
    "try:\n",
    "    a = 'python'\n",
    "    print(int(a))\n",
    "except Exception as e:\n",
    "    print(e)"
   ]
  },
  {
   "cell_type": "code",
   "execution_count": 75,
   "id": "95cbd79e-86e1-44bc-99d3-04a2da319979",
   "metadata": {},
   "outputs": [
    {
     "ename": "IndentationError",
     "evalue": "expected an indented block after 'for' statement on line 2 (144441333.py, line 3)",
     "output_type": "error",
     "traceback": [
      "\u001b[1;36m  Cell \u001b[1;32mIn[75], line 3\u001b[1;36m\u001b[0m\n\u001b[1;33m    print(i)\u001b[0m\n\u001b[1;37m    ^\u001b[0m\n\u001b[1;31mIndentationError\u001b[0m\u001b[1;31m:\u001b[0m expected an indented block after 'for' statement on line 2\n"
     ]
    }
   ],
   "source": [
    "try:\n",
    "    for i in range(1,11):\n",
    "    print(i)\n",
    "except Exception as e:\n",
    "    print(e)"
   ]
  },
  {
   "cell_type": "code",
   "execution_count": 71,
   "id": "51e3bf10-528e-46d0-998d-cb373da3d9d5",
   "metadata": {},
   "outputs": [
    {
     "name": "stdout",
     "output_type": "stream",
     "text": [
      "[Errno 2] No such file or directory: 'C:\\\\Users\\\\MOHANA PRIYA\\\\Desktop\\\\moniter.txt'\n"
     ]
    }
   ],
   "source": [
    "try:\n",
    "    with open('C:\\\\Users\\\\MOHANA PRIYA\\\\Desktop\\\\moniter.txt', 'r') as f:\n",
    "        print(f.read())\n",
    "except Exception as e:\n",
    "    print(e)"
   ]
  },
  {
   "cell_type": "code",
   "execution_count": 8,
   "id": "6eda4d27-3079-4cb9-baee-22dcc2c08dfd",
   "metadata": {},
   "outputs": [
    {
     "name": "stdout",
     "output_type": "stream",
     "text": [
      "invalid literal for int() with base 10: 'python'\n"
     ]
    }
   ],
   "source": [
    "try:\n",
    "    a = 'python'\n",
    "    b = 10\n",
    "    c = 0\n",
    "    e = int(a)\n",
    "    d = b/c\n",
    "    print(d)\n",
    "    print(e)\n",
    "\n",
    "except ValueError as e:\n",
    "    print(e)\n",
    "except ZeroDivisionError as f:\n",
    "    print(f)"
   ]
  },
  {
   "cell_type": "code",
   "execution_count": 7,
   "id": "a5745d5a-af6b-4237-8316-d79723faa507",
   "metadata": {},
   "outputs": [
    {
     "ename": "ZeroDivisionError",
     "evalue": "division by zero",
     "output_type": "error",
     "traceback": [
      "\u001b[1;31m---------------------------------------------------------------------------\u001b[0m",
      "\u001b[1;31mZeroDivisionError\u001b[0m                         Traceback (most recent call last)",
      "Cell \u001b[1;32mIn[7], line 7\u001b[0m\n\u001b[0;32m      5\u001b[0m b \u001b[38;5;241m=\u001b[39m \u001b[38;5;241m10\u001b[39m\n\u001b[0;32m      6\u001b[0m c \u001b[38;5;241m=\u001b[39m \u001b[38;5;241m0\u001b[39m\n\u001b[1;32m----> 7\u001b[0m d \u001b[38;5;241m=\u001b[39m b\u001b[38;5;241m/\u001b[39mc\n\u001b[0;32m      8\u001b[0m e \u001b[38;5;241m=\u001b[39m \u001b[38;5;28mint\u001b[39m(a)\n\u001b[0;32m      9\u001b[0m \u001b[38;5;28mprint\u001b[39m(d)\n",
      "\u001b[1;31mZeroDivisionError\u001b[0m: division by zero"
     ]
    }
   ],
   "source": [
    "# only accept zero division error\n",
    "\n",
    "try:\n",
    "    a = 'python'\n",
    "    b = 10\n",
    "    c = 0\n",
    "    d = b/c\n",
    "    e = int(a)\n",
    "    print(d)\n",
    "    print(e)\n",
    "\n",
    "except ValueError as e:\n",
    "    print(e)\n",
    "except NameError as f:\n",
    "    print(f)\n",
    "else:\n",
    "    print('realated condition not given')"
   ]
  },
  {
   "cell_type": "code",
   "execution_count": 9,
   "id": "d2d1062d-f829-4e17-9254-95ca187b0ab1",
   "metadata": {},
   "outputs": [],
   "source": [
    "# finally means will execute at any time:\n",
    "# it doesn't matter what is happening in the code [just it will execute at any time]"
   ]
  },
  {
   "cell_type": "code",
   "execution_count": 15,
   "id": "a113fe48-4e6d-472f-a4ff-c2fb619d776e",
   "metadata": {},
   "outputs": [
    {
     "name": "stdout",
     "output_type": "stream",
     "text": [
      "Some error occurred\n",
      "finally\n",
      "Outside of try-except clauses. This statement is always executed\n"
     ]
    }
   ],
   "source": [
    "num1 = '5'\n",
    "try:\n",
    "    num2 = int(num4)\n",
    "    num3 = 10/num2\n",
    "\n",
    "except ValueError:\n",
    "    print(\"Please enter a numeric value\")\n",
    "except ZeroDivisionError:\n",
    "    print(\"Please enter a non-zero value\")\n",
    "except:\n",
    "    print(\"Some error occurred\")\n",
    "else:\n",
    "    print(num3)\n",
    "finally:\n",
    "    print(\"finally\")\n",
    "\n",
    "print(\"Outside of try-except clauses. This statement is always executed\")"
   ]
  },
  {
   "cell_type": "code",
   "execution_count": 19,
   "id": "8ceaf33d-2a82-4385-b5bb-ba11b8b2a51d",
   "metadata": {},
   "outputs": [
    {
     "name": "stdout",
     "output_type": "stream",
     "text": [
      "Not allowed! Your age is greater than 20\n"
     ]
    }
   ],
   "source": [
    "# realtime solutions:\n",
    "\n",
    "try:\n",
    "    age = 25\n",
    "    if age < 5:\n",
    "        raise ValueError('Age below 5 are not alllowed for voting')\n",
    "\n",
    "    if age > 20:\n",
    "        raise ValueError(\"Not allowed! Your age is greater than 20\")\n",
    "\n",
    "except ValueError as v:\n",
    "    print(v)\n",
    "  "
   ]
  },
  {
   "cell_type": "code",
   "execution_count": null,
   "id": "159ff420-0a25-4d00-80d6-41684553e8a1",
   "metadata": {},
   "outputs": [],
   "source": []
  }
 ],
 "metadata": {
  "kernelspec": {
   "display_name": "Python 3 (ipykernel)",
   "language": "python",
   "name": "python3"
  },
  "language_info": {
   "codemirror_mode": {
    "name": "ipython",
    "version": 3
   },
   "file_extension": ".py",
   "mimetype": "text/x-python",
   "name": "python",
   "nbconvert_exporter": "python",
   "pygments_lexer": "ipython3",
   "version": "3.11.7"
  }
 },
 "nbformat": 4,
 "nbformat_minor": 5
}
