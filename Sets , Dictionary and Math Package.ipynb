{
 "cells": [
  {
   "cell_type": "markdown",
   "id": "e06b1f55-1232-472e-9d58-4a2e35b09da6",
   "metadata": {},
   "source": [
    "## Python - Sets"
   ]
  },
  {
   "cell_type": "code",
   "execution_count": 1,
   "id": "5a4d100f-812e-4956-873a-8b6c881ca7ba",
   "metadata": {},
   "outputs": [],
   "source": [
    "# sets are mutable:\n",
    "# sets can be represented with {} -> flower bracket\n",
    "# sets can accept any data type:"
   ]
  },
  {
   "cell_type": "code",
   "execution_count": 16,
   "id": "b0b48480-fce1-4e31-8a2f-23579784627d",
   "metadata": {},
   "outputs": [
    {
     "name": "stdout",
     "output_type": "stream",
     "text": [
      "{10, 45.5, 'data'}\n",
      "<class 'set'>\n"
     ]
    }
   ],
   "source": [
    "a = {10,45.5,'data'}\n",
    "print(a)\n",
    "print(type(a))"
   ]
  },
  {
   "cell_type": "code",
   "execution_count": 11,
   "id": "28cb6347-8f9f-4ec1-8ad5-d25b4ae358d9",
   "metadata": {},
   "outputs": [],
   "source": [
    "# if data structure is mutable :\n",
    "# prove add data, \n",
    "# insert data at any space, \n",
    "# delete data space, \n",
    "# update space"
   ]
  },
  {
   "cell_type": "code",
   "execution_count": 12,
   "id": "ca7affa9-c6e4-4bd7-b325-d3d63fddea34",
   "metadata": {},
   "outputs": [],
   "source": [
    "# adding the data to memory space: \n"
   ]
  },
  {
   "cell_type": "code",
   "execution_count": 18,
   "id": "1d1a0fcf-9022-481c-8b90-c9e4a5404740",
   "metadata": {},
   "outputs": [],
   "source": [
    "# using add method we can add the data:\n",
    "a.add(1000)"
   ]
  },
  {
   "cell_type": "code",
   "execution_count": 19,
   "id": "71f32e69-da8b-4a27-ac23-81e49b9ddd1a",
   "metadata": {},
   "outputs": [
    {
     "name": "stdout",
     "output_type": "stream",
     "text": [
      "{1000, 10, 45.5, 'data'}\n"
     ]
    }
   ],
   "source": [
    "print(a)"
   ]
  },
  {
   "cell_type": "code",
   "execution_count": 22,
   "id": "cd095541-2b9d-48de-a1b0-098b4d76ee64",
   "metadata": {},
   "outputs": [
    {
     "name": "stdout",
     "output_type": "stream",
     "text": [
      "{1000, 10, 45.5, 'python', 'data'}\n"
     ]
    }
   ],
   "source": [
    "a.add('python')\n",
    "print(a)"
   ]
  },
  {
   "cell_type": "code",
   "execution_count": 1,
   "id": "b4eb4c9c-7f34-455e-b0e7-de8b92e43a07",
   "metadata": {},
   "outputs": [],
   "source": [
    "# important:\n",
    "\n",
    "# sets are unordered pairs : which means once we are specifying the values we cant guess where they are going to allocate\n",
    "# it might add anywhere but memory sp[ace is increasing: adding the value is possible"
   ]
  },
  {
   "cell_type": "code",
   "execution_count": 2,
   "id": "44648c88-f681-4428-896d-05a9df4a2311",
   "metadata": {},
   "outputs": [
    {
     "name": "stdout",
     "output_type": "stream",
     "text": [
      "{8.9, 'data science', 100}\n"
     ]
    }
   ],
   "source": [
    "a = {100, 8.9, 'data science'} # check the input and decide the index:\n",
    "print (a)"
   ]
  },
  {
   "cell_type": "code",
   "execution_count": 3,
   "id": "c1496359-3c75-4378-8d77-1b61d91dc875",
   "metadata": {},
   "outputs": [
    {
     "ename": "TypeError",
     "evalue": "'set' object is not subscriptable",
     "output_type": "error",
     "traceback": [
      "\u001b[1;31m---------------------------------------------------------------------------\u001b[0m",
      "\u001b[1;31mTypeError\u001b[0m                                 Traceback (most recent call last)",
      "Cell \u001b[1;32mIn[3], line 2\u001b[0m\n\u001b[0;32m      1\u001b[0m \u001b[38;5;66;03m# since memory is allocated rrandomly let's see can we access the value using the index:\u001b[39;00m\n\u001b[1;32m----> 2\u001b[0m \u001b[38;5;28mprint\u001b[39m(a[\u001b[38;5;241m2\u001b[39m])\n",
      "\u001b[1;31mTypeError\u001b[0m: 'set' object is not subscriptable"
     ]
    }
   ],
   "source": [
    "# since memory is allocated rrandomly let's see can we access the value using the index:\n",
    "print(a[2])\n",
    "# from here we can say sets are random in memory space so we cant access them using index:"
   ]
  },
  {
   "cell_type": "code",
   "execution_count": 4,
   "id": "65083aae-fd8b-4b99-b2fe-e3c4d8511a02",
   "metadata": {},
   "outputs": [
    {
     "name": "stdout",
     "output_type": "stream",
     "text": [
      "{10, 'data', 45.5}\n"
     ]
    }
   ],
   "source": [
    "# can we add the value where ever we want:\n",
    "\n",
    "a = {10,45.5,'data'}\n",
    "print(a)"
   ]
  },
  {
   "cell_type": "code",
   "execution_count": 5,
   "id": "5c8bc2fa-8c3b-425c-837f-8b8c9ef7645e",
   "metadata": {},
   "outputs": [
    {
     "ename": "TypeError",
     "evalue": "'int' object is not iterable",
     "output_type": "error",
     "traceback": [
      "\u001b[1;31m---------------------------------------------------------------------------\u001b[0m",
      "\u001b[1;31mTypeError\u001b[0m                                 Traceback (most recent call last)",
      "Cell \u001b[1;32mIn[5], line 1\u001b[0m\n\u001b[1;32m----> 1\u001b[0m a\u001b[38;5;241m.\u001b[39mupdate(\u001b[38;5;241m4\u001b[39m)\n",
      "\u001b[1;31mTypeError\u001b[0m: 'int' object is not iterable"
     ]
    }
   ],
   "source": [
    "a.update() # comes under union intersection and math stuff:"
   ]
  },
  {
   "cell_type": "code",
   "execution_count": 6,
   "id": "466bb7cd-63e0-4daf-ad47-9846f52f3753",
   "metadata": {},
   "outputs": [
    {
     "name": "stdout",
     "output_type": "stream",
     "text": [
      "{10, 'data', 45.5}\n"
     ]
    }
   ],
   "source": [
    "# deleting the memory space:\n",
    "a = {10,45.5,'data'}\n",
    "print(a)"
   ]
  },
  {
   "cell_type": "code",
   "execution_count": 8,
   "id": "d2c4b00b-6217-4134-8f87-fa886fe02877",
   "metadata": {},
   "outputs": [],
   "source": [
    "# deleting the memory space is possible using this three methods:"
   ]
  },
  {
   "cell_type": "raw",
   "id": "6390725f-d2a6-4995-992f-5fe5bfd88306",
   "metadata": {},
   "source": [
    "\n",
    "a = {}"
   ]
  },
  {
   "cell_type": "code",
   "execution_count": 7,
   "id": "74149f22-5310-4090-86ab-842e7cc4f211",
   "metadata": {},
   "outputs": [],
   "source": [
    "# pop = randomly removes the value from the memory space\n",
    "# discard = discard removes the value if present or else return same data variable, it is not going to show any error\n",
    "# remove = remove is opposite to discard if value present remove ; if not raise an error"
   ]
  },
  {
   "cell_type": "code",
   "execution_count": 9,
   "id": "24fb7a1d-2684-47e1-9bca-1210015e7e3e",
   "metadata": {},
   "outputs": [
    {
     "name": "stdout",
     "output_type": "stream",
     "text": [
      "{10, 'data', 45.5}\n"
     ]
    }
   ],
   "source": [
    "# pop:\n",
    "a = {10,45.5,'data'}\n",
    "print(a)"
   ]
  },
  {
   "cell_type": "code",
   "execution_count": 10,
   "id": "3f5536be-a9e6-4302-9786-edee30f838c5",
   "metadata": {},
   "outputs": [
    {
     "data": {
      "text/plain": [
       "10"
      ]
     },
     "execution_count": 10,
     "metadata": {},
     "output_type": "execute_result"
    }
   ],
   "source": [
    "a.pop() # randomly removes one value"
   ]
  },
  {
   "cell_type": "code",
   "execution_count": 11,
   "id": "d0730a48-92ef-4158-829c-2c6f6310e58a",
   "metadata": {},
   "outputs": [
    {
     "name": "stdout",
     "output_type": "stream",
     "text": [
      "{'data', 45.5}\n"
     ]
    }
   ],
   "source": [
    "print(a)"
   ]
  },
  {
   "cell_type": "code",
   "execution_count": 13,
   "id": "db22e636-d5cc-4084-a967-4d74bb53f361",
   "metadata": {},
   "outputs": [
    {
     "name": "stdout",
     "output_type": "stream",
     "text": [
      "set()\n"
     ]
    }
   ],
   "source": [
    "# what if set is empty:\n",
    "a = {10,45.5,'python'}\n",
    "a.clear()\n",
    "print(a)"
   ]
  },
  {
   "cell_type": "code",
   "execution_count": 15,
   "id": "6761e77d-a3cf-4cc8-9bca-3b56b67b979d",
   "metadata": {},
   "outputs": [
    {
     "ename": "KeyError",
     "evalue": "'pop from an empty set'",
     "output_type": "error",
     "traceback": [
      "\u001b[1;31m---------------------------------------------------------------------------\u001b[0m",
      "\u001b[1;31mKeyError\u001b[0m                                  Traceback (most recent call last)",
      "Cell \u001b[1;32mIn[15], line 3\u001b[0m\n\u001b[0;32m      1\u001b[0m \u001b[38;5;66;03m# set() - this says empty set:\u001b[39;00m\n\u001b[0;32m      2\u001b[0m \u001b[38;5;66;03m# on this empty data if i use pop :\u001b[39;00m\n\u001b[1;32m----> 3\u001b[0m a\u001b[38;5;241m.\u001b[39mpop()\n",
      "\u001b[1;31mKeyError\u001b[0m: 'pop from an empty set'"
     ]
    }
   ],
   "source": [
    "# set() - this says empty set:\n",
    "# on this empty data if i use pop :\n",
    "a.pop() # since a is empty we are getting this issue"
   ]
  },
  {
   "cell_type": "code",
   "execution_count": 16,
   "id": "bc212e9c-89db-4cd2-b066-778bea11b225",
   "metadata": {},
   "outputs": [
    {
     "name": "stdout",
     "output_type": "stream",
     "text": [
      "{10, 'data', 45.5}\n"
     ]
    }
   ],
   "source": [
    "# discard\n",
    "\n",
    "a = {10,45.5, 'data'}\n",
    "print(a)"
   ]
  },
  {
   "cell_type": "code",
   "execution_count": 18,
   "id": "6b29e379-9ace-4c3e-8a9e-33dd17206e5e",
   "metadata": {},
   "outputs": [],
   "source": [
    "a.discard('data science')"
   ]
  },
  {
   "cell_type": "code",
   "execution_count": 20,
   "id": "7edd3d00-12c1-4a76-b51b-61305c218c4b",
   "metadata": {},
   "outputs": [],
   "source": [
    "a.discard(45.5)"
   ]
  },
  {
   "cell_type": "code",
   "execution_count": 21,
   "id": "67c86bbd-d777-4377-a17a-92b7d9b42eed",
   "metadata": {},
   "outputs": [
    {
     "name": "stdout",
     "output_type": "stream",
     "text": [
      "{10, 'data'}\n"
     ]
    }
   ],
   "source": [
    "print(a)"
   ]
  },
  {
   "cell_type": "code",
   "execution_count": 22,
   "id": "d9fd7d0f-6d3b-4a23-8d00-12a9064d74bb",
   "metadata": {},
   "outputs": [
    {
     "name": "stdout",
     "output_type": "stream",
     "text": [
      "{10, 'data', 45.5}\n"
     ]
    }
   ],
   "source": [
    "# remove\n",
    "\n",
    "a = {10,45.5, 'data'}\n",
    "print(a)"
   ]
  },
  {
   "cell_type": "code",
   "execution_count": 23,
   "id": "8f4a2447-02ae-40e2-a1e4-65814fe6c01f",
   "metadata": {},
   "outputs": [
    {
     "ename": "KeyError",
     "evalue": "'data science'",
     "output_type": "error",
     "traceback": [
      "\u001b[1;31m---------------------------------------------------------------------------\u001b[0m",
      "\u001b[1;31mKeyError\u001b[0m                                  Traceback (most recent call last)",
      "Cell \u001b[1;32mIn[23], line 1\u001b[0m\n\u001b[1;32m----> 1\u001b[0m a\u001b[38;5;241m.\u001b[39mremove(\u001b[38;5;124m'\u001b[39m\u001b[38;5;124mdata science\u001b[39m\u001b[38;5;124m'\u001b[39m)\n",
      "\u001b[1;31mKeyError\u001b[0m: 'data science'"
     ]
    }
   ],
   "source": [
    "a.remove('data science')"
   ]
  },
  {
   "cell_type": "code",
   "execution_count": 24,
   "id": "d872071d-52ec-4008-a9e1-9be7822c95f0",
   "metadata": {},
   "outputs": [],
   "source": [
    "a.remove(45.5)"
   ]
  },
  {
   "cell_type": "code",
   "execution_count": 25,
   "id": "1096a21a-cf4c-47d3-9333-0af5948ee14a",
   "metadata": {},
   "outputs": [
    {
     "name": "stdout",
     "output_type": "stream",
     "text": [
      "{10, 'data'}\n"
     ]
    }
   ],
   "source": [
    "print (a)"
   ]
  },
  {
   "cell_type": "code",
   "execution_count": 26,
   "id": "82f6efc5-97ec-47a5-8ee1-c6ba9f92bfdd",
   "metadata": {},
   "outputs": [],
   "source": [
    "### Sets remove duplicates : "
   ]
  },
  {
   "cell_type": "code",
   "execution_count": 27,
   "id": "a80712d4-689c-4d64-ad03-6167df89c437",
   "metadata": {},
   "outputs": [
    {
     "name": "stdout",
     "output_type": "stream",
     "text": [
      "{20, 7.8, 10, 44.4, 30}\n"
     ]
    }
   ],
   "source": [
    "a = {10,20,44.4,30,10,20,7.8,10}\n",
    "print(a)"
   ]
  },
  {
   "cell_type": "code",
   "execution_count": 28,
   "id": "7676f9c4-bc26-4de3-b4fb-7e091680a6b3",
   "metadata": {},
   "outputs": [
    {
     "name": "stdout",
     "output_type": "stream",
     "text": [
      "<class 'tuple'>\n",
      "(10, 20, 30, 10, 20, 30)\n"
     ]
    }
   ],
   "source": [
    "a = (10,20,30,10,20,30)\n",
    "print(type(a))\n",
    "print(a)"
   ]
  },
  {
   "cell_type": "code",
   "execution_count": 35,
   "id": "78275c6b-3e2e-4823-aaf5-4d0be21bb9eb",
   "metadata": {},
   "outputs": [],
   "source": [
    "# since sets are mutable but not going to accept mutable data structures, it can only accept immutable data structures"
   ]
  },
  {
   "cell_type": "code",
   "execution_count": 38,
   "id": "75169cbb-e89b-453d-ba67-23f74c228294",
   "metadata": {},
   "outputs": [
    {
     "name": "stdout",
     "output_type": "stream",
     "text": [
      "{10, 'python', 5.5, (10, 20, 30)}\n"
     ]
    }
   ],
   "source": [
    "a = {'python' , (10,20,30) , 10, 5.5}\n",
    "print(a)"
   ]
  },
  {
   "cell_type": "code",
   "execution_count": 39,
   "id": "e90e2f2c-3803-41b7-bfa4-f005a1f121cf",
   "metadata": {},
   "outputs": [
    {
     "ename": "TypeError",
     "evalue": "unhashable type: 'list'",
     "output_type": "error",
     "traceback": [
      "\u001b[1;31m---------------------------------------------------------------------------\u001b[0m",
      "\u001b[1;31mTypeError\u001b[0m                                 Traceback (most recent call last)",
      "Cell \u001b[1;32mIn[39], line 1\u001b[0m\n\u001b[1;32m----> 1\u001b[0m a \u001b[38;5;241m=\u001b[39m {\u001b[38;5;124m'\u001b[39m\u001b[38;5;124mpython\u001b[39m\u001b[38;5;124m'\u001b[39m , [\u001b[38;5;241m10\u001b[39m,\u001b[38;5;241m20\u001b[39m,\u001b[38;5;241m30\u001b[39m] , \u001b[38;5;241m10\u001b[39m, \u001b[38;5;241m5.5\u001b[39m}\n\u001b[0;32m      2\u001b[0m \u001b[38;5;28mprint\u001b[39m(a)\n",
      "\u001b[1;31mTypeError\u001b[0m: unhashable type: 'list'"
     ]
    }
   ],
   "source": [
    "a = {'python' , [10,20,30] , 10, 5.5}\n",
    "print(a)"
   ]
  },
  {
   "cell_type": "code",
   "execution_count": 40,
   "id": "65501f0c-c2e9-4b63-bceb-7b993f04b318",
   "metadata": {},
   "outputs": [],
   "source": [
    "# some methods in sets:"
   ]
  },
  {
   "cell_type": "code",
   "execution_count": 41,
   "id": "02004c2a-2f5a-405d-88e0-b2f721cb5c04",
   "metadata": {},
   "outputs": [
    {
     "name": "stdout",
     "output_type": "stream",
     "text": [
      "{10, 'data', 45.5}\n"
     ]
    }
   ],
   "source": [
    "a = {10,45.5,'data'}\n",
    "print(a)"
   ]
  },
  {
   "cell_type": "code",
   "execution_count": 44,
   "id": "88d5d541-0c7b-4308-90f5-6d96ae78cba3",
   "metadata": {},
   "outputs": [
    {
     "name": "stdout",
     "output_type": "stream",
     "text": [
      "{10, 'data', 45.5}\n",
      "{10, 'data', 45.5}\n"
     ]
    }
   ],
   "source": [
    "# copy = is used to copy to some other variables:\n",
    "b = a.copy()\n",
    "print(a)\n",
    "print(b)"
   ]
  },
  {
   "cell_type": "code",
   "execution_count": 45,
   "id": "07588172-32fb-4ef6-b465-e599f03b4830",
   "metadata": {},
   "outputs": [],
   "source": [
    "# union and intersection:\n"
   ]
  },
  {
   "cell_type": "code",
   "execution_count": 47,
   "id": "a008763c-d583-4b20-a0dc-4f1631c60776",
   "metadata": {},
   "outputs": [
    {
     "name": "stdout",
     "output_type": "stream",
     "text": [
      "{70, 40, 10, 80, 50, 20, 90, 60, 30}\n"
     ]
    }
   ],
   "source": [
    "a = {10,20,30,40,50}\n",
    "b = {50,60,70,80,90}\n",
    "\n",
    "print(b.union(a))"
   ]
  },
  {
   "cell_type": "code",
   "execution_count": 48,
   "id": "0e7ff893-d741-4491-8d6b-c7f6aa6870ee",
   "metadata": {},
   "outputs": [
    {
     "name": "stdout",
     "output_type": "stream",
     "text": [
      "{50}\n"
     ]
    }
   ],
   "source": [
    "a = {10,20,30,40,50}\n",
    "b = {50,60,70,80,90}\n",
    "\n",
    "print(a.intersection(b))"
   ]
  },
  {
   "cell_type": "markdown",
   "id": "c1413435-e2c0-44e2-9d3a-b0b6bba60e7b",
   "metadata": {},
   "source": [
    "### Dictionary"
   ]
  },
  {
   "cell_type": "code",
   "execution_count": 1,
   "id": "1dd9c7ac-4653-4e87-8066-6982c75b04ef",
   "metadata": {},
   "outputs": [],
   "source": [
    "# Dictionary is an mutable data type\n",
    "# this is used to store the data as human does\n",
    "# Dictionary will be represented with {} -> but using key value pair\n",
    "# this data type is mostly used in most of the data bases:"
   ]
  },
  {
   "cell_type": "code",
   "execution_count": 2,
   "id": "f86729f8-59f9-416d-9600-bd8cebdce436",
   "metadata": {},
   "outputs": [
    {
     "name": "stdout",
     "output_type": "stream",
     "text": [
      "{'kamal': 'cv lead', 'krishna': 'ML Engineer'}\n"
     ]
    }
   ],
   "source": [
    "a = {'kamal' : 'cv lead' , 'krishna' : 'ML Engineer'}\n",
    "print(a)"
   ]
  },
  {
   "cell_type": "code",
   "execution_count": 3,
   "id": "a5c6b19c-4477-4fef-a53f-ad2e96e018db",
   "metadata": {},
   "outputs": [
    {
     "name": "stdout",
     "output_type": "stream",
     "text": [
      "{'kamal_shop': ['hp', 'acer', 'dell'], 'krishna_shop': ['charger', 'mobile phones']}\n"
     ]
    }
   ],
   "source": [
    "a = {'kamal_shop' : ['hp','acer','dell'] , 'krishna_shop' : ['charger' , 'mobile phones']}\n",
    "print(a)"
   ]
  },
  {
   "cell_type": "code",
   "execution_count": null,
   "id": "b430666a-d721-45c9-89de-efd0c99be99c",
   "metadata": {},
   "outputs": [],
   "source": [
    "# keys can be anything\n",
    "# but keus should not be duplicate\n",
    "# if you want to access values use its keys"
   ]
  },
  {
   "cell_type": "code",
   "execution_count": 4,
   "id": "b0244a78-6610-4312-9ece-2cad449cfc79",
   "metadata": {},
   "outputs": [
    {
     "name": "stdout",
     "output_type": "stream",
     "text": [
      "{'apple': 100, 'banana': 300, 'carrot': 40}\n"
     ]
    }
   ],
   "source": [
    "fruits = {'apple' : 100 , 'banana' : 300 , 'carrot' : 40}\n",
    "print(fruits)"
   ]
  },
  {
   "cell_type": "code",
   "execution_count": 5,
   "id": "040943d6-24d1-410c-8b09-756bd2477e89",
   "metadata": {},
   "outputs": [
    {
     "name": "stdout",
     "output_type": "stream",
     "text": [
      "{1: 'python', 2: 'java', 3: '.net c#'}\n"
     ]
    }
   ],
   "source": [
    "fruits = {1 : 'python' , 2 : 'java' , 3 : '.net c#'}\n",
    "print(fruits)"
   ]
  },
  {
   "cell_type": "code",
   "execution_count": 7,
   "id": "0c1da30f-2028-4cc6-a4e4-0ef4ebf9c07e",
   "metadata": {},
   "outputs": [
    {
     "name": "stdout",
     "output_type": "stream",
     "text": [
      "{'apple': 1000, 'banana': 300, 'carrot': 40}\n"
     ]
    }
   ],
   "source": [
    "# keys should not be duplicate\n",
    "fruits = {'apple' : 100 , 'banana' : 300 , 'carrot' : 40 , 'apple' : 1000}\n",
    "print(fruits)"
   ]
  },
  {
   "cell_type": "code",
   "execution_count": 8,
   "id": "be4acb36-7a08-4340-ab6d-db9572192f98",
   "metadata": {},
   "outputs": [
    {
     "name": "stdout",
     "output_type": "stream",
     "text": [
      "{'ravi': 1000, 'krishna': 2000, 'sai': 3000}\n"
     ]
    }
   ],
   "source": [
    "# indepth:\n",
    "\n",
    "employees = {'ravi':1000 , 'krishna' : 2000 , 'sai' : 3000}\n",
    "print(employees)"
   ]
  },
  {
   "cell_type": "code",
   "execution_count": 10,
   "id": "8e060977-73d7-4d69-b458-423bafbd2dc6",
   "metadata": {},
   "outputs": [
    {
     "data": {
      "text/plain": [
       "dict_keys(['ravi', 'krishna', 'sai'])"
      ]
     },
     "execution_count": 10,
     "metadata": {},
     "output_type": "execute_result"
    }
   ],
   "source": [
    "employees.keys()"
   ]
  },
  {
   "cell_type": "code",
   "execution_count": 11,
   "id": "0a455f25-6b7a-4a19-9603-d2e95a3b17b8",
   "metadata": {},
   "outputs": [
    {
     "data": {
      "text/plain": [
       "dict_values([1000, 2000, 3000])"
      ]
     },
     "execution_count": 11,
     "metadata": {},
     "output_type": "execute_result"
    }
   ],
   "source": [
    "employees.values()"
   ]
  },
  {
   "cell_type": "code",
   "execution_count": 12,
   "id": "355f318a-5f54-481d-9fb5-2d1c3dd21010",
   "metadata": {},
   "outputs": [
    {
     "data": {
      "text/plain": [
       "2000"
      ]
     },
     "execution_count": 12,
     "metadata": {},
     "output_type": "execute_result"
    }
   ],
   "source": [
    "# pull out krishna's salary:\n",
    "# if you want value use their key:\n",
    "employees['krishna']"
   ]
  },
  {
   "cell_type": "code",
   "execution_count": 13,
   "id": "d0d4b735-7b48-41f7-a933-6926c46df5e0",
   "metadata": {},
   "outputs": [
    {
     "name": "stdout",
     "output_type": "stream",
     "text": [
      "{'ravi': 1000, 'krishna': 2000, 'sai': 3000, 'kumar': 3000}\n"
     ]
    }
   ],
   "source": [
    "employees = {'ravi':1000 , 'krishna' : 2000 , 'sai' : 3000 , 'kumar' : 3000}\n",
    "print(employees)"
   ]
  },
  {
   "cell_type": "code",
   "execution_count": 15,
   "id": "9221a450-8b2a-4d9f-b481-c4b44e34d829",
   "metadata": {},
   "outputs": [
    {
     "data": {
      "text/plain": [
       "1000"
      ]
     },
     "execution_count": 15,
     "metadata": {},
     "output_type": "execute_result"
    }
   ],
   "source": [
    "# get method is used to get data:\n",
    "employees.get('ravi')"
   ]
  },
  {
   "cell_type": "code",
   "execution_count": 16,
   "id": "5c10ab3d-62dd-4234-b235-285939434382",
   "metadata": {},
   "outputs": [
    {
     "name": "stdout",
     "output_type": "stream",
     "text": [
      "{'ravi': 1000, 'krishna': 2000, 'sai': 3000, 'kumar': 3000}\n"
     ]
    }
   ],
   "source": [
    "employees = {'ravi':1000 , 'krishna' : 2000 , 'sai' : 3000 , 'kumar' : 3000}\n",
    "print(employees)"
   ]
  },
  {
   "cell_type": "code",
   "execution_count": 17,
   "id": "6ecc56b3-a5d6-4a9c-8537-01fdba18b222",
   "metadata": {},
   "outputs": [],
   "source": [
    "# clear : will clear entire data and remains empty:\n",
    "employees.clear()"
   ]
  },
  {
   "cell_type": "code",
   "execution_count": 18,
   "id": "030fb3c8-7fcd-488b-95a3-c6eda875ba4b",
   "metadata": {},
   "outputs": [
    {
     "data": {
      "text/plain": [
       "{}"
      ]
     },
     "execution_count": 18,
     "metadata": {},
     "output_type": "execute_result"
    }
   ],
   "source": [
    "employees"
   ]
  },
  {
   "cell_type": "code",
   "execution_count": 19,
   "id": "c99bc299-9b48-4018-8d8a-7dab37a0745c",
   "metadata": {},
   "outputs": [
    {
     "name": "stdout",
     "output_type": "stream",
     "text": [
      "{'ravi': 1000, 'krishna': 2000, 'sai': 3000, 'kumar': 3000}\n"
     ]
    }
   ],
   "source": [
    "employees = {'ravi':1000 , 'krishna' : 2000 , 'sai' : 3000 , 'kumar' : 3000}\n",
    "print(employees)"
   ]
  },
  {
   "cell_type": "code",
   "execution_count": 20,
   "id": "5575c762-ef41-47b1-8fdc-5cef20ba80d5",
   "metadata": {},
   "outputs": [
    {
     "name": "stdout",
     "output_type": "stream",
     "text": [
      "{'ravi': 1000, 'krishna': 2000, 'sai': 3000, 'kumar': 3000}\n",
      "{'ravi': 1000, 'krishna': 2000, 'sai': 3000, 'kumar': 3000}\n"
     ]
    }
   ],
   "source": [
    "# copy: copy from one variable to another variable:\n",
    "b = employees.copy()\n",
    "print(employees)\n",
    "print(b)"
   ]
  },
  {
   "cell_type": "code",
   "execution_count": 21,
   "id": "051a56f7-722b-41a9-aed4-c20d5c459296",
   "metadata": {},
   "outputs": [
    {
     "name": "stdout",
     "output_type": "stream",
     "text": [
      "{'ravi': 1000, 'krishna': 2000, 'sai': 3000, 'kumar': 3000}\n"
     ]
    }
   ],
   "source": [
    "employees = {'ravi':1000 , 'krishna' : 2000 , 'sai' : 3000 , 'kumar' : 3000}\n",
    "print(employees)"
   ]
  },
  {
   "cell_type": "code",
   "execution_count": 22,
   "id": "917df56c-fc47-4096-b043-730b76f963f1",
   "metadata": {},
   "outputs": [
    {
     "data": {
      "text/plain": [
       "dict_keys(['ravi', 'krishna', 'sai', 'kumar'])"
      ]
     },
     "execution_count": 22,
     "metadata": {},
     "output_type": "execute_result"
    }
   ],
   "source": [
    "# items will give you combination of keys and values \n",
    "employees.keys()"
   ]
  },
  {
   "cell_type": "code",
   "execution_count": 24,
   "id": "d29f7a3f-9548-48fd-9624-51b969678cb6",
   "metadata": {},
   "outputs": [
    {
     "data": {
      "text/plain": [
       "dict_values([1000, 2000, 3000, 3000])"
      ]
     },
     "execution_count": 24,
     "metadata": {},
     "output_type": "execute_result"
    }
   ],
   "source": [
    "employees.values()"
   ]
  },
  {
   "cell_type": "code",
   "execution_count": 25,
   "id": "6677f4fb-6a3e-4099-a3bc-ce8e40d12080",
   "metadata": {},
   "outputs": [
    {
     "data": {
      "text/plain": [
       "dict_items([('ravi', 1000), ('krishna', 2000), ('sai', 3000), ('kumar', 3000)])"
      ]
     },
     "execution_count": 25,
     "metadata": {},
     "output_type": "execute_result"
    }
   ],
   "source": [
    "employees.items()"
   ]
  },
  {
   "cell_type": "code",
   "execution_count": 28,
   "id": "126aaea6-3b9d-4e99-b72a-1e43d45753de",
   "metadata": {},
   "outputs": [],
   "source": [
    "# lets start whether dictionary is mutable or immutable?"
   ]
  },
  {
   "cell_type": "code",
   "execution_count": 29,
   "id": "06859111-8811-4c45-8651-a08d91d7ff88",
   "metadata": {},
   "outputs": [],
   "source": [
    "# add, delete , update"
   ]
  },
  {
   "cell_type": "code",
   "execution_count": 30,
   "id": "69aa6c6a-f41b-4f6a-844f-4283551ee91a",
   "metadata": {},
   "outputs": [
    {
     "name": "stdout",
     "output_type": "stream",
     "text": [
      "{'ravi': 1000, 'krishna': 2000, 'sai': 3000, 'kumar': 3000}\n"
     ]
    }
   ],
   "source": [
    "# add\n",
    "employees = {'ravi':1000 , 'krishna' : 2000 , 'sai' : 3000 , 'kumar' : 3000}\n",
    "print(employees)"
   ]
  },
  {
   "cell_type": "code",
   "execution_count": 33,
   "id": "b398bdc0-8f72-42b4-b1b9-cddd5a6a894c",
   "metadata": {},
   "outputs": [],
   "source": [
    "employees['kamal'] = 5000 # if key not there add key value and since we are playing with keys there is no need to add in specific location\n",
    "# it might be add anywhere I can access with its keys"
   ]
  },
  {
   "cell_type": "code",
   "execution_count": 34,
   "id": "44d02e8d-a260-42d8-acaf-2031de19e7ce",
   "metadata": {},
   "outputs": [
    {
     "data": {
      "text/plain": [
       "5000"
      ]
     },
     "execution_count": 34,
     "metadata": {},
     "output_type": "execute_result"
    }
   ],
   "source": [
    "employees['kamal']"
   ]
  },
  {
   "cell_type": "code",
   "execution_count": 35,
   "id": "cdf96240-3b75-4956-a4e6-0da2d92023f1",
   "metadata": {},
   "outputs": [
    {
     "name": "stdout",
     "output_type": "stream",
     "text": [
      "{'ravi': 1000, 'krishna': 2000, 'sai': 3000, 'kumar': 3000, 'kamal': 5000}\n"
     ]
    }
   ],
   "source": [
    "print(employees)"
   ]
  },
  {
   "cell_type": "code",
   "execution_count": 36,
   "id": "0a7a41ac-86ab-4a09-88b7-26c117940ff0",
   "metadata": {},
   "outputs": [
    {
     "data": {
      "text/plain": [
       "{'ravi': 1000, 'krishna': 2000, 'sai': 3000, 'kumar': 3000, 'kamal': 5000}"
      ]
     },
     "execution_count": 36,
     "metadata": {},
     "output_type": "execute_result"
    }
   ],
   "source": [
    "# update : update the existing data:\n",
    "employees"
   ]
  },
  {
   "cell_type": "code",
   "execution_count": 37,
   "id": "b3a466cc-0eb2-42b7-acb4-fe7c7a0652d3",
   "metadata": {},
   "outputs": [],
   "source": [
    "# i want to update salary of kumar from 3000 to 30,000\n",
    "employees['kumar'] = 30000"
   ]
  },
  {
   "cell_type": "code",
   "execution_count": 38,
   "id": "ef11b45e-45c5-491b-b3b2-14f881882cfe",
   "metadata": {},
   "outputs": [
    {
     "data": {
      "text/plain": [
       "{'ravi': 1000, 'krishna': 2000, 'sai': 3000, 'kumar': 30000, 'kamal': 5000}"
      ]
     },
     "execution_count": 38,
     "metadata": {},
     "output_type": "execute_result"
    }
   ],
   "source": [
    "employees"
   ]
  },
  {
   "cell_type": "code",
   "execution_count": 40,
   "id": "774ad3f0-a4ca-43f9-9874-35fb00b29116",
   "metadata": {},
   "outputs": [],
   "source": [
    "# using update method lets make 30000 to 0:\n",
    "employees.update({'kumar':0})"
   ]
  },
  {
   "cell_type": "code",
   "execution_count": 41,
   "id": "377c0e89-afc1-4886-9859-25b24b4eab34",
   "metadata": {},
   "outputs": [
    {
     "name": "stdout",
     "output_type": "stream",
     "text": [
      "{'ravi': 1000, 'krishna': 2000, 'sai': 3000, 'kumar': 0, 'kamal': 5000}\n"
     ]
    }
   ],
   "source": [
    "print(employees)"
   ]
  },
  {
   "cell_type": "code",
   "execution_count": 27,
   "id": "ae9d4347-8447-4ae8-b3cd-bf395d2e6167",
   "metadata": {},
   "outputs": [],
   "source": [
    "# pop = removes key what we have given\n",
    "# pop items = will remove the last keys and its value\n",
    "# del = normal python"
   ]
  },
  {
   "cell_type": "code",
   "execution_count": 43,
   "id": "617fcd87-3901-4a31-a634-917918babe3c",
   "metadata": {},
   "outputs": [
    {
     "data": {
      "text/plain": [
       "0"
      ]
     },
     "execution_count": 43,
     "metadata": {},
     "output_type": "execute_result"
    }
   ],
   "source": [
    "# pop\n",
    "employees.pop('kumar')"
   ]
  },
  {
   "cell_type": "code",
   "execution_count": 44,
   "id": "3e968bee-d795-429e-868a-7f796193982a",
   "metadata": {},
   "outputs": [
    {
     "name": "stdout",
     "output_type": "stream",
     "text": [
      "{'ravi': 1000, 'krishna': 2000, 'sai': 3000, 'kamal': 5000}\n"
     ]
    }
   ],
   "source": [
    "print(employees)"
   ]
  },
  {
   "cell_type": "code",
   "execution_count": 45,
   "id": "fdc861dc-ce9e-4707-8c89-4f6207a90148",
   "metadata": {},
   "outputs": [
    {
     "data": {
      "text/plain": [
       "('kamal', 5000)"
      ]
     },
     "execution_count": 45,
     "metadata": {},
     "output_type": "execute_result"
    }
   ],
   "source": [
    "# pop items:\n",
    "employees.popitem()"
   ]
  },
  {
   "cell_type": "code",
   "execution_count": 46,
   "id": "bdb37ea5-2ac5-45db-989a-a176c108bb8b",
   "metadata": {},
   "outputs": [
    {
     "name": "stdout",
     "output_type": "stream",
     "text": [
      "{'ravi': 1000, 'krishna': 2000, 'sai': 3000}\n"
     ]
    }
   ],
   "source": [
    "print(employees)"
   ]
  },
  {
   "cell_type": "code",
   "execution_count": 47,
   "id": "9db065bb-3aca-472c-943b-10f027844a64",
   "metadata": {},
   "outputs": [
    {
     "data": {
      "text/plain": [
       "('sai', 3000)"
      ]
     },
     "execution_count": 47,
     "metadata": {},
     "output_type": "execute_result"
    }
   ],
   "source": [
    "employees.popitem()"
   ]
  },
  {
   "cell_type": "code",
   "execution_count": 48,
   "id": "17bf81eb-9bee-49f8-bc09-d8193a43688c",
   "metadata": {},
   "outputs": [
    {
     "name": "stdout",
     "output_type": "stream",
     "text": [
      "{'ravi': 1000, 'krishna': 2000}\n"
     ]
    }
   ],
   "source": [
    "print(employees)"
   ]
  },
  {
   "cell_type": "code",
   "execution_count": 49,
   "id": "28eab10a-601a-4446-b5f9-844a42b8b6ee",
   "metadata": {},
   "outputs": [],
   "source": [
    "\n",
    "del employees['krishna']"
   ]
  },
  {
   "cell_type": "code",
   "execution_count": 50,
   "id": "13a9de2b-25d3-4068-be1f-eef7fcce3f02",
   "metadata": {},
   "outputs": [
    {
     "name": "stdout",
     "output_type": "stream",
     "text": [
      "{'ravi': 1000}\n"
     ]
    }
   ],
   "source": [
    "print(employees)"
   ]
  },
  {
   "cell_type": "code",
   "execution_count": 1,
   "id": "cb546e68-b622-4d96-ae73-9094c4bcd165",
   "metadata": {},
   "outputs": [],
   "source": [
    "# from here we can say dictionary is immutable\n"
   ]
  },
  {
   "cell_type": "code",
   "execution_count": 4,
   "id": "e2a76fab-7f84-45f3-a16d-8f94f31ac5e1",
   "metadata": {},
   "outputs": [
    {
     "name": "stdout",
     "output_type": "stream",
     "text": [
      "{'kamal': 'zest'}\n"
     ]
    }
   ],
   "source": [
    "employees = {'kamal' : 'zest'}\n",
    "print(employees)"
   ]
  },
  {
   "cell_type": "code",
   "execution_count": 9,
   "id": "62d68d3b-29db-4408-a0ce-8676279508b1",
   "metadata": {},
   "outputs": [
    {
     "data": {
      "text/plain": [
       "('kamal', 'zest')"
      ]
     },
     "execution_count": 9,
     "metadata": {},
     "output_type": "execute_result"
    }
   ],
   "source": [
    "employees.popitem()"
   ]
  },
  {
   "cell_type": "code",
   "execution_count": 10,
   "id": "6c6c8327-d2a2-423f-9aa8-96ca19b2e025",
   "metadata": {},
   "outputs": [
    {
     "name": "stdout",
     "output_type": "stream",
     "text": [
      "{}\n"
     ]
    }
   ],
   "source": [
    "print(employees)"
   ]
  },
  {
   "cell_type": "code",
   "execution_count": 12,
   "id": "8f4c49d3-49aa-4cee-8010-9f320e227f40",
   "metadata": {},
   "outputs": [
    {
     "name": "stdout",
     "output_type": "stream",
     "text": [
      "{'python': 'data'}\n"
     ]
    }
   ],
   "source": [
    "employees['python'] = 'data'\n",
    "print(employees)"
   ]
  },
  {
   "cell_type": "code",
   "execution_count": 13,
   "id": "c2193ab9-603e-4c61-a139-b526da7f2b2e",
   "metadata": {},
   "outputs": [],
   "source": [
    "## completed data types:\n",
    "# strings , list , tuple, sets and dictionaries."
   ]
  },
  {
   "cell_type": "markdown",
   "id": "3056f22f-9cf5-448c-b2e3-ae7b2dee6b2d",
   "metadata": {},
   "source": [
    "## Math package:"
   ]
  },
  {
   "cell_type": "code",
   "execution_count": 14,
   "id": "2ef3901b-e80b-42a8-bfae-e7b9d75a9e00",
   "metadata": {},
   "outputs": [],
   "source": [
    "import math"
   ]
  },
  {
   "cell_type": "code",
   "execution_count": 15,
   "id": "1947c35c-fd55-4a2e-b24a-e9d40895943c",
   "metadata": {},
   "outputs": [
    {
     "data": {
      "text/plain": [
       "4.0"
      ]
     },
     "execution_count": 15,
     "metadata": {},
     "output_type": "execute_result"
    }
   ],
   "source": [
    "math.sqrt(16)"
   ]
  },
  {
   "cell_type": "code",
   "execution_count": 16,
   "id": "bb8c63f4-2cf2-4493-90b6-18bb595db2c9",
   "metadata": {},
   "outputs": [
    {
     "data": {
      "text/plain": [
       "0.0"
      ]
     },
     "execution_count": 16,
     "metadata": {},
     "output_type": "execute_result"
    }
   ],
   "source": [
    "math.log(1)"
   ]
  },
  {
   "cell_type": "code",
   "execution_count": 17,
   "id": "d73460ea-b2b8-42a0-98ca-f53046f0a561",
   "metadata": {},
   "outputs": [
    {
     "data": {
      "text/plain": [
       "0.8509035245341184"
      ]
     },
     "execution_count": 17,
     "metadata": {},
     "output_type": "execute_result"
    }
   ],
   "source": [
    "math.sin(45)"
   ]
  },
  {
   "cell_type": "code",
   "execution_count": 18,
   "id": "ff66ee65-0a74-4834-8e3a-5f3ae3943e33",
   "metadata": {},
   "outputs": [
    {
     "data": {
      "text/plain": [
       "1.6197751905438615"
      ]
     },
     "execution_count": 18,
     "metadata": {},
     "output_type": "execute_result"
    }
   ],
   "source": [
    "math.tan(45)"
   ]
  },
  {
   "cell_type": "code",
   "execution_count": 20,
   "id": "758fbf06-3e67-46e5-8b32-73fe7c4db4b8",
   "metadata": {},
   "outputs": [
    {
     "data": {
      "text/plain": [
       "120"
      ]
     },
     "execution_count": 20,
     "metadata": {},
     "output_type": "execute_result"
    }
   ],
   "source": [
    "math.factorial(5) # this code is for factorial of 5"
   ]
  },
  {
   "cell_type": "code",
   "execution_count": 22,
   "id": "39f7b480-87f4-485d-87a7-f1c4e07af696",
   "metadata": {},
   "outputs": [
    {
     "data": {
      "text/plain": [
       "3.141592653589793"
      ]
     },
     "execution_count": 22,
     "metadata": {},
     "output_type": "execute_result"
    }
   ],
   "source": [
    "math.pi"
   ]
  },
  {
   "cell_type": "code",
   "execution_count": 23,
   "id": "3c833fac-6806-4288-acec-b678b37e6ff6",
   "metadata": {},
   "outputs": [
    {
     "data": {
      "text/plain": [
       "2.718281828459045"
      ]
     },
     "execution_count": 23,
     "metadata": {},
     "output_type": "execute_result"
    }
   ],
   "source": [
    "math.e"
   ]
  },
  {
   "cell_type": "code",
   "execution_count": 25,
   "id": "36e46559-25f0-4887-b086-666d3806e96d",
   "metadata": {},
   "outputs": [
    {
     "name": "stdout",
     "output_type": "stream",
     "text": [
      "Collecting PyPDF2\n",
      "  Downloading pypdf2-3.0.1-py3-none-any.whl.metadata (6.8 kB)\n",
      "Downloading pypdf2-3.0.1-py3-none-any.whl (232 kB)\n",
      "   ---------------------------------------- 0.0/232.6 kB ? eta -:--:--\n",
      "   - -------------------------------------- 10.2/232.6 kB ? eta -:--:--\n",
      "   ---------- ---------------------------- 61.4/232.6 kB 825.8 kB/s eta 0:00:01\n",
      "   ----------------------------------- ---- 204.8/232.6 kB 1.8 MB/s eta 0:00:01\n",
      "   ---------------------------------------- 232.6/232.6 kB 1.8 MB/s eta 0:00:00\n",
      "Installing collected packages: PyPDF2\n",
      "Successfully installed PyPDF2-3.0.1\n"
     ]
    }
   ],
   "source": [
    "!pip install PyPDF2"
   ]
  },
  {
   "cell_type": "code",
   "execution_count": 26,
   "id": "15a8e727-1fef-483a-86d4-9cf6bbb2cc8b",
   "metadata": {},
   "outputs": [],
   "source": [
    "import PyPDF2"
   ]
  },
  {
   "cell_type": "code",
   "execution_count": 27,
   "id": "e38711f4-25e8-429a-b037-78a5b4c40c31",
   "metadata": {},
   "outputs": [],
   "source": [
    "# Any packages we can install and work on it"
   ]
  },
  {
   "cell_type": "code",
   "execution_count": 28,
   "id": "5b34c87b-c2be-4168-ac97-f84f52b446de",
   "metadata": {},
   "outputs": [],
   "source": [
    "# os package = is used to work with system , path"
   ]
  },
  {
   "cell_type": "code",
   "execution_count": 29,
   "id": "983234b2-2bd8-406e-929d-6d56826b6a0c",
   "metadata": {},
   "outputs": [],
   "source": [
    "import os"
   ]
  },
  {
   "cell_type": "code",
   "execution_count": 30,
   "id": "aa3f5805-d6b1-4064-9eab-2c267575f6a9",
   "metadata": {},
   "outputs": [
    {
     "data": {
      "text/plain": [
       "['.ipynb_checkpoints',\n",
       " 'Untitled.ipynb',\n",
       " 'Untitled1.ipynb',\n",
       " 'Untitled2.ipynb',\n",
       " 'Untitled3.ipynb',\n",
       " 'Untitled4.ipynb']"
      ]
     },
     "execution_count": 30,
     "metadata": {},
     "output_type": "execute_result"
    }
   ],
   "source": [
    "os.listdir() # current dir"
   ]
  },
  {
   "cell_type": "code",
   "execution_count": 32,
   "id": "5c5e96e0-3c8c-4075-a7a4-f6e61ec40657",
   "metadata": {},
   "outputs": [
    {
     "data": {
      "text/plain": [
       "['.ipynb_checkpoints',\n",
       " 'Untitled.ipynb',\n",
       " 'Untitled1.ipynb',\n",
       " 'Untitled2.ipynb',\n",
       " 'Untitled3.ipynb',\n",
       " 'Untitled4.ipynb']"
      ]
     },
     "execution_count": 32,
     "metadata": {},
     "output_type": "execute_result"
    }
   ],
   "source": [
    "os.listdir('./') # current dir"
   ]
  },
  {
   "cell_type": "code",
   "execution_count": 35,
   "id": "963ac126-142f-4983-a377-4fb849de52bb",
   "metadata": {},
   "outputs": [
    {
     "data": {
      "text/plain": [
       "['$RECYCLE.BIN',\n",
       " '.ipynb_checkpoints',\n",
       " 'System Volume Information',\n",
       " 'top mentor']"
      ]
     },
     "execution_count": 35,
     "metadata": {},
     "output_type": "execute_result"
    }
   ],
   "source": [
    "os.listdir('./../') # parent directory"
   ]
  },
  {
   "cell_type": "code",
   "execution_count": 36,
   "id": "3a0f3525-e390-49ec-9673-bfd03c4cace0",
   "metadata": {},
   "outputs": [
    {
     "data": {
      "text/plain": [
       "['$RECYCLE.BIN',\n",
       " '.ipynb_checkpoints',\n",
       " 'System Volume Information',\n",
       " 'top mentor']"
      ]
     },
     "execution_count": 36,
     "metadata": {},
     "output_type": "execute_result"
    }
   ],
   "source": [
    "os.listdir('./../../') # sub root folders"
   ]
  },
  {
   "cell_type": "code",
   "execution_count": 37,
   "id": "f01fa2a5-1d32-43a0-a138-66b0294e72c6",
   "metadata": {},
   "outputs": [
    {
     "data": {
      "text/plain": [
       "['$RECYCLE.BIN',\n",
       " '.ipynb_checkpoints',\n",
       " 'System Volume Information',\n",
       " 'top mentor']"
      ]
     },
     "execution_count": 37,
     "metadata": {},
     "output_type": "execute_result"
    }
   ],
   "source": [
    "os.listdir('./../../../') # root folders"
   ]
  }
 ],
 "metadata": {
  "kernelspec": {
   "display_name": "Python 3 (ipykernel)",
   "language": "python",
   "name": "python3"
  },
  "language_info": {
   "codemirror_mode": {
    "name": "ipython",
    "version": 3
   },
   "file_extension": ".py",
   "mimetype": "text/x-python",
   "name": "python",
   "nbconvert_exporter": "python",
   "pygments_lexer": "ipython3",
   "version": "3.11.7"
  }
 },
 "nbformat": 4,
 "nbformat_minor": 5
}
