{
 "cells": [
  {
   "cell_type": "code",
   "execution_count": 1,
   "id": "b8fe1698-8597-4e86-b358-3f0e024d9b17",
   "metadata": {},
   "outputs": [],
   "source": [
    "# Forward direction index starts from 0:\n",
    "# Backward direction index starts from -1:\n",
    "a = 'datascience'"
   ]
  },
  {
   "cell_type": "code",
   "execution_count": 2,
   "id": "86f42f16-7467-4798-a31b-c2b315830446",
   "metadata": {},
   "outputs": [
    {
     "name": "stdout",
     "output_type": "stream",
     "text": [
      "n\n"
     ]
    }
   ],
   "source": [
    "print(a[8])"
   ]
  },
  {
   "cell_type": "code",
   "execution_count": 3,
   "id": "e3e62ef6-0027-4191-8f6f-e0d880d5f4c0",
   "metadata": {},
   "outputs": [
    {
     "name": "stdout",
     "output_type": "stream",
     "text": [
      "s\n"
     ]
    }
   ],
   "source": [
    "print(a[4])"
   ]
  },
  {
   "cell_type": "code",
   "execution_count": 5,
   "id": "44389ba7-52cb-4c3f-aac9-f6df382eab6c",
   "metadata": {},
   "outputs": [
    {
     "name": "stdout",
     "output_type": "stream",
     "text": [
      "a\n"
     ]
    }
   ],
   "source": [
    "b = 'I am fine'\n",
    "print(b[2])"
   ]
  },
  {
   "cell_type": "code",
   "execution_count": 7,
   "id": "4194f261-4382-44aa-a1a4-91d9d082763f",
   "metadata": {},
   "outputs": [
    {
     "name": "stdout",
     "output_type": "stream",
     "text": [
      "h\n",
      "h\n"
     ]
    }
   ],
   "source": [
    "c = 'python'\n",
    "\n",
    "# in forward dir:\n",
    "print(c[3])\n",
    "# in backward dir:\n",
    "print(c[-3])"
   ]
  },
  {
   "cell_type": "markdown",
   "id": "56daa95b-9f5c-43ac-9767-cb87c65de12f",
   "metadata": {},
   "source": [
    "## Slicing operation on strings with index concepts:"
   ]
  },
  {
   "cell_type": "code",
   "execution_count": 10,
   "id": "b9c40122-b8a7-426d-a0cf-7cda50caad00",
   "metadata": {},
   "outputs": [
    {
     "name": "stdout",
     "output_type": "stream",
     "text": [
      "ytho\n"
     ]
    }
   ],
   "source": [
    "a = 'python'\n",
    "print(a[1:5])"
   ]
  },
  {
   "cell_type": "code",
   "execution_count": 16,
   "id": "c290d0e7-966d-46ca-9c12-175ea8f061aa",
   "metadata": {},
   "outputs": [
    {
     "name": "stdout",
     "output_type": "stream",
     "text": [
      "ta sc\n",
      "ta sc\n",
      "cie\n"
     ]
    }
   ],
   "source": [
    "a = 'data science'\n",
    "print(a[2:7])\n",
    "print(a[-10:-5])\n",
    "print(a[-6:-3])"
   ]
  },
  {
   "cell_type": "markdown",
   "id": "06b6c574-ae0c-4670-b0ee-60eae1ac5674",
   "metadata": {},
   "source": [
    "## Slicing and skipping concept:"
   ]
  },
  {
   "cell_type": "code",
   "execution_count": 17,
   "id": "13caff8d-5916-4597-9d2c-6a31e9c83ef4",
   "metadata": {},
   "outputs": [
    {
     "name": "stdout",
     "output_type": "stream",
     "text": [
      "yhn\n"
     ]
    }
   ],
   "source": [
    "a = 'python'\n",
    "print(a[1:6:2])"
   ]
  },
  {
   "cell_type": "code",
   "execution_count": 18,
   "id": "c9598650-b44b-4854-96d7-48452882ec67",
   "metadata": {},
   "outputs": [
    {
     "name": "stdout",
     "output_type": "stream",
     "text": [
      "aasin\n"
     ]
    }
   ],
   "source": [
    "a = 'data science'\n",
    "print(a[1:11:2])"
   ]
  },
  {
   "cell_type": "markdown",
   "id": "e5cb6780-b516-4ffa-85a7-2b66aa242571",
   "metadata": {},
   "source": [
    "# Using slicing concept there are few fixed techniques:"
   ]
  },
  {
   "cell_type": "code",
   "execution_count": 19,
   "id": "5b6e2617-ca6c-4e1a-972e-232064404688",
   "metadata": {},
   "outputs": [
    {
     "name": "stdout",
     "output_type": "stream",
     "text": [
      "rajinikanth\n"
     ]
    }
   ],
   "source": [
    "a = 'rajinikanth'\n",
    "\n",
    "print(a[:]) # -> means return entire string as it is:"
   ]
  },
  {
   "cell_type": "code",
   "execution_count": 20,
   "id": "4a2066e0-78d0-45ab-bb05-72e52625ef22",
   "metadata": {},
   "outputs": [
    {
     "name": "stdout",
     "output_type": "stream",
     "text": [
      "jinikanth\n"
     ]
    }
   ],
   "source": [
    "print(a[2:]) # means from 2nd index position to entire string"
   ]
  },
  {
   "cell_type": "code",
   "execution_count": 21,
   "id": "046d8fa5-8c39-4384-b72e-0bf26da4c207",
   "metadata": {},
   "outputs": [
    {
     "name": "stdout",
     "output_type": "stream",
     "text": [
      "rajinikant\n"
     ]
    }
   ],
   "source": [
    "print(a[:10]) # means there is destination but there is no starting point so its starts from zero\n"
   ]
  },
  {
   "cell_type": "code",
   "execution_count": 22,
   "id": "a5b19f93-b379-449b-b562-89dd333ca701",
   "metadata": {},
   "outputs": [
    {
     "name": "stdout",
     "output_type": "stream",
     "text": [
      "htnakinijar\n"
     ]
    }
   ],
   "source": [
    "print(a[::-1]) # from starting position to ending position please reverse everything\n",
    "# : -> starting\n",
    "# : -> ending\n",
    "# -1 -> reverse"
   ]
  },
  {
   "cell_type": "code",
   "execution_count": 23,
   "id": "d7a30016-4987-4833-a61f-f8018145ccfd",
   "metadata": {},
   "outputs": [
    {
     "name": "stdout",
     "output_type": "stream",
     "text": [
      "lufrewop yrev si nohtyP\n"
     ]
    }
   ],
   "source": [
    "a = 'Python is very powerful'\n",
    "print(a[::-1])"
   ]
  },
  {
   "cell_type": "code",
   "execution_count": 28,
   "id": "04a9e2b9-1af4-404c-bd62-4e51c1f509cc",
   "metadata": {},
   "outputs": [
    {
     "name": "stdout",
     "output_type": "stream",
     "text": [
      "iclnlg\n"
     ]
    }
   ],
   "source": [
    "a = 'Artificial Intelligence'\n",
    "print(a[3:21:3])"
   ]
  },
  {
   "cell_type": "code",
   "execution_count": 30,
   "id": "96b5c18b-3019-4f0c-be4f-d40c46444ea6",
   "metadata": {},
   "outputs": [
    {
     "name": "stdout",
     "output_type": "stream",
     "text": [
      "to\n"
     ]
    }
   ],
   "source": [
    "a = 'python'\n",
    "print(a[2:5:2])"
   ]
  },
  {
   "cell_type": "markdown",
   "id": "563fc9e9-c47d-47e6-93a6-154796abd4d1",
   "metadata": {},
   "source": [
    "### string concept and methods:"
   ]
  },
  {
   "cell_type": "code",
   "execution_count": 31,
   "id": "b45f0a6b-1cf7-4bbc-8300-dc4566c7f8f4",
   "metadata": {},
   "outputs": [],
   "source": [
    "# string is immutable : we cannot change the memory space:"
   ]
  },
  {
   "cell_type": "code",
   "execution_count": 32,
   "id": "3130bdf0-e21c-481d-9a93-05b664e48b4a",
   "metadata": {},
   "outputs": [
    {
     "name": "stdout",
     "output_type": "stream",
     "text": [
      "pyhton java\n"
     ]
    }
   ],
   "source": [
    "mystring = 'pyhton java'\n",
    "print(mystring)"
   ]
  },
  {
   "cell_type": "code",
   "execution_count": 33,
   "id": "53badaf0-b0d2-4262-8165-fc06ad3b54e0",
   "metadata": {},
   "outputs": [],
   "source": [
    "# I want to add a character : I want to increase the memory space : is it possible:\n",
    "\n",
    "# shift + enter to check complete info about python predefined methods:\n",
    "# tab will show you about variables"
   ]
  },
  {
   "cell_type": "code",
   "execution_count": 34,
   "id": "f610e380-4220-4eac-82f2-c9dd7b549084",
   "metadata": {},
   "outputs": [
    {
     "ename": "TypeError",
     "evalue": "'str' object does not support item assignment",
     "output_type": "error",
     "traceback": [
      "\u001b[1;31m---------------------------------------------------------------------------\u001b[0m",
      "\u001b[1;31mTypeError\u001b[0m                                 Traceback (most recent call last)",
      "Cell \u001b[1;32mIn[34], line 2\u001b[0m\n\u001b[0;32m      1\u001b[0m \u001b[38;5;66;03m# adding new char to string\u001b[39;00m\n\u001b[1;32m----> 2\u001b[0m mystring[\u001b[38;5;241m11\u001b[39m] \u001b[38;5;241m=\u001b[39m \u001b[38;5;124m'\u001b[39m\u001b[38;5;124mM\u001b[39m\u001b[38;5;124m'\u001b[39m\n",
      "\u001b[1;31mTypeError\u001b[0m: 'str' object does not support item assignment"
     ]
    }
   ],
   "source": [
    "# adding new char to string\n",
    "mystring[11] = 'M'"
   ]
  },
  {
   "cell_type": "code",
   "execution_count": 35,
   "id": "36d0050e-364b-4672-b898-fc8e642c662b",
   "metadata": {},
   "outputs": [
    {
     "ename": "TypeError",
     "evalue": "'str' object does not support item assignment",
     "output_type": "error",
     "traceback": [
      "\u001b[1;31m---------------------------------------------------------------------------\u001b[0m",
      "\u001b[1;31mTypeError\u001b[0m                                 Traceback (most recent call last)",
      "Cell \u001b[1;32mIn[35], line 2\u001b[0m\n\u001b[0;32m      1\u001b[0m \u001b[38;5;66;03m# inserting is possible: \u001b[39;00m\n\u001b[1;32m----> 2\u001b[0m mystring[\u001b[38;5;241m4\u001b[39m] \u001b[38;5;241m=\u001b[39m \u001b[38;5;124m'\u001b[39m\u001b[38;5;124mK\u001b[39m\u001b[38;5;124m'\u001b[39m\n",
      "\u001b[1;31mTypeError\u001b[0m: 'str' object does not support item assignment"
     ]
    }
   ],
   "source": [
    "# inserting is possible? \n",
    "mystring[4] = 'K'"
   ]
  },
  {
   "cell_type": "code",
   "execution_count": 36,
   "id": "86811d5e-68dc-41d6-8153-47d7b4dd5083",
   "metadata": {},
   "outputs": [
    {
     "ename": "TypeError",
     "evalue": "'str' object doesn't support item deletion",
     "output_type": "error",
     "traceback": [
      "\u001b[1;31m---------------------------------------------------------------------------\u001b[0m",
      "\u001b[1;31mTypeError\u001b[0m                                 Traceback (most recent call last)",
      "Cell \u001b[1;32mIn[36], line 3\u001b[0m\n\u001b[0;32m      1\u001b[0m \u001b[38;5;66;03m# deleting is possible?\u001b[39;00m\n\u001b[1;32m----> 3\u001b[0m \u001b[38;5;28;01mdel\u001b[39;00m mystring[\u001b[38;5;241m5\u001b[39m]\n",
      "\u001b[1;31mTypeError\u001b[0m: 'str' object doesn't support item deletion"
     ]
    }
   ],
   "source": [
    "# deleting is possible?\n",
    "\n",
    "del mystring[5]"
   ]
  },
  {
   "cell_type": "code",
   "execution_count": 40,
   "id": "ba5f0f51-c1c7-4b22-a6f5-fc8030399fb7",
   "metadata": {},
   "outputs": [
    {
     "data": {
      "text/plain": [
       "'pykton java'"
      ]
     },
     "execution_count": 40,
     "metadata": {},
     "output_type": "execute_result"
    }
   ],
   "source": [
    "# we can replace char in string within memory space:\n",
    "# using python string replace method:\n",
    "\n",
    "mystring.replace('h' , 'k') # we are changing but not saving"
   ]
  },
  {
   "cell_type": "code",
   "execution_count": 39,
   "id": "96b387d5-eaa5-4083-9b1e-2d3b4df34d85",
   "metadata": {},
   "outputs": [
    {
     "name": "stdout",
     "output_type": "stream",
     "text": [
      "pyhton java\n"
     ]
    }
   ],
   "source": [
    "print(mystring)"
   ]
  },
  {
   "cell_type": "code",
   "execution_count": 44,
   "id": "c55c6e22-f49b-4c0f-bf83-175b9ae85960",
   "metadata": {},
   "outputs": [
    {
     "data": {
      "text/plain": [
       "'pykhon'"
      ]
     },
     "execution_count": 44,
     "metadata": {},
     "output_type": "execute_result"
    }
   ],
   "source": [
    "a = 'python'\n",
    "a.replace('t' , 'k')"
   ]
  },
  {
   "cell_type": "code",
   "execution_count": 49,
   "id": "eb56d280-9ec5-4ab8-bf22-e4758dcfc7aa",
   "metadata": {},
   "outputs": [
    {
     "name": "stdout",
     "output_type": "stream",
     "text": [
      "pykhon\n"
     ]
    }
   ],
   "source": [
    "a = a.replace('t' , 'k')\n",
    "print (a)"
   ]
  },
  {
   "cell_type": "markdown",
   "id": "9ef71425-2594-421a-9bf7-4b44cfcac2f3",
   "metadata": {},
   "source": [
    "#### string methods"
   ]
  },
  {
   "cell_type": "code",
   "execution_count": 1,
   "id": "7e604b27-7d6f-4441-92d2-883de3b82b56",
   "metadata": {},
   "outputs": [
    {
     "data": {
      "text/plain": [
       "'I $m working in ZestIot $s Module le$d'"
      ]
     },
     "execution_count": 1,
     "metadata": {},
     "output_type": "execute_result"
    }
   ],
   "source": [
    "a = 'I am working in ZestIot as Module lead' # 3 a's\n",
    "a.replace('a' , '$')"
   ]
  },
  {
   "cell_type": "code",
   "execution_count": 2,
   "id": "ef3c71d8-fe3f-4e2b-a537-bf4304c20a77",
   "metadata": {},
   "outputs": [
    {
     "data": {
      "text/plain": [
       "'I $m working in ZestIot $s Module lead'"
      ]
     },
     "execution_count": 2,
     "metadata": {},
     "output_type": "execute_result"
    }
   ],
   "source": [
    "a = 'I am working in ZestIot as Module lead' # first 2 a's\n",
    "a.replace('a' , '$' , 2)"
   ]
  },
  {
   "cell_type": "code",
   "execution_count": 3,
   "id": "8bb2825e-23e8-44ac-a84a-f7dcd5d3c2e1",
   "metadata": {},
   "outputs": [
    {
     "data": {
      "text/plain": [
       "'Datascience'"
      ]
     },
     "execution_count": 3,
     "metadata": {},
     "output_type": "execute_result"
    }
   ],
   "source": [
    "# Capitalize\n",
    "\n",
    "a = 'datascience'\n",
    "a.capitalize()"
   ]
  },
  {
   "cell_type": "code",
   "execution_count": 4,
   "id": "a6d8d7bb-2241-4d52-883c-f8e9ebd87bae",
   "metadata": {},
   "outputs": [
    {
     "data": {
      "text/plain": [
       "'I am working in zestiot as module lead'"
      ]
     },
     "execution_count": 4,
     "metadata": {},
     "output_type": "execute_result"
    }
   ],
   "source": [
    "a = 'i am working in ZestIot as module lead'\n",
    "a.capitalize()"
   ]
  },
  {
   "cell_type": "code",
   "execution_count": 5,
   "id": "8696decf-7513-4d31-ba39-d2fa2bf51d09",
   "metadata": {},
   "outputs": [
    {
     "data": {
      "text/plain": [
       "3"
      ]
     },
     "execution_count": 5,
     "metadata": {},
     "output_type": "execute_result"
    }
   ],
   "source": [
    "# count : it is going to count the number of times appearance\n",
    "a = 'i am working in ZestIot as module lead'\n",
    "a.count('a')"
   ]
  },
  {
   "cell_type": "code",
   "execution_count": 6,
   "id": "f083cc62-5b33-49da-805a-333fefc908a2",
   "metadata": {},
   "outputs": [
    {
     "data": {
      "text/plain": [
       "2"
      ]
     },
     "execution_count": 6,
     "metadata": {},
     "output_type": "execute_result"
    }
   ],
   "source": [
    "a = 'i am working in ZestIot as module lead am'\n",
    "a.count('am')"
   ]
  },
  {
   "cell_type": "code",
   "execution_count": 7,
   "id": "45a6957e-d51a-44c9-9e4c-88db0e72cadd",
   "metadata": {},
   "outputs": [
    {
     "data": {
      "text/plain": [
       "False"
      ]
     },
     "execution_count": 7,
     "metadata": {},
     "output_type": "execute_result"
    }
   ],
   "source": [
    "# startswith and endswith will give us boolean value : True or False:\n",
    "\n",
    "a = 'i am working in ZestIot as module lead'\n",
    "a.startswith('I')"
   ]
  },
  {
   "cell_type": "code",
   "execution_count": 8,
   "id": "d528ecb8-3f76-43ea-8099-d6b1f5dd0e82",
   "metadata": {},
   "outputs": [
    {
     "data": {
      "text/plain": [
       "True"
      ]
     },
     "execution_count": 8,
     "metadata": {},
     "output_type": "execute_result"
    }
   ],
   "source": [
    "a = 'i am working in ZestIot as module lead'\n",
    "a.endswith('d')"
   ]
  },
  {
   "cell_type": "code",
   "execution_count": 16,
   "id": "4695fadd-4ba1-49fc-818c-310854725a7c",
   "metadata": {},
   "outputs": [
    {
     "data": {
      "text/plain": [
       "17"
      ]
     },
     "execution_count": 16,
     "metadata": {},
     "output_type": "execute_result"
    }
   ],
   "source": [
    "# index : will tell us index value of a character:\n",
    "a = 'i am staying in usa in NewYork'\n",
    "a.index('s', 10,19)\n"
   ]
  },
  {
   "cell_type": "code",
   "execution_count": 18,
   "id": "8c2256ea-d538-415d-a2f8-fbdc61a50f97",
   "metadata": {},
   "outputs": [
    {
     "data": {
      "text/plain": [
       "'i am staying in usa in newyork'"
      ]
     },
     "execution_count": 18,
     "metadata": {},
     "output_type": "execute_result"
    }
   ],
   "source": [
    "# Lower and Upper\n",
    "# lower means capital to small letter\n",
    "# upper means small letter to capital\n",
    "a = 'i am staying in usa in NewYork'\n",
    "a.lower()\n"
   ]
  },
  {
   "cell_type": "code",
   "execution_count": 19,
   "id": "bbb2f032-e5eb-456f-9de6-cbdc4babc764",
   "metadata": {},
   "outputs": [
    {
     "data": {
      "text/plain": [
       "'I AM STAYING IN USA IN NEWYORK'"
      ]
     },
     "execution_count": 19,
     "metadata": {},
     "output_type": "execute_result"
    }
   ],
   "source": [
    "a = 'i am staying in usa in NewYork'\n",
    "a.upper()"
   ]
  },
  {
   "cell_type": "code",
   "execution_count": 20,
   "id": "f62628f9-a2b7-43bb-9d75-6356c7a9b45f",
   "metadata": {},
   "outputs": [
    {
     "data": {
      "text/plain": [
       "False"
      ]
     },
     "execution_count": 20,
     "metadata": {},
     "output_type": "execute_result"
    }
   ],
   "source": [
    "# isupper and islower\n",
    "# they return boolean values if they satisfy:\n",
    "\n",
    "# checking whether each char is lower letter or not\":\n",
    "a = 'i am staying in usa in NewYork'\n",
    "a.islower()"
   ]
  },
  {
   "cell_type": "code",
   "execution_count": 21,
   "id": "277e5ed6-4e94-4104-bb81-83b1ceb207f6",
   "metadata": {},
   "outputs": [
    {
     "data": {
      "text/plain": [
       "False"
      ]
     },
     "execution_count": 21,
     "metadata": {},
     "output_type": "execute_result"
    }
   ],
   "source": [
    "a = 'i am staying in usa in NewYork'\n",
    "a.isupper()"
   ]
  },
  {
   "cell_type": "code",
   "execution_count": 22,
   "id": "79031c81-cb40-4231-933e-b2c41b4b5321",
   "metadata": {},
   "outputs": [
    {
     "data": {
      "text/plain": [
       "True"
      ]
     },
     "execution_count": 22,
     "metadata": {},
     "output_type": "execute_result"
    }
   ],
   "source": [
    "# isalpha, isdecimal and isdigit, isalphanum, isnumerical:\n",
    "\n",
    "\n",
    "# alnum = alphanumerical [numbers and characters]\n",
    "\n",
    "a = 'kamal123'\n",
    "a.isalnum()"
   ]
  },
  {
   "cell_type": "code",
   "execution_count": 23,
   "id": "1557a2e2-48cd-40f1-8dae-348f1d655d70",
   "metadata": {},
   "outputs": [
    {
     "data": {
      "text/plain": [
       "False"
      ]
     },
     "execution_count": 23,
     "metadata": {},
     "output_type": "execute_result"
    }
   ],
   "source": [
    "# isalpha : checks everything is alphabets or not:\n",
    "\n",
    "a.isalpha()"
   ]
  },
  {
   "cell_type": "code",
   "execution_count": 24,
   "id": "d98f500b-c278-44f9-8fd0-315acf3b8c33",
   "metadata": {},
   "outputs": [
    {
     "data": {
      "text/plain": [
       "False"
      ]
     },
     "execution_count": 24,
     "metadata": {},
     "output_type": "execute_result"
    }
   ],
   "source": [
    "# isdecimal : checks everything is numbers(float) or not:\n",
    "a.isdecimal()"
   ]
  },
  {
   "cell_type": "code",
   "execution_count": 25,
   "id": "13a936ab-a149-46cc-8669-b8d8a29a2794",
   "metadata": {},
   "outputs": [
    {
     "data": {
      "text/plain": [
       "False"
      ]
     },
     "execution_count": 25,
     "metadata": {},
     "output_type": "execute_result"
    }
   ],
   "source": [
    "isdigit : checks everything is numbers(integer) or not:\n",
    "a.isdigit()"
   ]
  },
  {
   "cell_type": "code",
   "execution_count": 26,
   "id": "4c846a8b-8a97-4da0-abb8-29ca3f31d530",
   "metadata": {},
   "outputs": [
    {
     "data": {
      "text/plain": [
       "'I Am Working In Zestiot As Module Lead'"
      ]
     },
     "execution_count": 26,
     "metadata": {},
     "output_type": "execute_result"
    }
   ],
   "source": [
    "# title : each word starting letter will be converted into capital\n",
    "a = 'i am working in ZestIot as Module lead'\n",
    "a.title()"
   ]
  },
  {
   "cell_type": "markdown",
   "id": "3566fe1b-c633-46de-a3ab-a6285847f4cf",
   "metadata": {},
   "source": [
    "# List in Python"
   ]
  },
  {
   "cell_type": "markdown",
   "id": "5ff4c67e-875a-4c6e-8be1-368d5db59cfe",
   "metadata": {},
   "source": [
    "- List is mutable [we can change the memory space]\n",
    "- List has its own methods : Ecah type has its own methods\n",
    "- List will be represented with []\n",
    "- List can accept any data type:\n"
   ]
  },
  {
   "cell_type": "code",
   "execution_count": 28,
   "id": "a93a8d29-00b3-4ec7-84c9-ce29eea5ce94",
   "metadata": {},
   "outputs": [
    {
     "name": "stdout",
     "output_type": "stream",
     "text": [
      "[10, 20, 30, 50.0, 'python']\n"
     ]
    }
   ],
   "source": [
    "a = [10,20,30,50.0, 'python']\n",
    "print(a)"
   ]
  },
  {
   "cell_type": "code",
   "execution_count": 29,
   "id": "1532c17b-badb-4cb1-b10c-620bda0a1a5b",
   "metadata": {},
   "outputs": [
    {
     "name": "stdout",
     "output_type": "stream",
     "text": [
      "50.0\n"
     ]
    }
   ],
   "source": [
    "print(a[3])"
   ]
  },
  {
   "cell_type": "code",
   "execution_count": 30,
   "id": "38ad5662-f5ac-4911-808f-fc71cd39a3ed",
   "metadata": {},
   "outputs": [
    {
     "name": "stdout",
     "output_type": "stream",
     "text": [
      "python\n"
     ]
    }
   ],
   "source": [
    "print(a[4])"
   ]
  },
  {
   "cell_type": "code",
   "execution_count": 34,
   "id": "fff87e44-d11b-4b9c-9183-a0f78c9b0c27",
   "metadata": {},
   "outputs": [
    {
     "name": "stdout",
     "output_type": "stream",
     "text": [
      "h\n"
     ]
    }
   ],
   "source": [
    "print(a[4][3])"
   ]
  },
  {
   "cell_type": "code",
   "execution_count": 35,
   "id": "4fd6ce1d-0689-4d61-9603-f3989dcb1636",
   "metadata": {},
   "outputs": [
    {
     "name": "stdout",
     "output_type": "stream",
     "text": [
      "30\n"
     ]
    }
   ],
   "source": [
    "print(a[-3])"
   ]
  },
  {
   "cell_type": "code",
   "execution_count": 36,
   "id": "ed4b2c1f-65e6-4864-bb9d-036940b05df6",
   "metadata": {},
   "outputs": [
    {
     "name": "stdout",
     "output_type": "stream",
     "text": [
      "python\n"
     ]
    }
   ],
   "source": [
    "print(a[-1])"
   ]
  },
  {
   "cell_type": "code",
   "execution_count": 38,
   "id": "ee00814e-c7cf-47a0-a5ed-17fc01cbd9ec",
   "metadata": {},
   "outputs": [
    {
     "name": "stdout",
     "output_type": "stream",
     "text": [
      "y\n"
     ]
    }
   ],
   "source": [
    "print(a[-1][1])"
   ]
  },
  {
   "cell_type": "code",
   "execution_count": 39,
   "id": "76b5de60-4a64-4292-a95e-a8b29c69fedb",
   "metadata": {},
   "outputs": [
    {
     "name": "stdout",
     "output_type": "stream",
     "text": [
      "[10, 20, 30, 50.0, 'python']\n"
     ]
    }
   ],
   "source": [
    "# reverse\n",
    "print(a[:])"
   ]
  },
  {
   "cell_type": "code",
   "execution_count": 40,
   "id": "54d09371-1f8f-4a20-a2a8-fbd8ec63ed4b",
   "metadata": {},
   "outputs": [
    {
     "name": "stdout",
     "output_type": "stream",
     "text": [
      "['python', 50.0, 30, 20, 10]\n"
     ]
    }
   ],
   "source": [
    "print(a[::-1])"
   ]
  },
  {
   "cell_type": "code",
   "execution_count": 41,
   "id": "c0e5958b-222c-4463-aa1d-1eba2cb5c2a9",
   "metadata": {},
   "outputs": [
    {
     "name": "stdout",
     "output_type": "stream",
     "text": [
      "[30, 50.0, 'python']\n"
     ]
    }
   ],
   "source": [
    "print(a[2:])"
   ]
  },
  {
   "cell_type": "code",
   "execution_count": 43,
   "id": "c1ab677e-20fb-4ec8-a803-5394d4c16d58",
   "metadata": {},
   "outputs": [
    {
     "name": "stdout",
     "output_type": "stream",
     "text": [
      "[10, 20, 30, 50.0]\n"
     ]
    }
   ],
   "source": [
    "print(a[:4])"
   ]
  },
  {
   "cell_type": "code",
   "execution_count": 44,
   "id": "3c8df90d-45e4-477f-b673-54c75097323d",
   "metadata": {},
   "outputs": [],
   "source": [
    "# we need to prove that list is mutable:\n",
    "# not only list any topic if we wnt to prve it is a mutable we need to come across 3 types:\n",
    "      \n",
    "      # check adding memory space\n",
    "      # check replace in the same memory space\n",
    "      # check delete memory space \n"
   ]
  },
  {
   "cell_type": "code",
   "execution_count": 45,
   "id": "fa1ea6b2-f9bc-4839-a108-bc7c75587822",
   "metadata": {},
   "outputs": [],
   "source": [
    "a = [10,100,200.5,'data science']"
   ]
  },
  {
   "cell_type": "code",
   "execution_count": 46,
   "id": "7839458f-3065-4b59-a47f-c2734bd77ac9",
   "metadata": {},
   "outputs": [
    {
     "name": "stdout",
     "output_type": "stream",
     "text": [
      "[10, 100, 200.5, 'data science']\n"
     ]
    }
   ],
   "source": [
    "print(a)"
   ]
  },
  {
   "cell_type": "code",
   "execution_count": 47,
   "id": "d9b5f2f3-8618-434f-adaa-af2a23468b4f",
   "metadata": {},
   "outputs": [
    {
     "ename": "IndexError",
     "evalue": "list assignment index out of range",
     "output_type": "error",
     "traceback": [
      "\u001b[1;31m---------------------------------------------------------------------------\u001b[0m",
      "\u001b[1;31mIndexError\u001b[0m                                Traceback (most recent call last)",
      "Cell \u001b[1;32mIn[47], line 3\u001b[0m\n\u001b[0;32m      1\u001b[0m \u001b[38;5;66;03m# Manually will assign memory space \u001b[39;00m\n\u001b[1;32m----> 3\u001b[0m a[\u001b[38;5;241m4\u001b[39m] \u001b[38;5;241m=\u001b[39m \u001b[38;5;241m1000\u001b[39m\n",
      "\u001b[1;31mIndexError\u001b[0m: list assignment index out of range"
     ]
    }
   ],
   "source": [
    "# Manually will assign memory space \n",
    "\n",
    "a[4] = 1000 # manually we cannot create a memory space"
   ]
  },
  {
   "cell_type": "code",
   "execution_count": 48,
   "id": "e864a607-57c2-4a19-a94f-6aabc9a33547",
   "metadata": {},
   "outputs": [],
   "source": [
    "# there is a method called append in list which gives permission to add memory space:\n",
    "# append method will create memory space only at the end:\n",
    "\n",
    "a.append(1000)"
   ]
  },
  {
   "cell_type": "code",
   "execution_count": 49,
   "id": "ec4ca651-37a4-4169-9ffd-80349e3c4db6",
   "metadata": {},
   "outputs": [
    {
     "name": "stdout",
     "output_type": "stream",
     "text": [
      "[10, 100, 200.5, 'data science', 1000]\n"
     ]
    }
   ],
   "source": [
    "print(a)"
   ]
  },
  {
   "cell_type": "code",
   "execution_count": 50,
   "id": "5bc6a152-cd87-4c73-b9c0-844d50649858",
   "metadata": {},
   "outputs": [],
   "source": [
    "a.append(65)"
   ]
  },
  {
   "cell_type": "code",
   "execution_count": 51,
   "id": "69370c72-b4fa-4be7-8cd8-5be63b8d9f8e",
   "metadata": {},
   "outputs": [
    {
     "name": "stdout",
     "output_type": "stream",
     "text": [
      "[10, 100, 200.5, 'data science', 1000, 65]\n"
     ]
    }
   ],
   "source": [
    "print(a)"
   ]
  },
  {
   "cell_type": "code",
   "execution_count": 1,
   "id": "9e03dce8-2b01-4fc4-8844-84d70dcd353e",
   "metadata": {},
   "outputs": [
    {
     "name": "stdout",
     "output_type": "stream",
     "text": [
      "[10, 20.2, 'data science']\n"
     ]
    }
   ],
   "source": [
    "# insert method can be used to create the memory space wherever we want: \n",
    "a = [10,20.2, 'data science']\n",
    "print (a)"
   ]
  },
  {
   "cell_type": "code",
   "execution_count": 2,
   "id": "4c56760c-ceea-49a8-81e8-819d51d4a4cb",
   "metadata": {},
   "outputs": [
    {
     "name": "stdout",
     "output_type": "stream",
     "text": [
      "[10, 20.2, 'python', 'data science']\n"
     ]
    }
   ],
   "source": [
    "a.insert(2, 'python')\n",
    "print(a)"
   ]
  },
  {
   "cell_type": "code",
   "execution_count": 3,
   "id": "a3450ff4-eca1-43f2-9539-24ec1b858890",
   "metadata": {},
   "outputs": [],
   "source": [
    "# replace\n",
    "\n",
    "a[3] = 'Artificial Intelligence'"
   ]
  },
  {
   "cell_type": "code",
   "execution_count": 4,
   "id": "03cbd598-72c2-402f-82c7-ac2948077f67",
   "metadata": {},
   "outputs": [
    {
     "name": "stdout",
     "output_type": "stream",
     "text": [
      "[10, 20.2, 'python', 'Artificial Intelligence']\n"
     ]
    }
   ],
   "source": [
    "print(a)"
   ]
  },
  {
   "cell_type": "code",
   "execution_count": 5,
   "id": "51767b21-7ae0-4cb1-9444-bc71bc002613",
   "metadata": {},
   "outputs": [],
   "source": [
    "# delete memory space:\n",
    "a = [10,20,30.5,'python']\n",
    "\n",
    "del a [3]"
   ]
  },
  {
   "cell_type": "code",
   "execution_count": 6,
   "id": "17292cba-127c-42f7-8a81-eb0e2d20d61b",
   "metadata": {},
   "outputs": [
    {
     "name": "stdout",
     "output_type": "stream",
     "text": [
      "[10, 20, 30.5]\n"
     ]
    }
   ],
   "source": [
    "print(a)"
   ]
  },
  {
   "cell_type": "code",
   "execution_count": 7,
   "id": "3a6cd200-338d-4cd3-8906-278e361e4efa",
   "metadata": {},
   "outputs": [],
   "source": [
    "## finally list is mutable : can change its behaviour:"
   ]
  },
  {
   "cell_type": "markdown",
   "id": "999facdb-ebf9-4151-96c3-8dc280af8065",
   "metadata": {},
   "source": [
    "# Methods in List:"
   ]
  },
  {
   "cell_type": "code",
   "execution_count": 8,
   "id": "31adc124-ad84-4897-be4c-25c6a39efef0",
   "metadata": {},
   "outputs": [
    {
     "name": "stdout",
     "output_type": "stream",
     "text": [
      "[100, 200, 300.56, 'raja', 'priya']\n"
     ]
    }
   ],
   "source": [
    "a = [100, 200, 300.56, 'raja', 'priya']\n",
    "print(a)"
   ]
  },
  {
   "cell_type": "code",
   "execution_count": 9,
   "id": "1d96bc2b-9c73-4244-b09b-9a63bf585a07",
   "metadata": {},
   "outputs": [],
   "source": [
    "a.clear() # it removes entire values in the list and make variable as empty: but clear cant delete variable\n"
   ]
  },
  {
   "cell_type": "code",
   "execution_count": 10,
   "id": "a8fa58e8-f28b-4321-897f-303f4c47aec3",
   "metadata": {},
   "outputs": [
    {
     "name": "stdout",
     "output_type": "stream",
     "text": [
      "[]\n"
     ]
    }
   ],
   "source": [
    "print(a)"
   ]
  },
  {
   "cell_type": "code",
   "execution_count": 11,
   "id": "ccc34047-6541-48a5-8d3c-16cfe4a58cb3",
   "metadata": {},
   "outputs": [
    {
     "ename": "NameError",
     "evalue": "name 'a' is not defined",
     "output_type": "error",
     "traceback": [
      "\u001b[1;31m---------------------------------------------------------------------------\u001b[0m",
      "\u001b[1;31mNameError\u001b[0m                                 Traceback (most recent call last)",
      "Cell \u001b[1;32mIn[11], line 4\u001b[0m\n\u001b[0;32m      2\u001b[0m a \u001b[38;5;241m=\u001b[39m [\u001b[38;5;241m100\u001b[39m, \u001b[38;5;241m200\u001b[39m, \u001b[38;5;241m300.56\u001b[39m, \u001b[38;5;124m'\u001b[39m\u001b[38;5;124mraja\u001b[39m\u001b[38;5;124m'\u001b[39m, \u001b[38;5;124m'\u001b[39m\u001b[38;5;124mpriya\u001b[39m\u001b[38;5;124m'\u001b[39m]\n\u001b[0;32m      3\u001b[0m \u001b[38;5;28;01mdel\u001b[39;00m a\n\u001b[1;32m----> 4\u001b[0m \u001b[38;5;28mprint\u001b[39m(a)\n",
      "\u001b[1;31mNameError\u001b[0m: name 'a' is not defined"
     ]
    }
   ],
   "source": [
    "# delete\n",
    "a = [100, 200, 300.56, 'raja', 'priya']\n",
    "del a\n",
    "print(a)"
   ]
  },
  {
   "cell_type": "code",
   "execution_count": 12,
   "id": "2cba80f8-f2b8-4254-90e1-57ee70b29486",
   "metadata": {},
   "outputs": [],
   "source": [
    "a = [100, 200, 300.56, 'raja', 'priya']"
   ]
  },
  {
   "cell_type": "code",
   "execution_count": 13,
   "id": "98081aee-db42-476c-b4e7-e3296dc8e5d5",
   "metadata": {},
   "outputs": [
    {
     "name": "stdout",
     "output_type": "stream",
     "text": [
      "[100, 200, 300.56, 'raja', 'priya']\n",
      "[100, 200, 300.56, 'raja', 'priya']\n"
     ]
    }
   ],
   "source": [
    "#copy:\n",
    "\n",
    "b=a # or we can use b = a.copy()\n",
    "print(a)\n",
    "print(b)"
   ]
  },
  {
   "cell_type": "code",
   "execution_count": 14,
   "id": "3cc1720c-564a-4f05-b5bb-1fa07fc2ff4b",
   "metadata": {},
   "outputs": [
    {
     "data": {
      "text/plain": [
       "1"
      ]
     },
     "execution_count": 14,
     "metadata": {},
     "output_type": "execute_result"
    }
   ],
   "source": [
    "# count:\n",
    "\n",
    "a.count(100)"
   ]
  },
  {
   "cell_type": "code",
   "execution_count": 15,
   "id": "c9fa8e25-316f-4e85-a144-bcd24a7aff7c",
   "metadata": {},
   "outputs": [
    {
     "data": {
      "text/plain": [
       "2"
      ]
     },
     "execution_count": 15,
     "metadata": {},
     "output_type": "execute_result"
    }
   ],
   "source": [
    "a = [100, 200, 300.56, 'raja', 'priya', 200]\n",
    "a.count(200)"
   ]
  },
  {
   "cell_type": "code",
   "execution_count": 16,
   "id": "4293e603-7875-46ef-b4a8-1ef3f2ae010e",
   "metadata": {},
   "outputs": [
    {
     "name": "stdout",
     "output_type": "stream",
     "text": [
      "[100, 200, 300.56, 'raja', 'priya', 200, 1, 2, 3, 4]\n"
     ]
    }
   ],
   "source": [
    "# extend - is going to add another list\n",
    "\n",
    "a = [100, 200, 300.56, 'raja', 'priya', 200]\n",
    "\n",
    "a.extend([1,2,3,4])\n",
    "\n",
    "print(a)"
   ]
  },
  {
   "cell_type": "code",
   "execution_count": 17,
   "id": "f12245fe-5c04-4d74-8886-fc2d7a050854",
   "metadata": {},
   "outputs": [
    {
     "data": {
      "text/plain": [
       "3"
      ]
     },
     "execution_count": 17,
     "metadata": {},
     "output_type": "execute_result"
    }
   ],
   "source": [
    "# index : used to find the index of value what we have given:\n",
    "\n",
    "a = [100, 200, 300.56, 'raja', 'priya', 200]\n",
    "a.index('raja')"
   ]
  },
  {
   "cell_type": "code",
   "execution_count": 18,
   "id": "b5c76264-1bfb-4e4c-bf9b-c5bdc4a440bc",
   "metadata": {},
   "outputs": [
    {
     "data": {
      "text/plain": [
       "1"
      ]
     },
     "execution_count": 18,
     "metadata": {},
     "output_type": "execute_result"
    }
   ],
   "source": [
    "a.index(200)"
   ]
  },
  {
   "cell_type": "code",
   "execution_count": 19,
   "id": "eace3c73-19b9-4cb2-9ab9-d02869f282fb",
   "metadata": {},
   "outputs": [
    {
     "data": {
      "text/plain": [
       "5"
      ]
     },
     "execution_count": 19,
     "metadata": {},
     "output_type": "execute_result"
    }
   ],
   "source": [
    "a.index(200, 3,6)"
   ]
  },
  {
   "cell_type": "code",
   "execution_count": 20,
   "id": "5f0c0718-e552-442e-906c-4d494cbd7a2a",
   "metadata": {},
   "outputs": [
    {
     "data": {
      "text/plain": [
       "200"
      ]
     },
     "execution_count": 20,
     "metadata": {},
     "output_type": "execute_result"
    }
   ],
   "source": [
    "# pop: used to remove the last memory space and we can also remove memory space wherever we want \n",
    "\n",
    "a = [100, 200, 300.56, 'raja', 'priya', 200]\n",
    "a.pop()"
   ]
  },
  {
   "cell_type": "code",
   "execution_count": 21,
   "id": "01b4a6f7-42aa-46e0-82db-252bec958f20",
   "metadata": {},
   "outputs": [
    {
     "name": "stdout",
     "output_type": "stream",
     "text": [
      "[100, 200, 300.56, 'raja', 'priya']\n"
     ]
    }
   ],
   "source": [
    "print(a)"
   ]
  },
  {
   "cell_type": "code",
   "execution_count": 22,
   "id": "5c430e70-b7e9-4fcb-8879-de5351d14e95",
   "metadata": {},
   "outputs": [
    {
     "data": {
      "text/plain": [
       "'raja'"
      ]
     },
     "execution_count": 22,
     "metadata": {},
     "output_type": "execute_result"
    }
   ],
   "source": [
    "a# remove wherever we want : using index\n",
    "\n",
    "a.pop(3)"
   ]
  },
  {
   "cell_type": "code",
   "execution_count": 24,
   "id": "1917cd09-e716-4aff-bfec-0a273e7919aa",
   "metadata": {},
   "outputs": [
    {
     "name": "stdout",
     "output_type": "stream",
     "text": [
      "[100, 200, 300.56, 'priya']\n"
     ]
    }
   ],
   "source": [
    "print(a)"
   ]
  },
  {
   "cell_type": "code",
   "execution_count": 25,
   "id": "2f00158b-c89a-439e-b11f-6663f637254a",
   "metadata": {},
   "outputs": [
    {
     "name": "stdout",
     "output_type": "stream",
     "text": [
      "[10, 20]\n"
     ]
    }
   ],
   "source": [
    "# del\n",
    "a = [10,20,30.4]\n",
    "del a[2]\n",
    "print(a)"
   ]
  },
  {
   "cell_type": "code",
   "execution_count": 26,
   "id": "567355d9-e010-4e58-a86b-242c281827f3",
   "metadata": {},
   "outputs": [
    {
     "name": "stdout",
     "output_type": "stream",
     "text": [
      "[10, 20]\n"
     ]
    }
   ],
   "source": [
    "# pop\n",
    "a = [10,20,30.4]\n",
    "a.pop()\n",
    "print(a)"
   ]
  },
  {
   "cell_type": "code",
   "execution_count": 27,
   "id": "93c7c695-97d5-4b3c-b55e-41f6c473c7bd",
   "metadata": {},
   "outputs": [
    {
     "name": "stdout",
     "output_type": "stream",
     "text": [
      "[10, 20]\n"
     ]
    }
   ],
   "source": [
    "# remove : doesnt take index it will take directly the value:\n",
    "\n",
    "a = [10,20,30.4]\n",
    "a.remove(30.4)\n",
    "print(a)"
   ]
  },
  {
   "cell_type": "code",
   "execution_count": 30,
   "id": "c1fb9235-9db2-41bd-bfac-b66a1bbdc387",
   "metadata": {},
   "outputs": [
    {
     "name": "stdout",
     "output_type": "stream",
     "text": [
      "[200, 'priya', 'raja', 300.56, 200, 100]\n"
     ]
    }
   ],
   "source": [
    "# reverse:\n",
    "a = [100, 200, 300.56, 'raja', 'priya', 200]\n",
    "a.reverse()\n",
    "print(a)"
   ]
  },
  {
   "cell_type": "code",
   "execution_count": 31,
   "id": "766e4867-6dad-4a9a-987b-3f4fc2aa1f69",
   "metadata": {},
   "outputs": [
    {
     "data": {
      "text/plain": [
       "[200, 'priya', 'raja', 300.56, 200, 100]"
      ]
     },
     "execution_count": 31,
     "metadata": {},
     "output_type": "execute_result"
    }
   ],
   "source": [
    "a = [100, 200, 300.56, 'raja', 'priya', 200]\n",
    "a[::-1]"
   ]
  },
  {
   "cell_type": "code",
   "execution_count": 32,
   "id": "4cbb7946-e5c4-456f-9f0a-231307f6df6f",
   "metadata": {},
   "outputs": [
    {
     "name": "stdout",
     "output_type": "stream",
     "text": [
      "[0, 2, 4, 5, 9, 10, 17, 44, 98]\n"
     ]
    }
   ],
   "source": [
    "# sort: simple make them in ascending or descending order\n",
    "\n",
    "# sort method will help us in doing this:\n",
    "a = [10,9,4,2,17,5,44,98,0]\n",
    "# make values in ascending order\n",
    "a.sort()  # default it will be ascending order\n",
    "print(a)"
   ]
  },
  {
   "cell_type": "code",
   "execution_count": 34,
   "id": "c23b914f-1545-468e-80bf-a5ea1b8cc66e",
   "metadata": {},
   "outputs": [
    {
     "name": "stdout",
     "output_type": "stream",
     "text": [
      "[98, 44, 17, 10, 9, 5, 4, 2, 0]\n"
     ]
    }
   ],
   "source": [
    "# but i want in desscending order:\n",
    "a = [10,9,4,2,17,5,44,98,0]\n",
    "\n",
    "a.sort(reverse=True) # for descending order use parameter in paranthesis\n",
    "\n",
    "print(a)"
   ]
  },
  {
   "cell_type": "code",
   "execution_count": 35,
   "id": "3de245e9-1f7e-465a-aaeb-0a88deb9b8b5",
   "metadata": {},
   "outputs": [
    {
     "name": "stdout",
     "output_type": "stream",
     "text": [
      "['a', 'b', 'e', 'g']\n"
     ]
    }
   ],
   "source": [
    "a = ['a', 'b', 'g', 'e']\n",
    "a.sort()\n",
    "print(a)"
   ]
  },
  {
   "cell_type": "code",
   "execution_count": 36,
   "id": "58ed4772-fcbd-470e-bed7-59dfe833763a",
   "metadata": {},
   "outputs": [
    {
     "name": "stdout",
     "output_type": "stream",
     "text": [
      "['all', 'below', 'cat', 'cat', 'zebra']\n"
     ]
    }
   ],
   "source": [
    "a = ['all' , 'below' ,'cat', 'zebra', 'cat']\n",
    "a.sort()\n",
    "print(a)"
   ]
  },
  {
   "cell_type": "code",
   "execution_count": 37,
   "id": "5c73e4a5-1a0f-4c4a-a379-25fd16a5270b",
   "metadata": {},
   "outputs": [],
   "source": [
    "# math operation in strings\n",
    "# split function in strings\n",
    "# join function in strings\n",
    "# membership function in strings and list\n",
    "# len , sum , max , min "
   ]
  },
  {
   "cell_type": "markdown",
   "id": "c0d54d0e-2fb6-4699-9dca-343f3072a6ca",
   "metadata": {},
   "source": [
    "# math operation in strings"
   ]
  },
  {
   "cell_type": "code",
   "execution_count": 39,
   "id": "97abdf95-81de-4c73-814c-1f01c7ecc250",
   "metadata": {},
   "outputs": [
    {
     "data": {
      "text/plain": [
       "True"
      ]
     },
     "execution_count": 39,
     "metadata": {},
     "output_type": "execute_result"
    }
   ],
   "source": [
    "10 > 9"
   ]
  },
  {
   "cell_type": "code",
   "execution_count": 38,
   "id": "af49b0f0-02dd-4471-8d11-c765d9885d6e",
   "metadata": {},
   "outputs": [
    {
     "name": "stdout",
     "output_type": "stream",
     "text": [
      "True\n"
     ]
    }
   ],
   "source": [
    "value1 = 'ab'\n",
    "value2 = 'AB'\n",
    "print(value1 > value2)"
   ]
  },
  {
   "cell_type": "code",
   "execution_count": 41,
   "id": "7ec63c22-ee31-4fb5-b4e3-197bb8f8aee2",
   "metadata": {},
   "outputs": [
    {
     "data": {
      "text/plain": [
       "'a'"
      ]
     },
     "execution_count": 41,
     "metadata": {},
     "output_type": "execute_result"
    }
   ],
   "source": [
    "chr(97)"
   ]
  },
  {
   "cell_type": "code",
   "execution_count": 42,
   "id": "1b7d1da0-201c-4fbc-8aa6-6fb5654326df",
   "metadata": {},
   "outputs": [
    {
     "data": {
      "text/plain": [
       "'E'"
      ]
     },
     "execution_count": 42,
     "metadata": {},
     "output_type": "execute_result"
    }
   ],
   "source": [
    "chr(69) # chr converts number to its character"
   ]
  },
  {
   "cell_type": "code",
   "execution_count": 43,
   "id": "ef01350d-b5f1-4e0b-9beb-9b6dccbdc6b4",
   "metadata": {},
   "outputs": [
    {
     "data": {
      "text/plain": [
       "65"
      ]
     },
     "execution_count": 43,
     "metadata": {},
     "output_type": "execute_result"
    }
   ],
   "source": [
    "ord('A') # ord converts character to ascii number"
   ]
  },
  {
   "cell_type": "code",
   "execution_count": 49,
   "id": "29bb431e-6b53-48f6-9efc-95b12fad7d7d",
   "metadata": {},
   "outputs": [
    {
     "name": "stdout",
     "output_type": "stream",
     "text": [
      "True\n",
      "False\n",
      "True\n",
      "False\n"
     ]
    }
   ],
   "source": [
    "# Membership function in string and list: it is a boolean outcome\n",
    "\n",
    "a = [10,20,30.5,'python']\n",
    "print(10 in a)\n",
    "print(100 in a)\n",
    "print('python' in a)\n",
    "print(20 not in a)"
   ]
  },
  {
   "cell_type": "code",
   "execution_count": 51,
   "id": "131b91f8-9294-4a1d-9f2b-e08147199136",
   "metadata": {},
   "outputs": [
    {
     "name": "stdout",
     "output_type": "stream",
     "text": [
      "11\n"
     ]
    }
   ],
   "source": [
    "# len , sum , max , min in strings:\n",
    "\n",
    "a = 'python java'\n",
    "\n",
    "# len = will give you the number of character\n",
    "print(len(a))"
   ]
  },
  {
   "cell_type": "code",
   "execution_count": 55,
   "id": "a322b977-77d3-4954-aa21-002fdcdec626",
   "metadata": {},
   "outputs": [],
   "source": [
    "# sum = addd each ascii value\n",
    "\n",
    "a = 'abc'"
   ]
  },
  {
   "cell_type": "code",
   "execution_count": 52,
   "id": "8ff41b2d-c482-42c3-85f4-ea56d00992ca",
   "metadata": {},
   "outputs": [
    {
     "name": "stdout",
     "output_type": "stream",
     "text": [
      "c\n"
     ]
    }
   ],
   "source": [
    "a = 'abc'\n",
    "\n",
    "# max = maximum value\n",
    "\n",
    "print(max(a))"
   ]
  },
  {
   "cell_type": "code",
   "execution_count": 53,
   "id": "d9d16b34-c9f1-4314-8e01-d37c4b0b9315",
   "metadata": {},
   "outputs": [
    {
     "name": "stdout",
     "output_type": "stream",
     "text": [
      "a\n"
     ]
    }
   ],
   "source": [
    "a = 'abc'\n",
    "print(min(a))"
   ]
  },
  {
   "cell_type": "code",
   "execution_count": 56,
   "id": "9e68b672-ed18-4194-854c-9094a51829fd",
   "metadata": {},
   "outputs": [
    {
     "name": "stdout",
     "output_type": "stream",
     "text": [
      "4\n"
     ]
    }
   ],
   "source": [
    "# list:\n",
    "a = [10,20,300.5,70]\n",
    "print(len(a))"
   ]
  },
  {
   "cell_type": "code",
   "execution_count": 57,
   "id": "ea5a7ce7-5aa0-424d-a389-f480d6be8d45",
   "metadata": {},
   "outputs": [
    {
     "name": "stdout",
     "output_type": "stream",
     "text": [
      "400.5\n"
     ]
    }
   ],
   "source": [
    "print(sum(a))"
   ]
  },
  {
   "cell_type": "code",
   "execution_count": 58,
   "id": "e10c8d2d-e23c-47c3-8173-59806783c26c",
   "metadata": {},
   "outputs": [
    {
     "name": "stdout",
     "output_type": "stream",
     "text": [
      "300.5\n"
     ]
    }
   ],
   "source": [
    "print(max(a))"
   ]
  },
  {
   "cell_type": "code",
   "execution_count": 59,
   "id": "18585df1-b336-4079-beae-c17f968cfbe3",
   "metadata": {},
   "outputs": [
    {
     "name": "stdout",
     "output_type": "stream",
     "text": [
      "10\n"
     ]
    }
   ],
   "source": [
    "print(min(a))"
   ]
  },
  {
   "cell_type": "markdown",
   "id": "b781c45d-b6c8-4d83-8233-dd29e5783007",
   "metadata": {},
   "source": [
    "# split function : \n"
   ]
  },
  {
   "cell_type": "code",
   "execution_count": 61,
   "id": "53a2a116-ddfc-4585-90af-1dab7c52a4de",
   "metadata": {},
   "outputs": [
    {
     "name": "stdout",
     "output_type": "stream",
     "text": [
      "['i', 'worked', 'in', 'microsoft', 'for', '1.5', 'years']\n"
     ]
    }
   ],
   "source": [
    "# breaking into pieces \n",
    "\n",
    "a = ' i worked in microsoft for 1.5 years'\n",
    "b = a.split() # break them into pieces default it will select as space\n",
    "print(b)"
   ]
  },
  {
   "cell_type": "code",
   "execution_count": 63,
   "id": "0c375a8e-74ab-49ea-b778-7fef6383ebcf",
   "metadata": {},
   "outputs": [
    {
     "data": {
      "text/plain": [
       "['i', 'worked', 'in', 'microsoft', 'for', '1.5', 'years']"
      ]
     },
     "execution_count": 63,
     "metadata": {},
     "output_type": "execute_result"
    }
   ],
   "source": [
    "a = ' i worked in microsoft for 1.5 years'\n",
    "a.split()"
   ]
  },
  {
   "cell_type": "code",
   "execution_count": 65,
   "id": "6570a534-4f63-4edd-8a7e-22c591317092",
   "metadata": {},
   "outputs": [
    {
     "name": "stdout",
     "output_type": "stream",
     "text": [
      "[' i worked in microsoft for 1.5', ' years']\n"
     ]
    }
   ],
   "source": [
    "a = ' i worked in microsoft for 1.5, years'\n",
    "b = a.split(',') # we can specify our own split are\n",
    "print(b)"
   ]
  },
  {
   "cell_type": "code",
   "execution_count": 1,
   "id": "7866bd38-34e5-4246-a59a-f0ce398769cd",
   "metadata": {},
   "outputs": [
    {
     "name": "stdout",
     "output_type": "stream",
     "text": [
      "['My', 'name', 'is', 'kamal', 'and', 'my', 'age', 'is']\n"
     ]
    }
   ],
   "source": [
    "c = 'My name is kamal and my age is'\n",
    "d = c.split()\n",
    "print(d)\n"
   ]
  },
  {
   "cell_type": "code",
   "execution_count": 16,
   "id": "22a2f2a1-9af6-4d51-b1d0-600f413a19ec",
   "metadata": {},
   "outputs": [
    {
     "name": "stdout",
     "output_type": "stream",
     "text": [
      "My name is kamal and my age is\n",
      "['My', 'name', 'is', 'kamal', 'and', 'my', 'age', 'is']\n"
     ]
    }
   ],
   "source": [
    "print(c)\n",
    "d = c.split()\n",
    "print(d)"
   ]
  },
  {
   "cell_type": "code",
   "execution_count": 17,
   "id": "a586b875-9a1e-4a73-8aeb-200f88b46916",
   "metadata": {},
   "outputs": [
    {
     "name": "stdout",
     "output_type": "stream",
     "text": [
      "['My', 'name', 'is', 'kamal', 'and', 'my', 'age', 'is', '25']\n"
     ]
    }
   ],
   "source": [
    "d.append(str(25))\n",
    "print(d)"
   ]
  },
  {
   "cell_type": "code",
   "execution_count": 21,
   "id": "eae97f7b-03b9-4d4d-a62b-772ebfb7c915",
   "metadata": {},
   "outputs": [
    {
     "name": "stdout",
     "output_type": "stream",
     "text": [
      "My name is kamal and my age is 25\n"
     ]
    }
   ],
   "source": [
    "# join function is used to join each word:\n",
    "\n",
    "sol = ' '.join(d)\n",
    "print(sol)"
   ]
  },
  {
   "cell_type": "code",
   "execution_count": 23,
   "id": "a68bb6ff-97f1-4a70-8a70-202a96c867fd",
   "metadata": {},
   "outputs": [
    {
     "name": "stdout",
     "output_type": "stream",
     "text": [
      "i am from india\n"
     ]
    }
   ],
   "source": [
    "a = ['i', 'am' , 'from' , 'india']\n",
    "# if there is a list and inside the list there is a string and if you want to add them use join\n",
    "\n",
    "sol = ' '.join(a)\n",
    "print(sol)"
   ]
  },
  {
   "cell_type": "code",
   "execution_count": 36,
   "id": "65d71baa-9ca6-4e2d-b285-6fe7f1fdc416",
   "metadata": {},
   "outputs": [
    {
     "name": "stdout",
     "output_type": "stream",
     "text": [
      "['I', 'Love', 'programming', 'language']\n",
      "language.programming.Love.I\n"
     ]
    }
   ],
   "source": [
    "## question: capegemini interview\n",
    "\n",
    "value = 'I.Love.programming.language'\n",
    "\n",
    "# output = language.programming.love.I\n",
    "\n",
    "b = value.split('.')\n",
    "print(b)\n",
    "c = b[::-1]\n",
    "d = '.'.join(c)\n",
    "print(d)"
   ]
  },
  {
   "cell_type": "code",
   "execution_count": 37,
   "id": "43af510b-32a2-4b33-b1ac-cf0fb228f3af",
   "metadata": {},
   "outputs": [],
   "source": [
    "# end of strings and list."
   ]
  },
  {
   "cell_type": "code",
   "execution_count": null,
   "id": "700045c9-44c8-42b0-baaf-1bcaca9b7325",
   "metadata": {},
   "outputs": [],
   "source": []
  }
 ],
 "metadata": {
  "kernelspec": {
   "display_name": "Python 3 (ipykernel)",
   "language": "python",
   "name": "python3"
  },
  "language_info": {
   "codemirror_mode": {
    "name": "ipython",
    "version": 3
   },
   "file_extension": ".py",
   "mimetype": "text/x-python",
   "name": "python",
   "nbconvert_exporter": "python",
   "pygments_lexer": "ipython3",
   "version": "3.11.7"
  }
 },
 "nbformat": 4,
 "nbformat_minor": 5
}
